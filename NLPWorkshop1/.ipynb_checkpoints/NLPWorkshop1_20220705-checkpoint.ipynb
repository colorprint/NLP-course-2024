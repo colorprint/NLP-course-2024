{
 "cells": [
  {
   "cell_type": "markdown",
   "id": "3ca0fb38",
   "metadata": {},
   "source": [
    "# NLP Workshop 1\n",
    "# NLP Basics with NLTK"
   ]
  },
  {
   "cell_type": "markdown",
   "id": "c5543f13",
   "metadata": {},
   "source": [
    "## 10.1. What is NLTK?"
   ]
  },
  {
   "cell_type": "markdown",
   "id": "42026db7",
   "metadata": {},
   "source": [
    "In order to deal with the human language data that used in statistical natural language processing (NLP) application, Natural Language Toolkit (NLTK) is designed for building Python programs.\n",
    "\n",
    "Offical site of NLTK -- https://www.nltk.org/. \n",
    "\n",
    "It was developed by Steven Bird and Edward Loper in the Department of Computer and Information Science at the University of Pennsylvania, bundled with their classical book Natural Language Processing with Python published by O'Reilly Media Inc in 2009.\n",
    "\n",
    "There are 32 universities in the US and 25 countries using NLTK in their courses.\n",
    "\n",
    "Although the textbook haven't update from 2009 and all the implementations are done under Python 2.X, still this book can be considered as the \"Bible\" and \"Starting-point\" for anyone who would like to learn applied NLP and implement NLP applications using Python. \n",
    "\n",
    "The latest version of NLTK now (as of 22 Jan 2022) is version 3.6.5.\n",
    "\n",
    "NLTK provides easy-to-use interfaces to over 50 corpora and lexical resources such as WordNet - WordNet® is a large lexical database of English. Nouns, verbs, adjectives and adverbs are grouped into sets of cognitive synonyms (synsets), each expressing a distinct concept and also one of the most important the fundamental lexical database in NLP world, developed by Pricenton University from 1980's https://wordnet.princeton.edu/.\n",
    "\n",
    "Other lexical databases and corpora such as the Penn Treebank Corpus, Open Multilingual Wordnet, Problem Report Corpus, and Lin’s Dependency Thesaurus.\n",
    "\n",
    "In fact,the most important feature of NLTK is that it contains the basic statistical-based text processing libraries for FIVE fundamental NLP enabling technology together with basic semantic reasoning tool, which include: \n",
    "- tokenization\n",
    "- parsing\n",
    "- classification\n",
    "- stemming\n",
    "- tagging\n",
    "- basic semantic reasoning\n",
    "\n",
    "It also includes graphical demonstrations and sample data sets as well as accompanied by a cook book and a book which explains the principles behind the underlying language processing tasks that NLTK supports."
   ]
  },
  {
   "cell_type": "markdown",
   "id": "1cb63ed2",
   "metadata": {},
   "source": [
    "## 10.2. A Taste of NLTK on Text Tokenization"
   ]
  },
  {
   "cell_type": "code",
   "execution_count": 1,
   "id": "de225c60",
   "metadata": {},
   "outputs": [],
   "source": [
    "# Import NLTK package\n",
    "import nltk"
   ]
  },
  {
   "cell_type": "code",
   "execution_count": 2,
   "id": "64e265f0",
   "metadata": {},
   "outputs": [],
   "source": [
    "# Create a sample utterance 1 (utt1)\n",
    "utt1 = \"On every weekend, early in the morning. I drive my car to the car center for car washing. Like clock-work.\""
   ]
  },
  {
   "cell_type": "code",
   "execution_count": 3,
   "id": "6753e3ac",
   "metadata": {},
   "outputs": [
    {
     "data": {
      "text/plain": [
       "'On every weekend, early in the morning. I drive my car to the car center for car washing. Like clock-work.'"
      ]
     },
     "execution_count": 3,
     "metadata": {},
     "output_type": "execute_result"
    }
   ],
   "source": [
    "# Display utterance\n",
    "utt1"
   ]
  },
  {
   "cell_type": "code",
   "execution_count": 4,
   "id": "b3d6fdf3",
   "metadata": {},
   "outputs": [],
   "source": [
    "# Create utterance tokens (utokens)\n",
    "utokens = nltk.word_tokenize(utt1)"
   ]
  },
  {
   "cell_type": "code",
   "execution_count": 5,
   "id": "4d7a72e6",
   "metadata": {},
   "outputs": [
    {
     "data": {
      "text/plain": [
       "['On',\n",
       " 'every',\n",
       " 'weekend',\n",
       " ',',\n",
       " 'early',\n",
       " 'in',\n",
       " 'the',\n",
       " 'morning',\n",
       " '.',\n",
       " 'I',\n",
       " 'drive',\n",
       " 'my',\n",
       " 'car',\n",
       " 'to',\n",
       " 'the',\n",
       " 'car',\n",
       " 'center',\n",
       " 'for',\n",
       " 'car',\n",
       " 'washing',\n",
       " '.',\n",
       " 'Like',\n",
       " 'clock-work',\n",
       " '.']"
      ]
     },
     "execution_count": 5,
     "metadata": {},
     "output_type": "execute_result"
    }
   ],
   "source": [
    "# Display utokens\n",
    "utokens"
   ]
  },
  {
   "cell_type": "markdown",
   "id": "ff5ab004",
   "metadata": {},
   "source": [
    "## 10.3. How to Install NLTK?\n",
    "#### Step 1 Install Python 3.X\n",
    "#### Step 2 Install NLTK\n",
    "#### 2.1 Start CMD or other Command Line Tool\n",
    "#### 2.2 Type 'pip install nltk'"
   ]
  },
  {
   "cell_type": "markdown",
   "id": "99dec802",
   "metadata": {},
   "source": [
    "<img src=\"./Fig10.1.png\" width = \"\" height = \"\" alt=\"NLTK installation\" align=left />"
   ]
  },
  {
   "cell_type": "markdown",
   "id": "ecef1e80",
   "metadata": {},
   "source": [
    "#### Step 3 Install NLTK Data\n",
    "#### Once you finished install NLTK into Python, you can download the NLTK Data\n",
    "#### 3.1 Run Python\n",
    "#### 3.2 Type the following to activate the NLTK downloader.\n",
    "- import nltk\n",
    "- nltk.download()\n",
    "\n",
    "Note: nltk.downloader() will automatically invoke the NLTK downloader, a separate window-based downloading module for user to download FOUR different types of NLP DATA into their Python machines. They include: Collection libraries, Corpora, Modules and other NLP packages. \n",
    "\n",
    "<img src=\"./Fig10.2.png\" width = \"\" height = \"\" alt=\"NLTK installation\" align=left />"
   ]
  },
  {
   "cell_type": "markdown",
   "id": "e4f246c7",
   "metadata": {},
   "source": [
    "It will automatically install the related Corpora library, NLTK models and Packages like this:\n",
    "\n",
    "##### \n",
    "##### Corpora library\n",
    "<img src=\"./Fig10.3.png\" width = \"\" height = \"\" alt=\"NLTK installation\" align=left />\n",
    "\n",
    "##### \n",
    "##### NLTK models\n",
    "<img src=\"./Fig10.4.png\" width = \"\" height = \"\" alt=\"NLTK installation\" align=left />"
   ]
  },
  {
   "cell_type": "markdown",
   "id": "86094b3a",
   "metadata": {},
   "source": [
    "## 10.4. Why using Python for NLP?"
   ]
  },
  {
   "cell_type": "markdown",
   "id": "10699041",
   "metadata": {},
   "source": [
    "Before the popularity of Python in AI and NLP, C, C++ and later on Java dominate the world of software development. \n",
    "However, started from early 2000, Python and their associate toolkit and packages start to dominate the world of software development, especially in the areas of Data Science, AI and NLP. \n",
    "\n",
    "Several reasons to drive for the changes:\n",
    "1. Python is a generalist language, means that it does not specialize in one area. \n",
    "2. Other commonly used language such as Java and JavaScript, on the other hand, is specifically designed for use on the web, thet are most suitable for developing web applications and websites. \n",
    "3. Python, on the other hand, is a generalist language, which means it can be used for a wide variety of purposes, including:\n",
    "- Data Science Analysis and Applications\n",
    "- Developing web apps\n",
    "- Creating software (both Web or Non-web based)\n",
    "- AI modeling and applications (e.g. building Deep Networks)\n",
    "- Natural language processing \n",
    "4. Easy to learn and use. As compared with C and C++, Python is much easier to learn. Especially useful for non-computer science students and scientists. \n",
    "5. In term of NLP, Python's list and list-processing data-type provide an excellent environment for the NLP modeling. \n",
    "\n",
    "The following simple Python program shows how Python handle text as list objects, itself already an excellent tokenization tool in NLP!!!"
   ]
  },
  {
   "cell_type": "code",
   "execution_count": 6,
   "id": "6b36735d",
   "metadata": {},
   "outputs": [],
   "source": [
    "# Define utterance 2 (utt2)\n",
    "utt2 = \"Hello world. How are you?\""
   ]
  },
  {
   "cell_type": "code",
   "execution_count": 7,
   "id": "784e55fa",
   "metadata": {},
   "outputs": [
    {
     "data": {
      "text/plain": [
       "['Hello', 'world.', 'How', 'are', 'you?']"
      ]
     },
     "execution_count": 7,
     "metadata": {},
     "output_type": "execute_result"
    }
   ],
   "source": [
    "# Using split() method to split it into word tokens\n",
    "utt2.split()"
   ]
  },
  {
   "cell_type": "code",
   "execution_count": 8,
   "id": "904469f8",
   "metadata": {},
   "outputs": [
    {
     "name": "stdout",
     "output_type": "stream",
     "text": [
      "'Hello world. How are you?' contains  5  words.\n"
     ]
    }
   ],
   "source": [
    "# Check the no of word tokens\n",
    "nwords = len(utt2.split())\n",
    "print (\"'Hello world. How are you?' contains \",nwords,\" words.\")"
   ]
  },
  {
   "cell_type": "markdown",
   "id": "a2110326",
   "metadata": {},
   "source": [
    "#### The following Python codes show how easy for Python to count the number of words from the famous novel \"Alice’s Adventures in Wonderland by Lewis Carroll\" as compared with other languages such as C or Java. "
   ]
  },
  {
   "cell_type": "code",
   "execution_count": 9,
   "id": "69e741ee",
   "metadata": {},
   "outputs": [
    {
     "name": "stdout",
     "output_type": "stream",
     "text": [
      "The literature alice.txt contains 29465 words.\n"
     ]
    }
   ],
   "source": [
    "# Define method to count the number of word tokens in text file (cwords)\n",
    "def cwords(literature):\n",
    "    try:\n",
    "        with open(literature, encoding='utf-8') as f_lit:\n",
    "            c_lit = f_lit.read() \n",
    "    except FileNotFoundError:\n",
    "        err = \"Sorry, the literature \" + literature + \" does not exist.\"\n",
    "        print(err)\n",
    "    else:\n",
    "        w_lit = c_lit.split()\n",
    "        nwords = len(w_lit)\n",
    "        print(\"The literature \" + literature + \" contains \" + str(nwords) + \" words.\")\n",
    "\n",
    "literature = 'alice.txt'\n",
    "cwords(literature)"
   ]
  },
  {
   "cell_type": "markdown",
   "id": "df2cdd28",
   "metadata": {},
   "source": [
    "In this course, I have extracted four famous classics from Project Gutenberg for you to try, they are:\n",
    "1. Alice's Adventures in Wonderland by Lewis Carroll (alice.txt)\n",
    "2. Little Women by Louisa May Alcott (little_women.txt)\n",
    "3. Moby Dick by Herman Melville (moby_dick.txt)\n",
    "4. The Adventures of Sherlock Holmes by Arthur Conan Doyle (Adventures_Holmes.txt)"
   ]
  },
  {
   "cell_type": "code",
   "execution_count": 10,
   "id": "ad40ee22",
   "metadata": {},
   "outputs": [
    {
     "name": "stdout",
     "output_type": "stream",
     "text": [
      "The literature Adventures_Holmes.txt contains 107411 words.\n"
     ]
    }
   ],
   "source": [
    "# Invoke cwords() method to count no of word in Adventures_Holmes.txt\n",
    "cwords('Adventures_Holmes.txt')"
   ]
  },
  {
   "cell_type": "markdown",
   "id": "a2e744f8",
   "metadata": {},
   "source": [
    "## 10.5. NLTK with Basic Text Processing in NLP"
   ]
  },
  {
   "cell_type": "markdown",
   "id": "1984d234",
   "metadata": {},
   "source": [
    "As said, one important feature NLTK is the provision of simple Python tools and methods for us to learn and practise NLP technology, which started by Basic Text Processing in NLP. \n",
    "They include:\n",
    "1. Basic text processing as lists of words.\n",
    "2. Basic statistics on text processing in NLP. \n",
    "3. Simple text analysis. "
   ]
  },
  {
   "cell_type": "markdown",
   "id": "e52717fc",
   "metadata": {},
   "source": [
    "Before we start, of course we need to use some text document to start with. \n",
    "Just like Project Gutenburg word counting we have just learnt, nothing is more straight forward than start with analyzing the classics literature such as Moby Dick. \n",
    "However, in terms of NLP, it is even much better if we can study the text analysis of a variety of document types, such as classics, news and articles and even public speeches. \n",
    "Why? ....\n",
    "So in NLTK, it provides NINE typical text documents for us to start with. It contains: classic literatures, bible texts, famous public speeches, news and articles, and personal corpus. \n",
    "So, let's start ..."
   ]
  },
  {
   "cell_type": "code",
   "execution_count": 11,
   "id": "805eb4f9",
   "metadata": {},
   "outputs": [
    {
     "name": "stdout",
     "output_type": "stream",
     "text": [
      "*** Introductory Examples for the NLTK Book ***\n",
      "Loading text1, ..., text9 and sent1, ..., sent9\n",
      "Type the name of the text or sentence to view it.\n",
      "Type: 'texts()' or 'sents()' to list the materials.\n",
      "text1: Moby Dick by Herman Melville 1851\n",
      "text2: Sense and Sensibility by Jane Austen 1811\n",
      "text3: The Book of Genesis\n",
      "text4: Inaugural Address Corpus\n",
      "text5: Chat Corpus\n",
      "text6: Monty Python and the Holy Grail\n",
      "text7: Wall Street Journal\n",
      "text8: Personals Corpus\n",
      "text9: The Man Who Was Thursday by G . K . Chesterton 1908\n"
     ]
    }
   ],
   "source": [
    "# Let's load some sample books from NLTK databank\n",
    "import nltk\n",
    "from nltk.book import *"
   ]
  },
  {
   "cell_type": "code",
   "execution_count": 12,
   "id": "03118df2",
   "metadata": {},
   "outputs": [
    {
     "name": "stdout",
     "output_type": "stream",
     "text": [
      "text1: Moby Dick by Herman Melville 1851\n",
      "text2: Sense and Sensibility by Jane Austen 1811\n",
      "text3: The Book of Genesis\n",
      "text4: Inaugural Address Corpus\n",
      "text5: Chat Corpus\n",
      "text6: Monty Python and the Holy Grail\n",
      "text7: Wall Street Journal\n",
      "text8: Personals Corpus\n",
      "text9: The Man Who Was Thursday by G . K . Chesterton 1908\n"
     ]
    }
   ],
   "source": [
    "# Display the list of sample books\n",
    "texts()"
   ]
  },
  {
   "cell_type": "code",
   "execution_count": 13,
   "id": "af56ff8b",
   "metadata": {},
   "outputs": [
    {
     "data": {
      "text/plain": [
       "<Text: Moby Dick by Herman Melville 1851>"
      ]
     },
     "execution_count": 13,
     "metadata": {},
     "output_type": "execute_result"
    }
   ],
   "source": [
    "# Check text1\n",
    "text1"
   ]
  },
  {
   "cell_type": "code",
   "execution_count": 14,
   "id": "bce5066f",
   "metadata": {},
   "outputs": [],
   "source": [
    "# Know more about text1, check this\n",
    "text1?"
   ]
  },
  {
   "cell_type": "code",
   "execution_count": 15,
   "id": "ecc2f3c0",
   "metadata": {},
   "outputs": [],
   "source": [
    "# Import word_tokenize as wtoken\n",
    "from nltk.tokenize import word_tokenize\n",
    "\n",
    "# Open Adventures_Holmes.txt and performs tokenization \n",
    "fholmes = open(\"Adventures_Holmes.txt\",\"r\",encoding=\"utf-8\").read()\n",
    "wtokens = word_tokenize(fholmes)\n",
    "tholmes=nltk.text.Text(wtokens)"
   ]
  },
  {
   "cell_type": "markdown",
   "id": "96280218",
   "metadata": {},
   "source": [
    "## 10.6 Simple Text Analysis using \"concordance()\" , \"similar()\" and \"common_texts()\""
   ]
  },
  {
   "cell_type": "markdown",
   "id": "3e115b04",
   "metadata": {},
   "source": [
    "In text analysis, one common operation is to study how a particular word (or phrase) appeared in a text document, especially in a classical and famous literature and text document such as public speeches. \n",
    "Different from normal \"search\" function, \"concordance()\" (索引) function allows us to study and analyze how a particular appeared within a text document. In other words, it not only shows the occurence, but more importantly the \"neighbouring words and phrases\" as well. \n",
    "Let's try some example in Adventures Holmes."
   ]
  },
  {
   "cell_type": "code",
   "execution_count": 16,
   "id": "f3da8880",
   "metadata": {},
   "outputs": [
    {
     "name": "stdout",
     "output_type": "stream",
     "text": [
      "Displaying 25 of 98 matches:\n",
      "﻿The Adventures of Sherlock Holmes by Arthur Conan Doyle Conte\n",
      "es I . A SCANDAL IN BOHEMIA I . To Sherlock Holmes she is always _the_ woman .\n",
      "ust such as I had pictured it from Sherlock Holmes ’ succinct description , bu\n",
      "ssing said : “ Good-night , Mister Sherlock Holmes. ” There were several peopl\n",
      "lly got it ! ” he cried , grasping Sherlock Holmes by either shoulder and look\n",
      "stepped from the brougham . “ Mr . Sherlock Holmes , I believe ? ” said she . \n",
      "ss for the Continent. ” “ What ! ” Sherlock Holmes staggered back , white with\n",
      ", the letter was superscribed to “ Sherlock Holmes , Esq . To be left till cal\n",
      "nd ran in this way : “ MY DEAR MR. SHERLOCK HOLMES , —You really did it very w\n",
      " of interest to the celebrated Mr. Sherlock Holmes . Then I , rather imprudent\n",
      " possess ; and I remain , dear Mr. Sherlock Holmes , “ Very truly yours , “ IR\n",
      "ia , and how the best plans of Mr. Sherlock Holmes were beaten by a woman ’ s \n",
      " I had called upon my friend , Mr. Sherlock Holmes , one day in the autumn of \n",
      "and discontent upon his features . Sherlock Holmes ’ quick eye took in my occu\n",
      "t as I have been telling you , Mr. Sherlock Holmes , ” said Jabez Wilson , mop\n",
      "e of this obliging youth ? ” asked Sherlock Holmes . “ His name is Vincent Spa\n",
      "IS DISSOLVED . October 9 , 1890. ” Sherlock Holmes and I surveyed this curt an\n",
      "d client carried on his business . Sherlock Holmes stopped in front of it with\n",
      " own stupidity in my dealings with Sherlock Holmes . Here I had heard what he \n",
      "” “ I think you will find , ” said Sherlock Holmes , “ that you will play for \n",
      "and I will follow in the second. ” Sherlock Holmes was not very communicative \n",
      "jump , and I ’ ll swing for it ! ” Sherlock Holmes had sprung out and seized t\n",
      "IDENTITY “ My dear fellow , ” said Sherlock Holmes as we sat on either side of\n",
      "ant-man behind a tiny pilot boat . Sherlock Holmes welcomed her with the easy \n",
      "nsult me in such a hurry ? ” asked Sherlock Holmes , with his finger-tips toge\n"
     ]
    }
   ],
   "source": [
    "# Check concordance of word \"Sherlock \"\n",
    "tholmes.concordance(\"Sherlock\")"
   ]
  },
  {
   "cell_type": "markdown",
   "id": "96ebeaf2",
   "metadata": {},
   "source": [
    "The above example shows all the occurrence of \"Sherlock\" inside the text document, by that we will study when it will be used. As one can see, as \"Sherlock\" is a rather \"special\" word with is strongly linked with the name \"Sherlock Holmes\", so almost all the time \"Sherlock\" and \"Holmes\" will be appeared together. \n",
    "\n",
    "<img src=\"./note.png\" width = \"\" height = \"\" alt=\"note\" align=left />\n",
    "\n",
    "However in terms of text analysis and especially for the learning of English from some great literature such as Adventures of Sherlock Holmes. \n",
    "Of course, one important thing we want to know to how some commonly-used words and phrases are used by these great authors and what other words of similar meanings (i.e. Synonyms) are being used to improve the Use of English. "
   ]
  },
  {
   "cell_type": "markdown",
   "id": "2c28b084",
   "metadata": {},
   "source": [
    "In the following example, let's study how \"extreme\" is used in Adventures of Sherlock Holmes. "
   ]
  },
  {
   "cell_type": "code",
   "execution_count": 17,
   "id": "76e62c58",
   "metadata": {},
   "outputs": [
    {
     "name": "stdout",
     "output_type": "stream",
     "text": [
      "Displaying 9 of 9 matches:\n",
      "may trust with a matter of the most extreme importance . If not , I should much\n",
      "ng red head , and the expression of extreme chagrin and discontent upon his fea\n",
      "ternately asserted itself , and his extreme exactness and astuteness represente\n",
      "e swing of his nature took him from extreme languor to devouring energy ; and ,\n",
      "olice reports realism pushed to its extreme limits , and yet the result is , it\n",
      "of an English provincial town . His extreme love of solitude in England suggest\n",
      "ion , and that in his haste and the extreme darkness he missed his path and wal\n",
      "for my coming at midnight , and his extreme anxiety lest I should tell anyone o\n",
      "like one who has been driven to the extreme limits of his reason . Then , sudde\n"
     ]
    }
   ],
   "source": [
    "# Check concordance of word \"extreme\"\n",
    "tholmes.concordance(\"extreme\")"
   ]
  },
  {
   "cell_type": "markdown",
   "id": "0437dd1b",
   "metadata": {},
   "source": [
    "<img src=\"./note.png\" width = \"\" height = \"\" alt=\"note\" align=left />\n",
    "Note: As one can see, in many dictionaries,we are using concordance technique to learn English, so-called \"Use of English\", which is not only on the grammatic aspect, but rather how different words (or phrases) are being used. As what we now called \"Learn by Examples\".\n",
    "In this example, we learnt how to use the word \"extreme\" in various situations and scenarios. "
   ]
  },
  {
   "cell_type": "code",
   "execution_count": 18,
   "id": "c3dc3759",
   "metadata": {},
   "outputs": [
    {
     "name": "stdout",
     "output_type": "stream",
     "text": [
      "dense gathering\n"
     ]
    }
   ],
   "source": [
    "tholmes.similar(\"extreme\")"
   ]
  },
  {
   "cell_type": "code",
   "execution_count": 19,
   "id": "2c82e26d",
   "metadata": {},
   "outputs": [
    {
     "name": "stdout",
     "output_type": "stream",
     "text": [
      "Displaying 4 of 4 matches:\n",
      "n another day or two perhaps ; this extreme mildness can hardly last longer -- \n",
      "ng her that he was kept away by the extreme affection for herself , which he co\n",
      " of his brother , and lamenting the extreme GAUCHERIE which he really believed \n",
      "y which had been leading her to the extreme of languid indolence and selfish re\n"
     ]
    }
   ],
   "source": [
    "# Check concordance of word \"extreme\" in text2\n",
    "text2.concordance(\"extreme\")"
   ]
  },
  {
   "cell_type": "code",
   "execution_count": 20,
   "id": "00f5966a",
   "metadata": {},
   "outputs": [
    {
     "name": "stdout",
     "output_type": "stream",
     "text": [
      "family centre good opinion life death loss house society children\n",
      "attachment wishes interest goodness heart comfort cheerfulness\n",
      "existence marriage son\n"
     ]
    }
   ],
   "source": [
    "# Check similar word \"extreme\" in text2\n",
    "text2.similar(\"extreme\")"
   ]
  },
  {
   "cell_type": "code",
   "execution_count": 21,
   "id": "74705d58",
   "metadata": {},
   "outputs": [
    {
     "name": "stdout",
     "output_type": "stream",
     "text": [
      "Displaying 3 of 3 matches:\n",
      " vigilance no Administration by any extreme of wickedness or folly can very ser\n",
      "ent , and communication between the extreme limits of the country made easier t\n",
      "the politics of petty bickering and extreme partisanship they plainly deplore .\n"
     ]
    }
   ],
   "source": [
    "# Check concordance word \"extreme\" in text4\n",
    "text4.concordance(\"extreme\")"
   ]
  },
  {
   "cell_type": "code",
   "execution_count": 22,
   "id": "580ae39f",
   "metadata": {},
   "outputs": [
    {
     "name": "stdout",
     "output_type": "stream",
     "text": [
      "one other just hope motives act people agency system right form loss\n",
      "length knowledge science portion quarter narrowest requisite member\n"
     ]
    }
   ],
   "source": [
    "# Check similar word \"extreme\" in text4\n",
    "text4.similar(\"extreme\")"
   ]
  },
  {
   "cell_type": "markdown",
   "id": "fc001206",
   "metadata": {},
   "source": [
    "<img src=\"./note.png\" width = \"\" height = \"\" alt=\"note\" align=left />\n",
    "Note: As one can see, even a commonly used word \"extreme\" different people have differnt \"style\" of usage. \n",
    "In short, Herman Melville used the word \"extreme\"quite frequently in his literature and each with different style of usage. \n",
    "Jane Austen's usage of \"extreme\" is also very \"colorful\" and \"fruitful\", but not as frequently as Herman Melville. \n",
    "While in the Inaugural Address Corpus, the usage of word \"extreme\" become more \"standard\" and \"rigid\" in some sense. "
   ]
  },
  {
   "cell_type": "markdown",
   "id": "9d668c5a",
   "metadata": {},
   "source": [
    "The common_contexts() method allows you to examine the contexts that are shared by two or more words.\n",
    "\n",
    "Let's take a look on how it works.\n",
    "\n",
    "First, use Micky Dicky as example and try what is the common context for the two words: \"extreme\" and \"huge\".\n",
    "\n",
    "To do so, call the common_contexts() function from object text1."
   ]
  },
  {
   "cell_type": "code",
   "execution_count": 23,
   "id": "a8433e2d",
   "metadata": {},
   "outputs": [
    {
     "name": "stdout",
     "output_type": "stream",
     "text": [
      "No common contexts were found\n"
     ]
    }
   ],
   "source": [
    "# Check common contexts on tholmes\n",
    "tholmes.common_contexts([\"extreme\",\"huge\"])"
   ]
  },
  {
   "cell_type": "markdown",
   "id": "4700a8be",
   "metadata": {},
   "source": [
    "What it meant is that: After analysing the two words \"extreme\" and \"huge\", it find out that the common context(s) for the usage of these two words is the \"pattern\" of: the_lower. \n",
    "\n",
    "To check it, what you can do is to call concordance() function for these two words and check against the patterns it extracted. As below."
   ]
  },
  {
   "cell_type": "code",
   "execution_count": 24,
   "id": "5f136663",
   "metadata": {},
   "outputs": [
    {
     "name": "stdout",
     "output_type": "stream",
     "text": [
      "Displaying 9 of 9 matches:\n",
      "may trust with a matter of the most extreme importance . If not , I should much\n",
      "ng red head , and the expression of extreme chagrin and discontent upon his fea\n",
      "ternately asserted itself , and his extreme exactness and astuteness represente\n",
      "e swing of his nature took him from extreme languor to devouring energy ; and ,\n",
      "olice reports realism pushed to its extreme limits , and yet the result is , it\n",
      "of an English provincial town . His extreme love of solitude in England suggest\n",
      "ion , and that in his haste and the extreme darkness he missed his path and wal\n",
      "for my coming at midnight , and his extreme anxiety lest I should tell anyone o\n",
      "like one who has been driven to the extreme limits of his reason . Then , sudde\n"
     ]
    }
   ],
   "source": [
    "# Check concordance word \"extreme\" in tholmes\n",
    "tholmes.concordance(\"extreme\")"
   ]
  },
  {
   "cell_type": "code",
   "execution_count": 25,
   "id": "7f4a3dda",
   "metadata": {},
   "outputs": [
    {
     "name": "stdout",
     "output_type": "stream",
     "text": [
      "Displaying 11 of 11 matches:\n",
      "used and refreshed his memory with a huge pinch of snuff . “ Pray continue you\n",
      " after opening a third door , into a huge vault or cellar , which was piled al\n",
      "ed . All will come well . There is a huge error which it may take some little \n",
      " a small , office-like room , with a huge ledger upon the table , and a teleph\n",
      "en suddenly dashed open , and that a huge man had framed himself in the apertu\n",
      " , and bent it into a curve with his huge brown hands . “ See that you keep yo\n",
      "r. Grimesby Roylott drive past , his huge form looming up beside the little fi\n",
      "side and lay listless , watching the huge crest and monogram upon the envelope\n",
      " , ” said I ruefully , pointing to a huge bundle in the corner . “ I have had \n",
      "th hanging jowl , black muzzle , and huge projecting bones . It walked slowly \n",
      "r hurrying behind us . There was the huge famished brute , its black muzzle bu\n"
     ]
    }
   ],
   "source": [
    "# Check concordance word \"huge\" in tholmes\n",
    "tholmes.concordance(\"huge\")"
   ]
  },
  {
   "cell_type": "markdown",
   "id": "de8abc87",
   "metadata": {},
   "source": [
    "<img src=\"./note.png\" width = \"\" height = \"\" alt=\"note\" align=left />\n",
    "Can you see it?\n",
    "\n",
    "How important it is in: \n",
    "1. NLP\n",
    "2. Use of English (and Technical Writing)?"
   ]
  },
  {
   "cell_type": "markdown",
   "id": "d7da748d",
   "metadata": {},
   "source": [
    "<img src=\"./workshop.png\" width = \"\" height = \"\" alt=\"note\" align=left />\n",
    "\n",
    "### Workshop 10.1\n",
    "1. Try to use concordance(), similar() and common_contexts() function to look for the usage of TWO more commonly used words.\n",
    "2. Compare their usage in four different sources: 1) Moby Dick, 2) Sense and Sensibility, 3) Inaugural Address Corpus, and 4) Wall Street Journal.\n",
    "3. Any pattern(s) you can see?\n",
    "4. How different they are in terms of Use of English?"
   ]
  },
  {
   "cell_type": "markdown",
   "id": "9aa93e15",
   "metadata": {},
   "source": [
    "## 10.7 Text Analysis using Lexcial Dispersion Plot in Python"
   ]
  },
  {
   "cell_type": "markdown",
   "id": "e7c65f1f",
   "metadata": {},
   "source": [
    "In the previous workshop we analysis the text documents by means of the word pattern and common contexts. \n",
    "\n",
    "How about the frequency of the location of the appearance of some \"key-words\" during the whole document?\n",
    "\n",
    "In NLTK in Python, we can apply the so-called Dispersion Plot. \n",
    "\n",
    "### 10.7.1 What is a Lexcial Dispersion Plot?\n",
    "\n",
    "In basic statistics, \"Dispersion\" is the quantification of deviation of each point from the mean value. \n",
    "\n",
    "NLTK Dispersion Plot produce a plot showing the distribution of the words through the text.\n",
    "\n",
    "Lexical dispersion illustrates the homogeneity of a word (or set of words) across the documents of a corpus. DispersionPlot allows for visualization of the lexical dispersion of words in a corpus. This plot illustrates with vertical lines the occurrences of one or more search terms throughout the corpus, noting how many words relative to the beginning of the corpus it appears.\n",
    "\n",
    "To invoke NLTK dispersion_plot, simple use the NLTK book object to call the function dispersion_plot().\n",
    "\n",
    "Note: To do the plot, \"pylab\" is needed to be installed.\n",
    "\n",
    "The following example try to use text1 to check the basic information about dispersion_plot(). \n"
   ]
  },
  {
   "cell_type": "code",
   "execution_count": 26,
   "id": "68a421b9",
   "metadata": {},
   "outputs": [],
   "source": [
    "text1.dispersion_plot?"
   ]
  },
  {
   "cell_type": "markdown",
   "id": "f2281501",
   "metadata": {},
   "source": [
    "### 10.7.2 Lexical Dispersion Plot over CONTEXT using Sense and Sensibility\n",
    "\n",
    "In term of literature writing one might wonder: Is there any lexcial pattern for using \"positive-thinking\" words such as \"good\". \"happy\" and \"strong\" verse the usage of \"negtive-thinking\" words such as \"bad\", \"sad\" or \"weak\". \n",
    "\n",
    "If it is the case, why?\n",
    "\n",
    "<img src=\"./workshop.png\" width = \"\" height = \"\" alt=\"note\" align=left />\n",
    "\n",
    "### Workshop 10.2\n",
    "In the following workshop, we try to analyse the classical English literature Sense and Sensibility by Jane Austen against these \"key-words\" to see if there is any lexical pattern arise. \n",
    "1. Use dispersion_plot to plot the Lexical Dispersion Plot of these key-words: good, happy, strong, bad, sad and weak. \n",
    "2. Study for any lexical pattern between the +ve verse -ve keywords. If it exist. WHY?\n",
    "3. Check these pattern against other classical literature such as Moby Dick to see if this pattern also happen and give your observations and justification. \n",
    "4. Add other TWO \"emotion keywords\" to see if the pattern still valid. \n"
   ]
  },
  {
   "cell_type": "code",
   "execution_count": 27,
   "id": "d29ea9dc",
   "metadata": {},
   "outputs": [
    {
     "data": {
      "image/png": "[encoded data removed]",
      "text/plain": [
       "<Figure size 432x288 with 1 Axes>"
      ]
     },
     "metadata": {
      "needs_background": "light"
     },
     "output_type": "display_data"
    }
   ],
   "source": [
    "text2.dispersion_plot([\"good\",\"happy\",\"strong\",\"bad\",\"sad\",\"weak\"])"
   ]
  },
  {
   "cell_type": "markdown",
   "id": "72b4b3e2",
   "metadata": {},
   "source": [
    "### 10.7.3 Lexical Dispersion Plot over TIME using Inaugural Address Corpus\n",
    "\n",
    "One important thing about lexical usage is the changes over time. Which meant we would like to investigate is there any changes of lexical usage in written English (says) during the past 200 years?\n",
    "\n",
    "In order to do so, we need to look for a text document that contains text information that are changed over time during the whole document. \n",
    "\n",
    "The truth is: we have that text document in the NLTK book library -- The Inaugural Address Corpus \n",
    "\n",
    "The Inaugral Address Corpus contains the US presidents' inaugral address notes in the past 220 years. One important thing we would like to study is there any changes of lexical dispersion plot patterns for some key-words such as \"war\", \"peace\", \"freedom\" and \"united\" are noted during the past 220 years. If yes, why?\n"
   ]
  },
  {
   "cell_type": "markdown",
   "id": "2bbb1e7c",
   "metadata": {},
   "source": [
    "<img src=\"./workshop.png\" width = \"\" height = \"\" alt=\"note\" align=left />\n",
    "\n",
    "### Workshop 10.3\n",
    "In the following workshop, we try to use 8 keywords and check whether there is any \"changes in lexical pattern\" noted during the past 220 years, these keywords are: America, citizens, democracy, freedom, war, peace, equal, united.\n",
    "1. Use dispersion_plot to invoke the Lexical Dispersion Plot for text4 (Inaugural Address Corpus).\n",
    "2. Study for any \"changes in lexical pattern\" in the past 220 years. \n",
    "3. Give any thoughts and explanation why that happens. \n",
    "4. Give ANY two useful keywords and check if they have the same changes in lexical pattern. "
   ]
  },
  {
   "cell_type": "code",
   "execution_count": 28,
   "id": "5264d204",
   "metadata": {
    "scrolled": true
   },
   "outputs": [
    {
     "data": {
      "image/png": "[encoded data removed]",
      "text/plain": [
       "<Figure size 432x288 with 1 Axes>"
      ]
     },
     "metadata": {
      "needs_background": "light"
     },
     "output_type": "display_data"
    }
   ],
   "source": [
    "text4.dispersion_plot([\"America\",\"citizens\",\"democracy\",\"freedom\",\"war\",\"peace\",\"equal\",\"united\"])"
   ]
  },
  {
   "cell_type": "markdown",
   "id": "aef6ea5c",
   "metadata": {},
   "source": [
    "## 10.8 Tokenization in NLP"
   ]
  },
  {
   "cell_type": "markdown",
   "id": "42eb8b80",
   "metadata": {},
   "source": [
    "### 10.8.1 What is Tokenization in NLP?\n",
    "\n",
    "Token is the most fundamental concept in NLP. \n",
    "\n",
    "A token may be a word, part of a word or just characters like punctuation. \n",
    "It is one of the most foundational NLP task and a difficult one, because every language has its own grammatical constructs, which are often difficult to write down as rules. \n",
    "\n",
    "Tokenization is the process of breaking down the documents or sentences into chunks called tokens. These tokens are mostly words, characters, or numbers but they can also be extended to include punctuation marks, symbols, and at times, understandable emotions.\n",
    "\n",
    "This is the first step we need to take to build a vocabulary. If you are wondering what a vocabulary means in the context of NLP, then a vocabulary is nothing but a set of unique words in our documents. So a vocabulary will consist of all the words present in our document without any repetition of words.\n",
    "\n",
    "The following figure shows the tokenization of the sentences: Jane lends $100 to Peter early this morning. "
   ]
  },
  {
   "cell_type": "markdown",
   "id": "e02f0435",
   "metadata": {},
   "source": [
    "<img src=\"./Fig10.5.png\" width = \"\" height = \"\" alt=\"note\" align=left />"
   ]
  },
  {
   "cell_type": "markdown",
   "id": "55b5fe00",
   "metadata": {},
   "source": [
    "NLTK provides an easy way to tokenize any string (of Text) by using tokenize() function. \n",
    "\n",
    "As shown below:"
   ]
  },
  {
   "cell_type": "code",
   "execution_count": 29,
   "id": "809c0652",
   "metadata": {},
   "outputs": [
    {
     "data": {
      "text/plain": [
       "['Jane', 'lend', '$', '100', 'to', 'Peter', 'early', 'this', 'morning', '.']"
      ]
     },
     "execution_count": 29,
     "metadata": {},
     "output_type": "execute_result"
    }
   ],
   "source": [
    "# Create utterance 3 (utt3) and performs tokenization\n",
    "utt3 = 'Jane lend $100 to Peter early this morning.'\n",
    "wtokens = nltk.word_tokenize(utt3)\n",
    "wtokens"
   ]
  },
  {
   "cell_type": "markdown",
   "id": "7bfd0dc7",
   "metadata": {},
   "source": [
    "### 10.8.2 Different between Tokenize() vs Split()"
   ]
  },
  {
   "cell_type": "markdown",
   "id": "da371224",
   "metadata": {},
   "source": [
    "Reall in Section 4.1 that Python provides split() function to split a sentence of text into words. Let's see how it works as compared with the Tokenize() function. "
   ]
  },
  {
   "cell_type": "code",
   "execution_count": 30,
   "id": "a488eacf",
   "metadata": {},
   "outputs": [
    {
     "data": {
      "text/plain": [
       "['Jane', 'lend', '$100', 'to', 'Peter', 'early', 'this', 'morning.']"
      ]
     },
     "execution_count": 30,
     "metadata": {},
     "output_type": "execute_result"
    }
   ],
   "source": [
    "# Using split() to perform word tokenization\n",
    "words = utt3.split()\n",
    "words"
   ]
  },
  {
   "cell_type": "markdown",
   "id": "09413c68",
   "metadata": {},
   "source": [
    "<img src=\"./note.png\" width = \"\" height = \"\" alt=\"note\" align=left />\n",
    "Why they are difference? \n",
    "\n",
    "How important it is:\n",
    "1. In terms of NLP?\n",
    "2. In terms of Meaning?"
   ]
  },
  {
   "cell_type": "markdown",
   "id": "83efcb9e",
   "metadata": {},
   "source": [
    "<img src=\"./workshop.png\" width = \"\" height = \"\" alt=\"note\" align=left />\n",
    "\n",
    "### Workshop 10.4 Tokenization of The Adventures of Sherlock Holmes \n",
    "Although NLTK provides a list of great books and documents for us to try. Something we would like to explore other documents and literature to see for document analysis. \n",
    "In Section 4.4., we learnt a simple Python program to read and count words from any text documents. \n",
    "In this exercise, we try to use the famous novel \"The Adventures of Sherlock Holmes\" for document tokenization:\n",
    "Based on Python code shown in Section 4.4, write a Ptyhon program to:\n",
    "1. Read the Adventures_Holmes.txt text file. \n",
    "2. Save the content into a string object \"holmes_doc\".\n",
    "3. Use split() to cut it into list object \"holmes\".\n",
    "4. Count the total number of words inside the document. \n",
    "5. Tokenize the document by using NLTK tokenize() function.\n",
    "6. Count the total number of tokens.\n",
    "7. Compare the two figures. "
   ]
  },
  {
   "cell_type": "code",
   "execution_count": 31,
   "id": "ae213379",
   "metadata": {},
   "outputs": [
    {
     "name": "stdout",
     "output_type": "stream",
     "text": [
      "The file Adventures_Holmes has about 107411 words.\n"
     ]
    }
   ],
   "source": [
    "# Workshop 4.4 Solution\n",
    "\n",
    "with open('Adventures_Holmes.txt', encoding='utf-8') as f_lit:\n",
    "    dholmes = f_lit.read() \n",
    "    # Count approximate number of words in the file.\n",
    "    sholmes = dholmes.split()\n",
    "    nwords = len(sholmes)\n",
    "    print(\"The file Adventures_Holmes has about \" + str(nwords) + \" words.\")"
   ]
  },
  {
   "cell_type": "markdown",
   "id": "56b09924",
   "metadata": {},
   "source": [
    "<img src=\"./note.png\" width = \"\" height = \"\" alt=\"note\" align=left />\n",
    "NLTK provides a straight-forward way to count the total number of tokens inside a Text Document by using len() in NLTK package. \n",
    "\n",
    "Try len(text1) you will see. "
   ]
  },
  {
   "cell_type": "code",
   "execution_count": 32,
   "id": "dddf115b",
   "metadata": {},
   "outputs": [
    {
     "data": {
      "text/plain": [
       "128366"
      ]
     },
     "execution_count": 32,
     "metadata": {},
     "output_type": "execute_result"
    }
   ],
   "source": [
    "len(tholmes)"
   ]
  },
  {
   "cell_type": "markdown",
   "id": "63f0506b",
   "metadata": {},
   "source": [
    "### 10.8.3 Count Distinct Tokens"
   ]
  },
  {
   "cell_type": "markdown",
   "id": "49cb2b25",
   "metadata": {},
   "source": [
    "One important feature in text analysis is to study how many distinct words (so-called \"vocabulary\") appeared inside a text document. \n",
    "\n",
    "The truth is, once we can tokenize the whole text document as token objects. Python provide an easy way to group it into a set of distinct object by using Set() method. \n",
    "\n",
    "Set() is an useful method in Python to extract distinct objects (of any types) from a list of objects with repeated instances. \n",
    "\n",
    "Try the following by using Moby Dick you will see:"
   ]
  },
  {
   "cell_type": "code",
   "execution_count": 33,
   "id": "d350c173",
   "metadata": {},
   "outputs": [],
   "source": [
    "tholmes?"
   ]
  },
  {
   "cell_type": "code",
   "execution_count": 34,
   "id": "77d24d8d",
   "metadata": {},
   "outputs": [
    {
     "data": {
      "text/plain": [
       "{'rejoiced',\n",
       " 'fishes',\n",
       " 'varied',\n",
       " 'annoyed',\n",
       " 'zero',\n",
       " 'discreet',\n",
       " 'wheal',\n",
       " 'prisoner',\n",
       " 'delirium',\n",
       " 'breathlessly',\n",
       " 'acquire',\n",
       " 'claws',\n",
       " 'elastic-sided',\n",
       " 'conscience.',\n",
       " 'comment',\n",
       " 'pauper',\n",
       " 'flicking',\n",
       " 'ill-trimmed',\n",
       " 'lady.',\n",
       " 'Armitage—Percy',\n",
       " 'unique.',\n",
       " 'red-covered',\n",
       " 'beauty',\n",
       " 'vagueness',\n",
       " 'glossy',\n",
       " 'meal',\n",
       " 'Saxe-Meningen',\n",
       " 'GIVE',\n",
       " 'gash',\n",
       " 'womanhood',\n",
       " 'cursed',\n",
       " 'flying',\n",
       " 'cross-purposes',\n",
       " 'extreme',\n",
       " 'cigarettes',\n",
       " 'obstinate.',\n",
       " 'backward',\n",
       " 'mastery',\n",
       " 'Carlsbad',\n",
       " 'motioned',\n",
       " '89',\n",
       " 'Swandam',\n",
       " 'five',\n",
       " 'Kramm',\n",
       " 'thrust',\n",
       " 'Anderson_',\n",
       " 'personal',\n",
       " 'bandaged',\n",
       " 'Angel—was',\n",
       " 'wouldn',\n",
       " 'stout-built',\n",
       " 'shuddered',\n",
       " 'thereby',\n",
       " 'fatigued',\n",
       " 'wrinkles',\n",
       " 'slurring',\n",
       " 'Goodge',\n",
       " 'now—so',\n",
       " 'evening.',\n",
       " 'Henry',\n",
       " 'article',\n",
       " 'tried',\n",
       " 'Lady',\n",
       " 'apparent',\n",
       " 'gloom.',\n",
       " 'branch',\n",
       " 'open',\n",
       " 'Chance',\n",
       " 'interested—white',\n",
       " 'informing',\n",
       " 'dark.',\n",
       " 'station.',\n",
       " 'upbraided',\n",
       " 'inferences',\n",
       " 'partially',\n",
       " 'footman',\n",
       " 'strong-set',\n",
       " 'drawback',\n",
       " 'December',\n",
       " 'warm-hearted',\n",
       " 'maintenance',\n",
       " 'remarkably',\n",
       " 'squatted',\n",
       " 'proof',\n",
       " 'younger',\n",
       " 'Convinced',\n",
       " 'Walk',\n",
       " '_outré_',\n",
       " 'child.',\n",
       " 'agony',\n",
       " 'trampled',\n",
       " 'meanly',\n",
       " 'instincts',\n",
       " 'viewed',\n",
       " 'silvered',\n",
       " 'treatment',\n",
       " 'pokers',\n",
       " 'vehemence',\n",
       " 'His',\n",
       " 'throbbing',\n",
       " 'limb',\n",
       " 'find',\n",
       " 'thanking',\n",
       " 'should—',\n",
       " 'contemptuous',\n",
       " 'crystallised',\n",
       " 'daubing',\n",
       " 'practically',\n",
       " 'locket',\n",
       " 'promised',\n",
       " 'sending',\n",
       " 'fell',\n",
       " 'arrived',\n",
       " 'explaining',\n",
       " 'sundial',\n",
       " 'persuasions',\n",
       " 'foul-mouthed',\n",
       " 'researches',\n",
       " 'alias.',\n",
       " 'speckles',\n",
       " 'discourage',\n",
       " 'herd',\n",
       " 'stamp',\n",
       " 'overhauled',\n",
       " 'Fareham',\n",
       " 'using',\n",
       " 'mysterious',\n",
       " 'Inn',\n",
       " 'bleak',\n",
       " 'than',\n",
       " 'laughing',\n",
       " 'mistake',\n",
       " 'statement.',\n",
       " 'fly.',\n",
       " 'dishonourable',\n",
       " 'Redistributing',\n",
       " 'sad-faced',\n",
       " 'fonder',\n",
       " 'prolonged',\n",
       " 'HUNTER',\n",
       " 'immense',\n",
       " 'heed',\n",
       " 'right-hand',\n",
       " 'club',\n",
       " 'moonshine.',\n",
       " 'Isle',\n",
       " 'V.',\n",
       " 'inquirer',\n",
       " 'fascination',\n",
       " 'tramped',\n",
       " 'it.',\n",
       " 'Toller',\n",
       " 'open.',\n",
       " 'beamed',\n",
       " 'palpitating',\n",
       " 'enabled',\n",
       " 'trace',\n",
       " '_Globe_',\n",
       " 'Round',\n",
       " 'settles',\n",
       " 'Russian',\n",
       " 'Fleet',\n",
       " 'imbedded',\n",
       " 'indemnify',\n",
       " 'production',\n",
       " 'Mission',\n",
       " 'Robbery',\n",
       " 'frogged',\n",
       " 'Yard',\n",
       " 'averse',\n",
       " 'cheerful.',\n",
       " 'honourable',\n",
       " 'Half',\n",
       " 'sill',\n",
       " 'narrated',\n",
       " 'charged',\n",
       " 'chalk-pits',\n",
       " 'incident',\n",
       " 'fought',\n",
       " 'exactness',\n",
       " 'satisfaction',\n",
       " 'sterner',\n",
       " 'haze',\n",
       " 'slammed',\n",
       " 'assumed',\n",
       " 'considerably',\n",
       " 'Sometimes',\n",
       " 'many-pointed',\n",
       " 'lived.',\n",
       " 'stiff.',\n",
       " 'this.',\n",
       " 'Besides',\n",
       " 'them.',\n",
       " 'imminent',\n",
       " 'tallow',\n",
       " 'lecture',\n",
       " 'discriminate',\n",
       " 'jealously',\n",
       " 'Exactly',\n",
       " 'shapeless',\n",
       " 'glitter',\n",
       " 'stuff',\n",
       " 'fog',\n",
       " 'member.',\n",
       " 'hypothesis',\n",
       " 'cushioned',\n",
       " 'skylight',\n",
       " 'death—',\n",
       " 'furnishes',\n",
       " 'Faces',\n",
       " 'employment',\n",
       " 'wild',\n",
       " 'experience',\n",
       " 'Bring',\n",
       " 'fish',\n",
       " '1883—a',\n",
       " 'supposition.',\n",
       " 'Dock',\n",
       " 'admirably',\n",
       " 'persevering',\n",
       " 'impatient',\n",
       " 'balanced',\n",
       " 'wondered',\n",
       " 'impulsively',\n",
       " 'registers',\n",
       " 'riveted',\n",
       " 'material',\n",
       " 'noble',\n",
       " 'pointed',\n",
       " 'bands',\n",
       " 'link',\n",
       " 'Hunter.',\n",
       " 'trophy',\n",
       " 'instinct',\n",
       " 'clue',\n",
       " 'Stoper.',\n",
       " 'half-hopeful',\n",
       " 'Literary',\n",
       " 'carbuncle',\n",
       " 'confide',\n",
       " 'eerie',\n",
       " 'noised',\n",
       " 'damp',\n",
       " 'shrieked',\n",
       " 'scraping',\n",
       " 'breach',\n",
       " 'John',\n",
       " 'wrong',\n",
       " 'measures',\n",
       " '_Standard_',\n",
       " 'untimely',\n",
       " 'gaining',\n",
       " 'till',\n",
       " 'strayed',\n",
       " 'Armitage',\n",
       " 'coincident',\n",
       " 'introduced',\n",
       " 'salary',\n",
       " 'history',\n",
       " 'occurred',\n",
       " 'saviour',\n",
       " 'remove',\n",
       " 'Duncan',\n",
       " 'group',\n",
       " 'ceaseless',\n",
       " 'infer',\n",
       " 'tying',\n",
       " 'disappearance',\n",
       " 'lengthen',\n",
       " 'drawing',\n",
       " 'busybody',\n",
       " 'books',\n",
       " 'Stark',\n",
       " 'farther',\n",
       " 'overhear',\n",
       " 'kind-hearted',\n",
       " 'lumber-room',\n",
       " 'aided',\n",
       " 'boasting',\n",
       " 'have',\n",
       " 'history.',\n",
       " 'collar',\n",
       " 'Grave',\n",
       " 'arc-and-compass',\n",
       " 'cocked',\n",
       " 'none.',\n",
       " 'Westhouse',\n",
       " 'duties',\n",
       " 'cloud',\n",
       " 'filthy',\n",
       " 'assistance',\n",
       " 'feeling',\n",
       " 'nickel',\n",
       " 'again.',\n",
       " 'secure',\n",
       " 'propriety',\n",
       " 'brings',\n",
       " 'sea-stories',\n",
       " 'trivial.',\n",
       " 'lowest',\n",
       " '&',\n",
       " 'tongue',\n",
       " 'kingdom',\n",
       " 'beef',\n",
       " 'scales',\n",
       " 'Eustace',\n",
       " 'JEPHRO',\n",
       " 'gipsies',\n",
       " 'proceed.',\n",
       " 'tricked',\n",
       " 'crowded',\n",
       " 'running',\n",
       " 'stagger',\n",
       " 'PLEASE',\n",
       " 'good-night.',\n",
       " 'continue',\n",
       " 'us',\n",
       " 'Victoria.',\n",
       " 'coppers',\n",
       " 'co-operation.',\n",
       " 'world',\n",
       " '2_s_',\n",
       " 'bore',\n",
       " 'During',\n",
       " 'armed',\n",
       " 'wrongfully',\n",
       " 'gravel-drive',\n",
       " 'refer',\n",
       " 'somehow',\n",
       " 'Leadenhall',\n",
       " 'morning',\n",
       " 'brandy',\n",
       " 'child—one',\n",
       " 'simple-minded',\n",
       " 'sideboard.',\n",
       " 'underneath',\n",
       " 'warren',\n",
       " 'interrupted',\n",
       " 'another',\n",
       " 'indirectly',\n",
       " 'seeking',\n",
       " 'Speckled',\n",
       " 'music',\n",
       " 'true',\n",
       " 'vanishing',\n",
       " 'Baker',\n",
       " 'Data',\n",
       " 'Warsaw',\n",
       " 'twelve-mile',\n",
       " 'Commons',\n",
       " 'Warsaw—yes',\n",
       " 'opposite',\n",
       " 'offers',\n",
       " 'derivative',\n",
       " 'Holborn',\n",
       " 'returning',\n",
       " 'flames',\n",
       " 'witnesses',\n",
       " 'move',\n",
       " 'unfeigned',\n",
       " 'ushered',\n",
       " 'attention.',\n",
       " 'IRENE',\n",
       " 'resource',\n",
       " 'rightly',\n",
       " 'Through',\n",
       " 'Grimesby',\n",
       " 'hesitation',\n",
       " 'adviser',\n",
       " 'debt',\n",
       " 'rails',\n",
       " 'booted',\n",
       " 'sovereign',\n",
       " 'rabbi',\n",
       " 'fallen',\n",
       " 'caressing',\n",
       " 'stronger',\n",
       " 'congratulate',\n",
       " 'stated',\n",
       " 'settled',\n",
       " 'Altogether',\n",
       " 'piteous',\n",
       " 'artist',\n",
       " 'Freemason',\n",
       " 'parlance',\n",
       " '1.E.5',\n",
       " 'cloud-wreaths',\n",
       " 'fare',\n",
       " 'silhouette',\n",
       " 'work',\n",
       " 'benevolent',\n",
       " 'admire',\n",
       " 'charity',\n",
       " 'year—which',\n",
       " 'uneasy',\n",
       " 'Street',\n",
       " 'risen',\n",
       " 'Clara',\n",
       " 'mumbling',\n",
       " 'swung',\n",
       " 'dirt',\n",
       " 'notice.',\n",
       " 'conditions',\n",
       " 'doing',\n",
       " 'yesterday',\n",
       " 'all',\n",
       " 'chase',\n",
       " 'ever',\n",
       " 'outstanding',\n",
       " 'UT',\n",
       " 'washing',\n",
       " 'lodger',\n",
       " 'THAT',\n",
       " 'consciousness',\n",
       " 'clasped',\n",
       " 'limit',\n",
       " 'tears',\n",
       " 'steaming',\n",
       " 'temptation.',\n",
       " 'hastening',\n",
       " 'peculiarities',\n",
       " 'went',\n",
       " 'side-lights',\n",
       " 'ungovernable',\n",
       " 'wonderful',\n",
       " 'communication',\n",
       " 'seized',\n",
       " 'prediction',\n",
       " 'ship',\n",
       " 'handkerchiefs',\n",
       " 'knots',\n",
       " 'stay-at-home',\n",
       " 'forefingers',\n",
       " 'transformed',\n",
       " 'Alpha',\n",
       " 'motive',\n",
       " 'placed',\n",
       " 'seats',\n",
       " 'outhouse',\n",
       " 'monogram',\n",
       " 'army',\n",
       " 'lash',\n",
       " 'blasted',\n",
       " 'question',\n",
       " 'disturbance',\n",
       " 'tattered',\n",
       " 'lies',\n",
       " 'moisture',\n",
       " 'ere',\n",
       " 'stairs',\n",
       " 'getting',\n",
       " 'wayside',\n",
       " 'joy',\n",
       " 'sally',\n",
       " 'slip',\n",
       " 'spectacles',\n",
       " 'constable',\n",
       " 'lovers',\n",
       " 'clang',\n",
       " 'catch',\n",
       " 'deceased',\n",
       " 'plied',\n",
       " 'employer',\n",
       " 'Market',\n",
       " 'estimate',\n",
       " 'growing',\n",
       " 'profession',\n",
       " 'posted',\n",
       " 'ruddy-faced',\n",
       " 'weaver',\n",
       " 'camp-bed',\n",
       " 'faculties',\n",
       " 'blotches',\n",
       " 'action',\n",
       " 'Calhoun',\n",
       " 'slang',\n",
       " 'violence',\n",
       " 'identical',\n",
       " 'sooner',\n",
       " 'temples',\n",
       " 'utilise',\n",
       " 'lock',\n",
       " 'Ballarat',\n",
       " 'supplementing',\n",
       " 'adventuress',\n",
       " 'Ormstein',\n",
       " 'resemblance',\n",
       " 'this',\n",
       " 'oily',\n",
       " 'Copyright',\n",
       " 'investment',\n",
       " 'delighted.',\n",
       " 'bequest',\n",
       " 'coolness',\n",
       " 'receipt',\n",
       " 'lightened',\n",
       " 'fingertips',\n",
       " 'Hitherto',\n",
       " 'us.',\n",
       " 'I',\n",
       " 'vague',\n",
       " 'problem',\n",
       " '30',\n",
       " 'outlined',\n",
       " 'far',\n",
       " 'By',\n",
       " 'languor',\n",
       " 'says',\n",
       " 'shoulder-high',\n",
       " 'reconstruction',\n",
       " 'manufactory',\n",
       " 'obstinacy',\n",
       " 'last',\n",
       " 'fumbled',\n",
       " 'ordinary',\n",
       " 'yes',\n",
       " 'themselves',\n",
       " 'Gesellschaft',\n",
       " 'cotton',\n",
       " 'amount',\n",
       " 'shut',\n",
       " 'tin',\n",
       " 'fifty-guinea',\n",
       " 'Living',\n",
       " 'Suburban',\n",
       " 'murky',\n",
       " 'burst',\n",
       " 'dreamy',\n",
       " 'ideas',\n",
       " 'Highness',\n",
       " 'everyone',\n",
       " 'scored',\n",
       " 'hundred',\n",
       " 'removed',\n",
       " 'Bordeaux',\n",
       " 'alternating',\n",
       " 'reproachfully',\n",
       " 'stout',\n",
       " 'distrusted',\n",
       " 'must',\n",
       " 'years',\n",
       " 'bringing',\n",
       " 'nurse-girl',\n",
       " 'Lodge',\n",
       " 'autumn',\n",
       " 'doing.',\n",
       " 'money—not',\n",
       " 'seaports',\n",
       " 'Paul',\n",
       " 'fancier',\n",
       " 'sure.',\n",
       " 'place—within',\n",
       " 'free.',\n",
       " 'pen-knife',\n",
       " 'foresaw',\n",
       " 'melon',\n",
       " 'Eley',\n",
       " 'triumphant',\n",
       " 'red',\n",
       " 'wind',\n",
       " 'cigar-shaped',\n",
       " 'received',\n",
       " 'job',\n",
       " 'advertise',\n",
       " 'stopped.',\n",
       " 'RED-HEADED',\n",
       " 'more.',\n",
       " 'MAN',\n",
       " 'unsystematic',\n",
       " 'hardest',\n",
       " 'breaks',\n",
       " 'bundles',\n",
       " 'mind',\n",
       " 'sceptic',\n",
       " 'air',\n",
       " 'sort.',\n",
       " 'west',\n",
       " 'holder',\n",
       " 'pit.',\n",
       " 'writers',\n",
       " 'back—I',\n",
       " 'sad',\n",
       " 'derbies.',\n",
       " 'staggered',\n",
       " 'truth',\n",
       " 'There',\n",
       " 'anxiety.',\n",
       " 'fearless',\n",
       " 'signet-ring.',\n",
       " 'pass',\n",
       " 'gloves',\n",
       " 'based',\n",
       " 'tell',\n",
       " 'quitted',\n",
       " 'refund',\n",
       " 'instituted.',\n",
       " 'villas',\n",
       " 'finder',\n",
       " 'creditable',\n",
       " 'tweed-suited',\n",
       " 'clearer',\n",
       " 'emerged',\n",
       " 'stain',\n",
       " '2001',\n",
       " 'responded',\n",
       " 'demon—',\n",
       " 'begun',\n",
       " 'sharp',\n",
       " 'subject',\n",
       " 'encompass',\n",
       " 'unkempt',\n",
       " 'Use',\n",
       " 'budge',\n",
       " 'trap-door',\n",
       " 'unnoticed',\n",
       " 'insult',\n",
       " 'spattered',\n",
       " 'destroyed.',\n",
       " 'Four.',\n",
       " 'glints',\n",
       " 'Peterson',\n",
       " 'worth.',\n",
       " 'ploughed',\n",
       " 'road.',\n",
       " 'vouching',\n",
       " 'reports',\n",
       " 'Ferguson',\n",
       " 'cure',\n",
       " 'Describe',\n",
       " 'Doran',\n",
       " 'fiver',\n",
       " 'Architecture',\n",
       " 'serpent',\n",
       " 'Easier',\n",
       " 'million',\n",
       " 'law-abiding',\n",
       " 'Yesterday',\n",
       " 'Joseph',\n",
       " 'Windibank',\n",
       " 'bath-sponge',\n",
       " 'lichen',\n",
       " 'gathered',\n",
       " 'chemical',\n",
       " 'native',\n",
       " 'see—her',\n",
       " 'wheel',\n",
       " 'corridor-lamp',\n",
       " 'ordnance',\n",
       " 'M.',\n",
       " 'disregard',\n",
       " 'long',\n",
       " 'girl',\n",
       " 'chairman',\n",
       " 'Reading',\n",
       " 'incidents',\n",
       " 'quivered',\n",
       " 'Post',\n",
       " 'ask',\n",
       " 'subsided',\n",
       " 'proceeded',\n",
       " '%',\n",
       " 'pearl-grey',\n",
       " '50',\n",
       " '_Chronicle_',\n",
       " 'fact',\n",
       " 'text',\n",
       " 'pushed',\n",
       " 'businesslike',\n",
       " 'fellow',\n",
       " 'over.',\n",
       " 'style',\n",
       " 'whose',\n",
       " 'towns',\n",
       " 'deposed',\n",
       " 'talking',\n",
       " 'sorry',\n",
       " 'Information',\n",
       " 'harness.',\n",
       " 'standi_',\n",
       " 'Italian',\n",
       " 'mental',\n",
       " 'ill-used',\n",
       " 'Westbury',\n",
       " 'lets',\n",
       " 'organized',\n",
       " 'valid',\n",
       " 'Send',\n",
       " 'clouded',\n",
       " 'precautions',\n",
       " 'probed',\n",
       " 'partly',\n",
       " 'disturbed',\n",
       " 'Jane',\n",
       " 'closed',\n",
       " 'devilish',\n",
       " 'hill',\n",
       " 'lethargy',\n",
       " 'Chinese',\n",
       " 'rubbed',\n",
       " 'kindly',\n",
       " 'Gate',\n",
       " 'billycock',\n",
       " 'gasped',\n",
       " 'curses',\n",
       " 'Male',\n",
       " 'Pool',\n",
       " 'until',\n",
       " 'sliding',\n",
       " 'wickedness',\n",
       " 'there.',\n",
       " 'glared',\n",
       " 'Trincomalee',\n",
       " 'power',\n",
       " 'Darlington',\n",
       " 'rope',\n",
       " 'carbolised',\n",
       " 'biography',\n",
       " 'Atlantic',\n",
       " 'acquired',\n",
       " 'famished',\n",
       " 'blowing',\n",
       " 'unusually',\n",
       " 'clearing',\n",
       " 'accompany',\n",
       " 'topic',\n",
       " 'gaunt',\n",
       " '1500',\n",
       " 'you—Jem',\n",
       " 'serves',\n",
       " 'stocked',\n",
       " 'housemaid',\n",
       " 'beer',\n",
       " 'temperate',\n",
       " 'claim.',\n",
       " 'press',\n",
       " 'path',\n",
       " 'exchanging',\n",
       " 'ruse',\n",
       " 'terror.',\n",
       " 'attached',\n",
       " 'twisted',\n",
       " 'ill-usage',\n",
       " 'dragging',\n",
       " 'avoid',\n",
       " 'hands—',\n",
       " 'clapped',\n",
       " 'achieved',\n",
       " 'deep-set',\n",
       " 'world.',\n",
       " 'ushering',\n",
       " 'Grice',\n",
       " 'mission',\n",
       " 'carelessly',\n",
       " 'presence',\n",
       " 'correctly',\n",
       " 'liked',\n",
       " 'delay.',\n",
       " 'separation',\n",
       " 'changes',\n",
       " 'voters',\n",
       " 'links',\n",
       " 'Copper',\n",
       " 'reigning',\n",
       " 'successfully',\n",
       " 'horrid',\n",
       " 'discuss',\n",
       " 'prying',\n",
       " 'tilted',\n",
       " 'Becher',\n",
       " 'was',\n",
       " 'cards',\n",
       " 'equalled',\n",
       " 'higher',\n",
       " 'ticket',\n",
       " 'intimate',\n",
       " 'driven',\n",
       " 'fountain',\n",
       " 'entering',\n",
       " 'geese.',\n",
       " 'mud-bank',\n",
       " 'advance',\n",
       " 'hills',\n",
       " 'Vegetarian',\n",
       " 'risk',\n",
       " 'expense',\n",
       " 'held',\n",
       " 'Donations',\n",
       " 'chanced',\n",
       " 'Get',\n",
       " 'assuring',\n",
       " 'tenant',\n",
       " 'pistol',\n",
       " 'fools',\n",
       " 'lighthouse',\n",
       " 'surest',\n",
       " 'scream',\n",
       " 'End',\n",
       " 'intellectual',\n",
       " 'complimented',\n",
       " 'thudding',\n",
       " '1.F.5',\n",
       " 'trusty',\n",
       " 'builder',\n",
       " 'disqualify',\n",
       " 'manner.',\n",
       " 'meet',\n",
       " 'rather.',\n",
       " 'states',\n",
       " 'boot-lace',\n",
       " 'standing',\n",
       " 'clambered',\n",
       " 'traces.',\n",
       " 'throw',\n",
       " 'shocked',\n",
       " 'abruptly',\n",
       " 'hot-blooded',\n",
       " 'Assizes',\n",
       " 'smooth-faced',\n",
       " 'visitors.',\n",
       " 'advocate',\n",
       " 'solved',\n",
       " 'taller',\n",
       " 'announcement',\n",
       " 'filial',\n",
       " 'residing',\n",
       " 'eliminated',\n",
       " 'eaten',\n",
       " 'REFUND',\n",
       " 'well-lit',\n",
       " 'life',\n",
       " 'await',\n",
       " 'Terse',\n",
       " 'gone',\n",
       " 'cousins',\n",
       " 'patch',\n",
       " 'handle',\n",
       " 'Boone—the',\n",
       " 'claim-jumping—which',\n",
       " 'brightest',\n",
       " 'Down',\n",
       " 'Yours',\n",
       " 'reference',\n",
       " 'Making',\n",
       " 'shiny',\n",
       " 'purport',\n",
       " 'pays',\n",
       " 'dwell',\n",
       " 'thank',\n",
       " 'McQuire',\n",
       " 'table',\n",
       " 'landing-places',\n",
       " 'wayward',\n",
       " '—that',\n",
       " 'exposed',\n",
       " '4',\n",
       " 'miners',\n",
       " 'dates',\n",
       " 'Salt',\n",
       " 'distinction',\n",
       " 'jerked',\n",
       " 'hastily',\n",
       " 'energy',\n",
       " 'lid',\n",
       " 'No—except',\n",
       " 'magnifying',\n",
       " 'Above',\n",
       " 'roughs',\n",
       " '1000',\n",
       " 'sir',\n",
       " 'breathe',\n",
       " 'accuser',\n",
       " 'paper-mills.',\n",
       " 'intruder',\n",
       " 'St.',\n",
       " 'wife',\n",
       " 'gracious',\n",
       " 'typewriting',\n",
       " 'hot.',\n",
       " 'loafer',\n",
       " 'poker',\n",
       " 'their',\n",
       " 'questioning',\n",
       " 'eyebrows',\n",
       " 'index',\n",
       " 'glint',\n",
       " 'nominal',\n",
       " 'startled',\n",
       " 'source',\n",
       " 'Westaway',\n",
       " 'ten',\n",
       " 'claim',\n",
       " 'Secretary',\n",
       " 'vanished',\n",
       " '26',\n",
       " 'Alas',\n",
       " 'request',\n",
       " 'nature',\n",
       " 'adjusted',\n",
       " 'fire-engines',\n",
       " 'redistribute',\n",
       " 'depicted',\n",
       " 'drops',\n",
       " 'who',\n",
       " 'conspicuous',\n",
       " 'texts',\n",
       " 'self-evident',\n",
       " 'prove',\n",
       " 'gushes',\n",
       " 'college',\n",
       " 'maid',\n",
       " 'stared',\n",
       " 'husband—the',\n",
       " 'truly',\n",
       " 'small',\n",
       " 'dug',\n",
       " 'pink-tinted',\n",
       " 'entangled',\n",
       " 'Westphail',\n",
       " 'Juryman',\n",
       " 'calculate',\n",
       " 'Church',\n",
       " 'smell',\n",
       " 'amusement',\n",
       " 'useless',\n",
       " 'Bristol',\n",
       " 'volunteer',\n",
       " 'Victoria',\n",
       " 'yourself',\n",
       " 'jerkily',\n",
       " 'thin',\n",
       " 'record',\n",
       " 'waiter',\n",
       " 'adding',\n",
       " 'carved',\n",
       " 'warmest',\n",
       " 'Fresh',\n",
       " 'happening',\n",
       " 'described',\n",
       " 'draws',\n",
       " 'diggings',\n",
       " 'describe.',\n",
       " 'bonny',\n",
       " 'antagonist',\n",
       " 'elsewhere.',\n",
       " 'moustache',\n",
       " 'NOBLE',\n",
       " 'plays',\n",
       " 'position.',\n",
       " 'said',\n",
       " 'lined',\n",
       " 'coarsely',\n",
       " 'importance',\n",
       " 'prepared',\n",
       " 'deduce.',\n",
       " 'quarter',\n",
       " 'incapable',\n",
       " 'barrel',\n",
       " 'postmarks',\n",
       " 'driving',\n",
       " 'performed',\n",
       " 'despair',\n",
       " 'Keep',\n",
       " 'inarticulate',\n",
       " 'Angel.',\n",
       " 'gates',\n",
       " 'city',\n",
       " 'submit',\n",
       " 'Boone',\n",
       " 'thing—a',\n",
       " 'damning',\n",
       " 'luck',\n",
       " 'Boscombe',\n",
       " 'One',\n",
       " 'fields',\n",
       " 'tool',\n",
       " 'opulence',\n",
       " 'Deeply',\n",
       " 'during',\n",
       " 'terraced',\n",
       " 'mother',\n",
       " 'Unless',\n",
       " 'dusty',\n",
       " 'awkward',\n",
       " 'statement',\n",
       " 'opened',\n",
       " '221B',\n",
       " 'alternation',\n",
       " 'plan.',\n",
       " 'cooped',\n",
       " 'kissed',\n",
       " 'aloud',\n",
       " 'waved',\n",
       " 'Colonel',\n",
       " 'sobbing',\n",
       " '_Lone',\n",
       " 'loafing',\n",
       " 'wearisome',\n",
       " 'huffed',\n",
       " 'chaffering',\n",
       " 'himself',\n",
       " ...}"
      ]
     },
     "execution_count": 34,
     "metadata": {},
     "output_type": "execute_result"
    }
   ],
   "source": [
    "set(tholmes)"
   ]
  },
  {
   "cell_type": "code",
   "execution_count": 35,
   "id": "79706214",
   "metadata": {},
   "outputs": [
    {
     "data": {
      "text/plain": [
       "10048"
      ]
     },
     "execution_count": 35,
     "metadata": {},
     "output_type": "execute_result"
    }
   ],
   "source": [
    "len(set(tholmes))"
   ]
  },
  {
   "cell_type": "markdown",
   "id": "7119ea69",
   "metadata": {},
   "source": [
    "<img src=\"./note.png\" width = \"\" height = \"\" alt=\"note\" align=left />\n",
    "From this example, you will see Moby Dick contains 260819 tokens (ie. words and punctuations). But actually, the total number of distinct tokens (so-called \"types\") is 19317. Still a very big number.\n",
    "Try other literature, you will see how great Moby Dick in terms of vocabulary you can learn by reading the book!"
   ]
  },
  {
   "cell_type": "markdown",
   "id": "c2cf4a81",
   "metadata": {},
   "source": [
    "The following example shows how to sort the distinct tokens by using sorted() function. "
   ]
  },
  {
   "cell_type": "code",
   "execution_count": 36,
   "id": "e9cac3e4",
   "metadata": {},
   "outputs": [
    {
     "data": {
      "text/plain": [
       "['!',\n",
       " '$',\n",
       " '%',\n",
       " '&',\n",
       " \"'\",\n",
       " \"''\",\n",
       " \"'AS-IS\",\n",
       " \"'s\",\n",
       " '(',\n",
       " ')',\n",
       " '*',\n",
       " ',',\n",
       " '-',\n",
       " '--',\n",
       " '-the-wisp',\n",
       " '.',\n",
       " '1',\n",
       " '1,100',\n",
       " '1.A',\n",
       " '1.B',\n",
       " '1.C',\n",
       " '1.D',\n",
       " '1.E',\n",
       " '1.E.1',\n",
       " '1.E.2',\n",
       " '1.E.3',\n",
       " '1.E.4',\n",
       " '1.E.5',\n",
       " '1.E.6',\n",
       " '1.E.7',\n",
       " '1.E.8',\n",
       " '1.E.9',\n",
       " '1.F',\n",
       " '1.F.1',\n",
       " '1.F.2',\n",
       " '1.F.3',\n",
       " '1.F.4',\n",
       " '1.F.5',\n",
       " '1.F.6',\n",
       " '10',\n",
       " '100',\n",
       " '1000',\n",
       " '10_s_',\n",
       " '10_s_.',\n",
       " '10th',\n",
       " '117',\n",
       " '11:15.',\n",
       " '11:30.',\n",
       " '120',\n",
       " '12_s_.',\n",
       " '12th',\n",
       " '14,000',\n",
       " '140',\n",
       " '150',\n",
       " '1500',\n",
       " '16A',\n",
       " '17',\n",
       " '1846.',\n",
       " '1858',\n",
       " '1869',\n",
       " '1870',\n",
       " '1878',\n",
       " '1883',\n",
       " '1883—a',\n",
       " '1884—there',\n",
       " '1887',\n",
       " '1888—I',\n",
       " '1890',\n",
       " '1890.',\n",
       " '19th.',\n",
       " '1_s_.',\n",
       " '2',\n",
       " '2,000',\n",
       " '20',\n",
       " '200',\n",
       " '2001',\n",
       " '220',\n",
       " '221B',\n",
       " '226',\n",
       " '22nd',\n",
       " '25',\n",
       " '250',\n",
       " '26',\n",
       " '26_s_',\n",
       " '27',\n",
       " '270',\n",
       " '2_s_',\n",
       " '2nd.',\n",
       " '3',\n",
       " '30',\n",
       " '30,000',\n",
       " '31',\n",
       " '3rd',\n",
       " '4',\n",
       " '4.',\n",
       " '40',\n",
       " '4000.',\n",
       " '4700',\n",
       " '4:35',\n",
       " '4_d_',\n",
       " '4th',\n",
       " '4½',\n",
       " '5',\n",
       " '5,000',\n",
       " '50',\n",
       " '50,000',\n",
       " '501',\n",
       " '596-1887',\n",
       " '5:14',\n",
       " '5:15',\n",
       " '60',\n",
       " '60.',\n",
       " '64-6221541',\n",
       " '6:30',\n",
       " '6_d_.',\n",
       " '7',\n",
       " '700',\n",
       " '750',\n",
       " '77',\n",
       " '7_s_',\n",
       " '7th',\n",
       " '801',\n",
       " '809',\n",
       " '82',\n",
       " '83',\n",
       " '84',\n",
       " '84116',\n",
       " '85',\n",
       " '87',\n",
       " '88',\n",
       " '89',\n",
       " '89—there',\n",
       " '8_d_.',\n",
       " '8_s_.',\n",
       " '9',\n",
       " '90',\n",
       " '9th',\n",
       " ':',\n",
       " ';',\n",
       " '?',\n",
       " 'A',\n",
       " 'ACTUAL',\n",
       " 'ADLER.',\n",
       " 'ADVENTURE',\n",
       " 'ADVENTURES',\n",
       " 'AGREE',\n",
       " 'AGREEMENT',\n",
       " 'AND',\n",
       " 'ANY',\n",
       " 'ANYTHING',\n",
       " 'ARAT',\n",
       " 'ASCII',\n",
       " 'Abbots',\n",
       " 'Aberdeen',\n",
       " 'About',\n",
       " 'Above',\n",
       " 'Absolute',\n",
       " 'Absolutely',\n",
       " 'Accustomed',\n",
       " 'Across',\n",
       " 'Additional',\n",
       " 'Adler',\n",
       " 'Adler.',\n",
       " 'Adventure',\n",
       " 'Adventures',\n",
       " 'Affairs',\n",
       " 'Afghan',\n",
       " 'Afghanistan',\n",
       " 'After',\n",
       " 'Again',\n",
       " 'Agra',\n",
       " 'Ah',\n",
       " 'Air',\n",
       " 'Alas',\n",
       " 'Albert',\n",
       " 'Aldersgate',\n",
       " 'Aldershot',\n",
       " 'Alexander',\n",
       " 'Alice',\n",
       " 'Alicia',\n",
       " 'All',\n",
       " 'Allegro',\n",
       " 'Aloysius',\n",
       " 'Alpha',\n",
       " 'Alpha.',\n",
       " 'Already',\n",
       " 'Also',\n",
       " 'Altogether',\n",
       " 'Always.',\n",
       " 'Amateur',\n",
       " 'America',\n",
       " 'American',\n",
       " 'Americans',\n",
       " 'Amid',\n",
       " 'Among',\n",
       " 'Amoy',\n",
       " 'Ample.',\n",
       " 'An',\n",
       " 'And',\n",
       " 'Anderson_',\n",
       " 'Andover',\n",
       " 'Angel',\n",
       " 'Angel.',\n",
       " 'Angel—was',\n",
       " 'Another',\n",
       " 'Anstruther',\n",
       " 'Any',\n",
       " 'Anybody',\n",
       " 'Anyhow',\n",
       " 'Anything',\n",
       " 'Apache',\n",
       " 'Apaches',\n",
       " 'Apply',\n",
       " 'April',\n",
       " 'Arabian',\n",
       " 'Archery',\n",
       " 'Archie',\n",
       " 'Architecture',\n",
       " 'Archive',\n",
       " 'Are',\n",
       " 'Arizona',\n",
       " 'Armitage',\n",
       " 'Armitage—Percy',\n",
       " 'Armitage—the',\n",
       " 'Armour',\n",
       " 'Arms',\n",
       " 'Arnsworth',\n",
       " 'Arthur',\n",
       " 'Artillery',\n",
       " 'As',\n",
       " 'Assizes',\n",
       " 'Assizes.',\n",
       " 'Astonishment',\n",
       " 'At',\n",
       " 'Atkinson',\n",
       " 'Atlantic',\n",
       " 'Attica',\n",
       " 'Auckland',\n",
       " 'Augustine',\n",
       " 'Australia',\n",
       " 'Australia.',\n",
       " 'Australian',\n",
       " 'Australians',\n",
       " 'Avenue',\n",
       " 'Awake',\n",
       " 'Away',\n",
       " 'Ay',\n",
       " 'Azure',\n",
       " 'B',\n",
       " 'B.',\n",
       " 'BACHELOR',\n",
       " 'BALLARAT.',\n",
       " 'BAND',\n",
       " 'BE',\n",
       " 'BEECHES',\n",
       " 'BEFORE',\n",
       " 'BERYL',\n",
       " 'BLUE',\n",
       " 'BOHEMIA',\n",
       " 'BOSCOMBE',\n",
       " 'BREACH',\n",
       " 'BUT',\n",
       " 'Bachelor',\n",
       " 'Backwater',\n",
       " 'Baker',\n",
       " 'Bakers',\n",
       " 'Ballarat',\n",
       " 'Ballarat.',\n",
       " 'Balmoral',\n",
       " 'Balmoral.',\n",
       " 'Balzac',\n",
       " 'Band',\n",
       " 'Bank',\n",
       " 'Bankers',\n",
       " 'Bar',\n",
       " 'Barque',\n",
       " 'Barton',\n",
       " 'Baxter',\n",
       " 'Be',\n",
       " 'Because',\n",
       " 'Becher',\n",
       " 'Beeches',\n",
       " 'Before',\n",
       " 'Behind',\n",
       " 'Bengal',\n",
       " 'Berkshire',\n",
       " 'Bermuda',\n",
       " 'Beryl',\n",
       " 'Beside',\n",
       " 'Besides',\n",
       " 'Better',\n",
       " 'Between',\n",
       " 'Beyond',\n",
       " 'Bible',\n",
       " 'Bill',\n",
       " 'Birchmoor',\n",
       " 'Black',\n",
       " 'Bloomsbury',\n",
       " 'Blue',\n",
       " 'Bohemia',\n",
       " 'Bohemia.',\n",
       " 'Bohemian',\n",
       " 'Boone',\n",
       " 'Boone.',\n",
       " 'Boone—the',\n",
       " 'Boots',\n",
       " 'Bordeaux',\n",
       " 'Born',\n",
       " 'Boscombe',\n",
       " 'Boswell',\n",
       " 'Botany',\n",
       " 'Both',\n",
       " 'Bought.',\n",
       " 'Bow',\n",
       " 'Bradshaw',\n",
       " 'Bradstreet',\n",
       " 'Bradstreet.',\n",
       " 'Breckinridge',\n",
       " 'Bridge',\n",
       " 'Bridge.',\n",
       " 'Briefly',\n",
       " 'Bring',\n",
       " 'Briony',\n",
       " 'Bristol',\n",
       " 'Britain',\n",
       " 'Britannica_',\n",
       " 'British',\n",
       " 'Brixton',\n",
       " 'Burnwell',\n",
       " 'But',\n",
       " 'By',\n",
       " 'C',\n",
       " 'C.',\n",
       " 'CARBUNCLE',\n",
       " 'CASE',\n",
       " 'CONSEQUENTIAL',\n",
       " 'CONTRACT',\n",
       " 'COPPER',\n",
       " 'CORONET',\n",
       " 'Cal.',\n",
       " 'Calcutta',\n",
       " 'Calhoun',\n",
       " 'California',\n",
       " 'Californian',\n",
       " 'Camberwell',\n",
       " 'Camberwell.',\n",
       " 'Can',\n",
       " 'Cannon',\n",
       " 'Capital',\n",
       " 'Captain',\n",
       " 'Carbuncle',\n",
       " 'Carefully',\n",
       " 'Carlo',\n",
       " 'Carlsbad',\n",
       " 'Carolinas',\n",
       " 'Case',\n",
       " 'Cassel-Felstein',\n",
       " 'Castle',\n",
       " 'Catherine',\n",
       " 'Cedars',\n",
       " 'Certainly',\n",
       " 'Certainly.',\n",
       " 'Chamber',\n",
       " 'Chance',\n",
       " 'Charing',\n",
       " 'Charles',\n",
       " 'Charming',\n",
       " 'Chesterfield',\n",
       " 'China',\n",
       " 'Chinese',\n",
       " 'Christ',\n",
       " 'Christmas',\n",
       " 'Chronicle_',\n",
       " 'Chubb',\n",
       " 'Church',\n",
       " 'Circumstantial',\n",
       " 'City',\n",
       " 'Civil',\n",
       " 'Clair',\n",
       " 'Clara',\n",
       " 'Clark',\n",
       " 'Clay',\n",
       " 'Clearly',\n",
       " 'Close',\n",
       " 'Clotilde',\n",
       " 'Club',\n",
       " 'Co.',\n",
       " 'Coarse',\n",
       " 'Cobb',\n",
       " 'Coburg',\n",
       " 'Cocksure',\n",
       " 'College',\n",
       " 'Colonel',\n",
       " 'Colony',\n",
       " 'Come',\n",
       " 'Coming',\n",
       " 'Commons',\n",
       " 'Company',\n",
       " 'Company.',\n",
       " 'Compliance',\n",
       " 'Conan',\n",
       " 'Consider',\n",
       " 'Contact',\n",
       " 'Contents',\n",
       " 'Continent.',\n",
       " 'Continental',\n",
       " 'Contralto—hum',\n",
       " 'Contributions',\n",
       " 'Convinced',\n",
       " 'Cooee',\n",
       " 'Cook',\n",
       " 'Copper',\n",
       " 'Copyright',\n",
       " 'Cornwall',\n",
       " 'Coroner',\n",
       " 'Coronet',\n",
       " 'Cosmopolitan',\n",
       " 'Could',\n",
       " 'Count',\n",
       " 'Countess',\n",
       " 'Counties',\n",
       " 'Court',\n",
       " 'Covent',\n",
       " 'Coventry',\n",
       " 'Crane',\n",
       " 'Creating',\n",
       " 'Crewe',\n",
       " 'Crime',\n",
       " 'Cross',\n",
       " 'Crowder',\n",
       " 'Crown',\n",
       " 'Crown.',\n",
       " 'Cusack',\n",
       " 'Cusack—and',\n",
       " 'Cuvier',\n",
       " 'D',\n",
       " 'D.D.',\n",
       " 'DAMAGE',\n",
       " 'DAMAGES',\n",
       " 'DEAR',\n",
       " 'DEAREST',\n",
       " 'DIRECT',\n",
       " 'DISCLAIMER',\n",
       " 'DISSOLVED',\n",
       " 'DISTRIBUTE',\n",
       " 'DISTRIBUTOR',\n",
       " 'DONATIONS',\n",
       " 'Daily',\n",
       " 'Dane',\n",
       " 'Danger',\n",
       " 'Dark',\n",
       " 'Darlington',\n",
       " 'Data',\n",
       " 'De',\n",
       " 'Dear',\n",
       " 'Dearest',\n",
       " 'Death',\n",
       " 'December',\n",
       " 'Deeply',\n",
       " 'Defect',\n",
       " 'Defects',\n",
       " 'Depend',\n",
       " 'Describe',\n",
       " 'Deserted',\n",
       " 'Despite',\n",
       " 'Devonshire',\n",
       " 'Did',\n",
       " 'Dirty',\n",
       " 'Disregarding',\n",
       " 'Division',\n",
       " 'Do',\n",
       " 'Dock',\n",
       " 'Dockyard',\n",
       " 'Doctor',\n",
       " 'Doctors',\n",
       " 'Doctor—as',\n",
       " 'Does',\n",
       " 'Don',\n",
       " 'Donations',\n",
       " 'Done',\n",
       " 'Doran',\n",
       " 'Down',\n",
       " 'Doyle',\n",
       " 'Dr',\n",
       " 'Dr.',\n",
       " 'Draw',\n",
       " 'Drink',\n",
       " 'Drive',\n",
       " 'Duchess',\n",
       " 'Duke',\n",
       " 'Duncan',\n",
       " 'Dundas',\n",
       " 'Dundee',\n",
       " 'During',\n",
       " 'E',\n",
       " 'EBOOK',\n",
       " 'EIN',\n",
       " 'END',\n",
       " 'ENGINEER',\n",
       " 'EVEN',\n",
       " 'EXCEPT',\n",
       " 'EXPRESS',\n",
       " 'Each',\n",
       " 'Early',\n",
       " 'Easier',\n",
       " 'East',\n",
       " 'Eastern',\n",
       " 'Edgeware',\n",
       " 'Edward',\n",
       " 'Eg.',\n",
       " 'Eglonitz—here',\n",
       " 'Eglow',\n",
       " 'Egria',\n",
       " 'Eh',\n",
       " 'Eight',\n",
       " 'Eley',\n",
       " 'Elias',\n",
       " 'Elise',\n",
       " 'Email',\n",
       " 'Embankment',\n",
       " 'Encyclopædia_',\n",
       " 'End',\n",
       " 'Endell',\n",
       " 'Engineer',\n",
       " 'England',\n",
       " 'England.',\n",
       " 'England—a',\n",
       " 'English',\n",
       " 'Englishman',\n",
       " 'Entirely.',\n",
       " 'Esq',\n",
       " 'Esq.',\n",
       " 'Etherege',\n",
       " 'Eton',\n",
       " 'Europe',\n",
       " 'European',\n",
       " 'Eustace',\n",
       " 'Even',\n",
       " 'Eventually',\n",
       " 'Every',\n",
       " 'Everybody',\n",
       " 'Evidence',\n",
       " 'Evidently',\n",
       " 'Exactly',\n",
       " 'Excellent',\n",
       " 'Except',\n",
       " 'Excuse',\n",
       " 'Experience',\n",
       " 'Extremely',\n",
       " 'Eyford',\n",
       " 'Eyford.',\n",
       " 'Ezekiah',\n",
       " 'F.',\n",
       " 'FITNESS',\n",
       " 'FIVE',\n",
       " 'FOR',\n",
       " 'FOUNDATION',\n",
       " 'FULL',\n",
       " 'Faces',\n",
       " 'Fairbank',\n",
       " 'Fancy',\n",
       " 'Far',\n",
       " 'Fareham',\n",
       " 'Farewell',\n",
       " 'Farintosh',\n",
       " 'Farm',\n",
       " 'Farmhouse',\n",
       " 'Farrington',\n",
       " 'Fashionable',\n",
       " 'Father',\n",
       " 'February',\n",
       " 'Fenchurch',\n",
       " 'Ferguson',\n",
       " 'Filled',\n",
       " 'Finally',\n",
       " 'Find',\n",
       " 'Fine',\n",
       " 'Finns',\n",
       " 'Fire',\n",
       " 'Five',\n",
       " 'Flaubert',\n",
       " 'Fleet',\n",
       " 'Flora',\n",
       " 'Florida',\n",
       " 'Folk',\n",
       " 'For',\n",
       " 'Fordham',\n",
       " 'Foreign',\n",
       " 'Forgery.',\n",
       " 'Found',\n",
       " 'Foundation',\n",
       " 'Four',\n",
       " 'Four.',\n",
       " 'Fowler',\n",
       " 'Fowler.',\n",
       " 'France',\n",
       " 'Francis',\n",
       " 'Francisco',\n",
       " 'Franco-Prussian',\n",
       " 'Frank',\n",
       " 'Frankly',\n",
       " 'Freebody',\n",
       " 'Freemason',\n",
       " 'Freemasonry',\n",
       " 'French',\n",
       " 'Frenchman',\n",
       " 'Frequently.',\n",
       " 'Fresh',\n",
       " 'Fresno',\n",
       " 'Friday',\n",
       " 'Frisco',\n",
       " 'Fritz',\n",
       " 'From',\n",
       " 'Full',\n",
       " 'G',\n",
       " 'GIVE',\n",
       " 'GUTENBERG',\n",
       " 'GUTENBERG-tm',\n",
       " 'Game',\n",
       " 'Gang',\n",
       " 'Garden',\n",
       " 'Garden.',\n",
       " 'Gate',\n",
       " 'Gazette_',\n",
       " 'Gazetteer.',\n",
       " 'General',\n",
       " 'George',\n",
       " 'Georgia',\n",
       " 'Georgia.',\n",
       " 'German',\n",
       " 'German-speaking',\n",
       " 'Germans',\n",
       " 'Gesellschaft',\n",
       " 'Get',\n",
       " 'Getting',\n",
       " 'Give',\n",
       " 'Giving',\n",
       " 'Gladstone',\n",
       " 'God',\n",
       " 'Godfrey',\n",
       " 'Gold',\n",
       " 'Gone',\n",
       " 'Good',\n",
       " 'Good-afternoon',\n",
       " 'Good-bye',\n",
       " 'Good-day',\n",
       " 'Good-evening',\n",
       " 'Good-morning',\n",
       " 'Good-night',\n",
       " 'Good-night.',\n",
       " 'Goodge',\n",
       " 'Goodwins',\n",
       " 'Gordon',\n",
       " 'Gottsreich',\n",
       " 'Grand',\n",
       " 'Grave',\n",
       " 'Gravesend',\n",
       " 'Great',\n",
       " 'Greenwich',\n",
       " 'Grice',\n",
       " 'Grimesby',\n",
       " 'Grit',\n",
       " 'Gross',\n",
       " 'Grosvenor',\n",
       " 'Gustave',\n",
       " 'Gutenberg',\n",
       " 'Gutenberg-tm',\n",
       " \"Gutenberg-tm's\",\n",
       " 'H',\n",
       " 'H.',\n",
       " 'HAVE',\n",
       " 'HOLMES',\n",
       " 'HUNTER',\n",
       " 'HUNTER.',\n",
       " 'Ha',\n",
       " 'Had',\n",
       " 'Hafiz',\n",
       " 'Hague',\n",
       " 'Half',\n",
       " 'Halifax',\n",
       " 'Hall',\n",
       " 'Hall.',\n",
       " 'Hampshire',\n",
       " 'Hankey',\n",
       " 'Hanover',\n",
       " 'Hardy',\n",
       " 'Hare',\n",
       " 'Harley',\n",
       " 'Harris',\n",
       " 'Harrow',\n",
       " 'Hart',\n",
       " 'Has',\n",
       " 'Hatherley',\n",
       " 'Hatty',\n",
       " 'Have',\n",
       " 'Having',\n",
       " 'Hay',\n",
       " 'Hayling',\n",
       " 'He',\n",
       " 'Head',\n",
       " 'Heaven',\n",
       " 'Heavy',\n",
       " 'Hebrew',\n",
       " 'Heh',\n",
       " 'Helen',\n",
       " 'Hence',\n",
       " 'Henry',\n",
       " 'Her',\n",
       " 'Hercules',\n",
       " 'Here',\n",
       " 'Hereford',\n",
       " 'Herefordshire',\n",
       " 'Hers',\n",
       " 'High',\n",
       " 'Highness',\n",
       " 'Hill',\n",
       " 'His',\n",
       " 'Hitherto',\n",
       " 'Holborn',\n",
       " 'Hold',\n",
       " 'Holder',\n",
       " 'Holland',\n",
       " 'Holmes',\n",
       " 'Holmes.',\n",
       " 'Holmes—a',\n",
       " 'Honoria',\n",
       " 'Hood',\n",
       " 'Hopkins',\n",
       " 'Horace',\n",
       " 'Horner',\n",
       " 'Horsham',\n",
       " 'Horsham.',\n",
       " 'Hosmer',\n",
       " 'Hosmer—Mr',\n",
       " 'Hotel',\n",
       " 'House',\n",
       " 'How',\n",
       " 'However',\n",
       " 'Hudson',\n",
       " 'Hugh',\n",
       " 'Hullo',\n",
       " 'Hum',\n",
       " 'Hunter',\n",
       " 'Hunter.',\n",
       " 'Hyde',\n",
       " 'I',\n",
       " 'I.',\n",
       " 'IDENTITY',\n",
       " 'IF',\n",
       " 'II',\n",
       " 'III',\n",
       " 'IMPLIED',\n",
       " 'IN',\n",
       " 'INCIDENTAL',\n",
       " 'INCLUDING',\n",
       " 'INDEMNITY',\n",
       " 'INDIRECT',\n",
       " 'IRENE',\n",
       " 'IRS',\n",
       " 'IS',\n",
       " 'IV',\n",
       " 'IX',\n",
       " 'Identity',\n",
       " 'If',\n",
       " 'Imagine',\n",
       " 'Imitated.',\n",
       " 'Imperial',\n",
       " 'Impossible',\n",
       " 'In',\n",
       " 'Incredible',\n",
       " 'Indeed',\n",
       " 'India',\n",
       " 'Indian',\n",
       " 'Indians',\n",
       " 'Indirectly',\n",
       " 'Information',\n",
       " 'Inn',\n",
       " 'Inner',\n",
       " 'Insensibly',\n",
       " 'Inspector',\n",
       " 'Instead',\n",
       " 'Internal',\n",
       " 'International',\n",
       " 'Irene',\n",
       " 'Irish-setter',\n",
       " 'Is',\n",
       " 'Isa',\n",
       " 'Isle',\n",
       " 'It',\n",
       " 'Italian',\n",
       " 'Its',\n",
       " 'It—it',\n",
       " 'J.',\n",
       " 'JABEZ',\n",
       " 'JEPHRO',\n",
       " 'Jabez',\n",
       " 'Jack',\n",
       " 'Jack-in-office',\n",
       " 'Jackson',\n",
       " 'James',\n",
       " 'Jane',\n",
       " 'January',\n",
       " 'Jem',\n",
       " 'Jem.',\n",
       " 'Jephro',\n",
       " 'Jeremiah',\n",
       " 'Jersey',\n",
       " 'Jewel',\n",
       " 'John',\n",
       " 'Jones',\n",
       " 'Joseph',\n",
       " 'Jove',\n",
       " 'Julia',\n",
       " 'Jump',\n",
       " 'June',\n",
       " 'Juryman',\n",
       " 'Just',\n",
       " 'K',\n",
       " 'K.',\n",
       " 'KIND',\n",
       " 'Kate',\n",
       " 'Kate—poor',\n",
       " 'Keep',\n",
       " 'Kensington',\n",
       " 'Kent',\n",
       " 'Kent.',\n",
       " 'Kilburn',\n",
       " 'Kill',\n",
       " 'Kindly',\n",
       " 'King',\n",
       " 'Klan',\n",
       " 'Klux',\n",
       " 'Knowing',\n",
       " 'Known',\n",
       " 'Kramm',\n",
       " 'Kramm.',\n",
       " 'Ku',\n",
       " 'L',\n",
       " 'LEAGUE',\n",
       " 'LIABILITY',\n",
       " 'LIABLE',\n",
       " 'LICENSE',\n",
       " 'LIMITED',\n",
       " 'LIP',\n",
       " 'La',\n",
       " 'Lady',\n",
       " 'Lake',\n",
       " 'Lancaster',\n",
       " 'Lane',\n",
       " 'Langham',\n",
       " 'Large',\n",
       " 'Lascar',\n",
       " 'Last',\n",
       " 'Leadenhall',\n",
       " 'League',\n",
       " 'League.',\n",
       " 'Leatherhead',\n",
       " 'Leave',\n",
       " 'Lebanon',\n",
       " 'Lee',\n",
       " 'Lee.',\n",
       " 'Left',\n",
       " 'Lestrade',\n",
       " 'Let',\n",
       " 'Letters',\n",
       " 'License',\n",
       " 'Light',\n",
       " 'Lip',\n",
       " 'Listen',\n",
       " 'Literary',\n",
       " 'Living',\n",
       " 'Lloyd',\n",
       " 'Local',\n",
       " 'Lodge',\n",
       " 'Logic',\n",
       " 'London',\n",
       " 'London.',\n",
       " 'Londoners',\n",
       " 'London—eastern',\n",
       " 'London—quite',\n",
       " 'Look',\n",
       " 'Looking',\n",
       " 'Lord',\n",
       " 'Lordship',\n",
       " 'Lost',\n",
       " 'Lothman',\n",
       " 'Louisiana',\n",
       " 'Lucy',\n",
       " 'Lyon',\n",
       " 'Lysander',\n",
       " 'M.',\n",
       " 'MAN',\n",
       " 'MARY.',\n",
       " 'MERCHANTABILITY',\n",
       " 'MISS',\n",
       " 'MR.',\n",
       " 'MY',\n",
       " 'MYSTERY',\n",
       " 'Madame',\n",
       " 'Mademoiselle',\n",
       " 'Maggie',\n",
       " 'Majesty',\n",
       " 'Major',\n",
       " 'Major-General',\n",
       " 'Making',\n",
       " 'Malay',\n",
       " 'Male',\n",
       " 'Mall_',\n",
       " 'Man',\n",
       " 'Manor',\n",
       " 'Mansions',\n",
       " 'Many',\n",
       " 'Marbank',\n",
       " 'March',\n",
       " 'Mark',\n",
       " 'Market',\n",
       " 'Married',\n",
       " 'Marseilles',\n",
       " 'Mary',\n",
       " 'Master',\n",
       " 'Matheson',\n",
       " 'Maudsley',\n",
       " 'Mauritius',\n",
       " 'May',\n",
       " 'McCarthy',\n",
       " 'McCarthy.',\n",
       " 'McCarthys',\n",
       " 'McCauley',\n",
       " 'McFarlane',\n",
       " 'McQuire',\n",
       " 'Melbourne',\n",
       " 'Men',\n",
       " 'Mendicant',\n",
       " 'Meredith',\n",
       " 'Merryweather',\n",
       " 'Metropolitan',\n",
       " 'Mexico',\n",
       " 'Michael',\n",
       " 'Middlesex',\n",
       " 'Might',\n",
       " 'Millar',\n",
       " 'Millar.',\n",
       " 'Miss',\n",
       " 'Missing',\n",
       " 'Mission',\n",
       " 'Mississippi',\n",
       " 'Mister',\n",
       " 'Monday',\n",
       " 'Monday.',\n",
       " 'Monica',\n",
       " 'Montague',\n",
       " 'Montana',\n",
       " 'Moran',\n",
       " 'Moran.',\n",
       " 'Morcar',\n",
       " 'More',\n",
       " 'Morning',\n",
       " 'Morris',\n",
       " 'Mortimer',\n",
       " 'Most',\n",
       " 'Mother',\n",
       " 'Moulton',\n",
       " 'Mr',\n",
       " 'Mr.',\n",
       " 'Mrs',\n",
       " 'Mrs.',\n",
       " 'Munich',\n",
       " 'Munro',\n",
       " 'Munro.',\n",
       " 'Murdered',\n",
       " 'Museum',\n",
       " 'Museum—we',\n",
       " 'Must',\n",
       " 'My',\n",
       " 'Mystery',\n",
       " 'NEGLIGENCE',\n",
       " 'NO',\n",
       " 'NOBLE',\n",
       " 'NORTON',\n",
       " 'NOT',\n",
       " 'NOTICE',\n",
       " 'Name',\n",
       " 'Naturally',\n",
       " 'Nature',\n",
       " 'Nay',\n",
       " 'Near',\n",
       " 'Nearly',\n",
       " 'Ned',\n",
       " 'Neither',\n",
       " 'Never',\n",
       " 'Never.',\n",
       " 'Neville',\n",
       " 'New',\n",
       " 'News_',\n",
       " 'Next',\n",
       " 'Nights',\n",
       " 'No',\n",
       " 'No.',\n",
       " 'Noble',\n",
       " 'Nonconformist',\n",
       " ...]"
      ]
     },
     "execution_count": 36,
     "metadata": {},
     "output_type": "execute_result"
    }
   ],
   "source": [
    "sorted(set(tholmes))"
   ]
  },
  {
   "cell_type": "markdown",
   "id": "f2769722",
   "metadata": {},
   "source": [
    "In NLTK, as all the \"books\" are already well \"tokenized\" and put it as a list book object. We can access ANY part of the book content by using the list indexing method. \n",
    "As below:"
   ]
  },
  {
   "cell_type": "code",
   "execution_count": 37,
   "id": "dce43976",
   "metadata": {},
   "outputs": [
    {
     "data": {
      "text/plain": [
       "['Adventures',\n",
       " 'of',\n",
       " 'Sherlock',\n",
       " 'Holmes',\n",
       " 'by',\n",
       " 'Arthur',\n",
       " 'Conan',\n",
       " 'Doyle',\n",
       " 'Contents',\n",
       " 'I',\n",
       " '.',\n",
       " 'A',\n",
       " 'Scandal',\n",
       " 'in',\n",
       " 'Bohemia',\n",
       " 'II',\n",
       " '.',\n",
       " 'The',\n",
       " 'Red-Headed']"
      ]
     },
     "execution_count": 37,
     "metadata": {},
     "output_type": "execute_result"
    }
   ],
   "source": [
    "# Aceess the First 20 tokens from tholmes\n",
    "tholmes[1:20]"
   ]
  },
  {
   "cell_type": "code",
   "execution_count": 38,
   "id": "36debccb",
   "metadata": {},
   "outputs": [
    {
     "data": {
      "text/plain": [
       "['IN',\n",
       " 'BOHEMIA',\n",
       " 'I',\n",
       " '.',\n",
       " 'To',\n",
       " 'Sherlock',\n",
       " 'Holmes',\n",
       " 'she',\n",
       " 'is',\n",
       " 'always',\n",
       " '_the_',\n",
       " 'woman',\n",
       " '.',\n",
       " 'I',\n",
       " 'have',\n",
       " 'seldom',\n",
       " 'heard',\n",
       " 'him',\n",
       " 'mention',\n",
       " 'her',\n",
       " 'under',\n",
       " 'any',\n",
       " 'other',\n",
       " 'name',\n",
       " '.',\n",
       " 'In',\n",
       " 'his',\n",
       " 'eyes',\n",
       " 'she',\n",
       " 'eclipses',\n",
       " 'and',\n",
       " 'predominates',\n",
       " 'the',\n",
       " 'whole',\n",
       " 'of',\n",
       " 'her',\n",
       " 'sex',\n",
       " '.',\n",
       " 'It',\n",
       " 'was',\n",
       " 'not',\n",
       " 'that',\n",
       " 'he',\n",
       " 'felt',\n",
       " 'any',\n",
       " 'emotion',\n",
       " 'akin',\n",
       " 'to',\n",
       " 'love',\n",
       " 'for']"
      ]
     },
     "execution_count": 38,
     "metadata": {},
     "output_type": "execute_result"
    }
   ],
   "source": [
    "# Access the MIDDLE content\n",
    "tholmes[100:150]"
   ]
  },
  {
   "cell_type": "code",
   "execution_count": 39,
   "id": "64b39812",
   "metadata": {},
   "outputs": [
    {
     "data": {
      "text/plain": [
       "['the',\n",
       " 'main',\n",
       " 'PG',\n",
       " 'search',\n",
       " 'facility',\n",
       " ':',\n",
       " 'www.gutenberg.org',\n",
       " 'This',\n",
       " 'website',\n",
       " 'includes',\n",
       " 'information',\n",
       " 'about',\n",
       " 'Project',\n",
       " 'Gutenberg-tm',\n",
       " ',',\n",
       " 'including',\n",
       " 'how',\n",
       " 'to',\n",
       " 'make',\n",
       " 'donations',\n",
       " 'to',\n",
       " 'the',\n",
       " 'Project',\n",
       " 'Gutenberg',\n",
       " 'Literary',\n",
       " 'Archive',\n",
       " 'Foundation',\n",
       " ',',\n",
       " 'how',\n",
       " 'to',\n",
       " 'help',\n",
       " 'produce',\n",
       " 'our',\n",
       " 'new',\n",
       " 'eBooks',\n",
       " ',',\n",
       " 'and',\n",
       " 'how',\n",
       " 'to',\n",
       " 'subscribe',\n",
       " 'to',\n",
       " 'our',\n",
       " 'email',\n",
       " 'newsletter',\n",
       " 'to',\n",
       " 'hear',\n",
       " 'about',\n",
       " 'new',\n",
       " 'eBooks',\n",
       " '.']"
      ]
     },
     "execution_count": 39,
     "metadata": {},
     "output_type": "execute_result"
    }
   ],
   "source": [
    "# Aceess from the END\n",
    "tholmes[-50:]"
   ]
  },
  {
   "cell_type": "markdown",
   "id": "7eeeac40",
   "metadata": {},
   "source": [
    "### 10.8.4 Lexical Diversity"
   ]
  },
  {
   "cell_type": "markdown",
   "id": "a0f656f9",
   "metadata": {},
   "source": [
    "#### Token Usage Frequency (Lexical Diversity)"
   ]
  },
  {
   "cell_type": "markdown",
   "id": "b20545b2",
   "metadata": {},
   "source": [
    "One may wonder: On the average, how many times we use a particular token (word) inside a document?\n",
    "\n",
    "We can do so by simply divide the total number of tokens by total number of token types - the token usage frequency or what we called \"Lexical Diversity\".\n"
   ]
  },
  {
   "cell_type": "code",
   "execution_count": 40,
   "id": "f6ef6f30",
   "metadata": {},
   "outputs": [
    {
     "data": {
      "text/plain": [
       "13.502044830977896"
      ]
     },
     "execution_count": 40,
     "metadata": {},
     "output_type": "execute_result"
    }
   ],
   "source": [
    "len(text1)/len(set(text1))"
   ]
  },
  {
   "cell_type": "code",
   "execution_count": 41,
   "id": "fe3e3b33",
   "metadata": {},
   "outputs": [
    {
     "data": {
      "text/plain": [
       "20.719449729255086"
      ]
     },
     "execution_count": 41,
     "metadata": {},
     "output_type": "execute_result"
    }
   ],
   "source": [
    "len(text2)/len(set(text2))"
   ]
  },
  {
   "cell_type": "code",
   "execution_count": 42,
   "id": "67e58dc1",
   "metadata": {},
   "outputs": [
    {
     "data": {
      "text/plain": [
       "16.050197203298673"
      ]
     },
     "execution_count": 42,
     "metadata": {},
     "output_type": "execute_result"
    }
   ],
   "source": [
    "len(text3)/len(set(text3))"
   ]
  },
  {
   "cell_type": "code",
   "execution_count": 43,
   "id": "4a975dae",
   "metadata": {},
   "outputs": [
    {
     "data": {
      "text/plain": [
       "15.251970074812968"
      ]
     },
     "execution_count": 43,
     "metadata": {},
     "output_type": "execute_result"
    }
   ],
   "source": [
    "len(text4)/len(set(text4))"
   ]
  },
  {
   "cell_type": "markdown",
   "id": "f72fc888",
   "metadata": {},
   "source": [
    "<img src=\"./note.png\" width = \"\" height = \"\" alt=\"note\" align=left />\n",
    "\n",
    "The above Python codes try to analyse the Token Usage Fequency for the FOUR text documents: Moby Dick, Sense and Sensibility, Book of Genesis and Inaugural Address Corpus. The usage frequency is ranging from 13.5 to 20.7, which is rather big in some sense. Why is that? What is the implication?"
   ]
  },
  {
   "cell_type": "markdown",
   "id": "4ba4cf09",
   "metadata": {},
   "source": [
    "####  Word Usage Frequency"
   ]
  },
  {
   "cell_type": "markdown",
   "id": "47334b0a",
   "metadata": {},
   "source": [
    "In terms of technical writing, we usually study the usage of some commonly used words such as \"the\" and \"of\". \n",
    "In the following example, we try to study is there is any pattern of the Word Usage Frequency of some commonly used words such as \"the\" in the FOUR books we have just investigated. "
   ]
  },
  {
   "cell_type": "code",
   "execution_count": 44,
   "id": "710b2475",
   "metadata": {},
   "outputs": [
    {
     "data": {
      "text/plain": [
       "13721"
      ]
     },
     "execution_count": 44,
     "metadata": {},
     "output_type": "execute_result"
    }
   ],
   "source": [
    "text1.count('the')"
   ]
  },
  {
   "cell_type": "code",
   "execution_count": 45,
   "id": "2713ed53",
   "metadata": {},
   "outputs": [
    {
     "data": {
      "text/plain": [
       "5.260736372733581"
      ]
     },
     "execution_count": 45,
     "metadata": {},
     "output_type": "execute_result"
    }
   ],
   "source": [
    "text1.count('the')/len(text1)*100"
   ]
  },
  {
   "cell_type": "code",
   "execution_count": 46,
   "id": "82900396",
   "metadata": {},
   "outputs": [
    {
     "data": {
      "text/plain": [
       "2.7271571452788606"
      ]
     },
     "execution_count": 46,
     "metadata": {},
     "output_type": "execute_result"
    }
   ],
   "source": [
    "text2.count('the')/len(text2)*100"
   ]
  },
  {
   "cell_type": "code",
   "execution_count": 47,
   "id": "61bbd396",
   "metadata": {},
   "outputs": [
    {
     "data": {
      "text/plain": [
       "5.386024483960325"
      ]
     },
     "execution_count": 47,
     "metadata": {},
     "output_type": "execute_result"
    }
   ],
   "source": [
    "text3.count('the')/len(text3)*100"
   ]
  },
  {
   "cell_type": "code",
   "execution_count": 48,
   "id": "fe5f4d73",
   "metadata": {},
   "outputs": [
    {
     "data": {
      "text/plain": [
       "6.2491416014283745"
      ]
     },
     "execution_count": 48,
     "metadata": {},
     "output_type": "execute_result"
    }
   ],
   "source": [
    "text4.count('the')/len(text4)*100"
   ]
  },
  {
   "cell_type": "markdown",
   "id": "d1f2672a",
   "metadata": {},
   "source": [
    "<img src=\"./note.png\" width = \"\" height = \"\" alt=\"note\" align=left />\n",
    "\n",
    "1. Is there any pattern you can see as comparing these FOUR different types of literatures/documents?\n",
    "2. Check for other commonly used words such as \"of\", \"a\", \"I\" to check if there are any other pattern(s) exist. "
   ]
  },
  {
   "cell_type": "markdown",
   "id": "71367d6a",
   "metadata": {},
   "source": [
    "## 10.9 Basic Statistical Tools in NLTK"
   ]
  },
  {
   "cell_type": "markdown",
   "id": "987620db",
   "metadata": {},
   "source": [
    "### 10.9.1 Frequency Distribution - FreqDist()\n",
    "As mentioned, once NTLK can tokenize a string or even whole book of text document, the most fundamental usage on text analysis is the provision of some basic statistical tools and funtions. \n",
    "\n",
    "The first one is Frequency Distribution - FreqDist(). FreqDist() is a built-in method in NLTK to analyse the frequency distribution of every token types inside a text document. \n",
    "\n",
    "In the following example, we use Text4 - Inaugural Address Corpus as example on how it works. "
   ]
  },
  {
   "cell_type": "code",
   "execution_count": 49,
   "id": "f45b109f",
   "metadata": {},
   "outputs": [
    {
     "data": {
      "text/plain": [
       "<Text: Inaugural Address Corpus>"
      ]
     },
     "execution_count": 49,
     "metadata": {},
     "output_type": "execute_result"
    }
   ],
   "source": [
    "text4"
   ]
  },
  {
   "cell_type": "code",
   "execution_count": 50,
   "id": "be955c15",
   "metadata": {},
   "outputs": [],
   "source": [
    "FreqDist?"
   ]
  },
  {
   "cell_type": "code",
   "execution_count": 51,
   "id": "fd1f5154",
   "metadata": {},
   "outputs": [],
   "source": [
    "fd4 = FreqDist(text4)"
   ]
  },
  {
   "cell_type": "code",
   "execution_count": 52,
   "id": "28c8f794",
   "metadata": {},
   "outputs": [
    {
     "data": {
      "text/plain": [
       "FreqDist({'the': 9555, ',': 7275, 'of': 7169, 'and': 5226, '.': 5011, 'to': 4477, 'in': 2604, 'a': 2229, 'our': 2062, 'that': 1769, ...})"
      ]
     },
     "execution_count": 52,
     "metadata": {},
     "output_type": "execute_result"
    }
   ],
   "source": [
    "fd4"
   ]
  },
  {
   "cell_type": "markdown",
   "id": "3805bc04",
   "metadata": {},
   "source": [
    "#### FreqDist() as Dictionary Object"
   ]
  },
  {
   "cell_type": "markdown",
   "id": "01d6af49",
   "metadata": {},
   "source": [
    "<img src=\"./note.png\" width = \"\" height = \"\" alt=\"note\" align=left />\n",
    "\n",
    "As one can see, the FreqDist() will return Dictionary object of key-value pairs which can the frequency of ocurrence of every token type found inside the text document. The Key to store the Token Type name and the Value is the corresponding frequency of occurence inside the text. \n",
    "Since FreqDist() returns the Dictionary object, naturally we can use \"keys()\" to return the list of all Token Types, as shown below. "
   ]
  },
  {
   "cell_type": "code",
   "execution_count": 53,
   "id": "dadf2ecd",
   "metadata": {},
   "outputs": [
    {
     "data": {
      "text/plain": [
       "dict_keys(['Fellow', '-', 'Citizens', 'of', 'the', 'Senate', 'and', 'House', 'Representatives', ':', 'Among', 'vicissitudes', 'incident', 'to', 'life', 'no', 'event', 'could', 'have', 'filled', 'me', 'with', 'greater', 'anxieties', 'than', 'that', 'which', 'notification', 'was', 'transmitted', 'by', 'your', 'order', ',', 'received', 'on', '14th', 'day', 'present', 'month', '.', 'On', 'one', 'hand', 'I', 'summoned', 'my', 'Country', 'whose', 'voice', 'can', 'never', 'hear', 'but', 'veneration', 'love', 'from', 'a', 'retreat', 'had', 'chosen', 'fondest', 'predilection', 'in', 'flattering', 'hopes', 'an', 'immutable', 'decision', 'as', 'asylum', 'declining', 'years', '--', 'rendered', 'every', 'more', 'necessary', 'well', 'dear', 'addition', 'habit', 'inclination', 'frequent', 'interruptions', 'health', 'gradual', 'waste', 'committed', 'it', 'time', 'other', 'magnitude', 'difficulty', 'trust', 'country', 'called', 'being', 'sufficient', 'awaken', 'wisest', 'most', 'experienced', 'her', 'citizens', 'distrustful', 'scrutiny', 'into', 'his', 'qualifications', 'not', 'overwhelm', 'despondence', 'who', '(', 'inheriting', 'inferior', 'endowments', 'nature', 'unpracticed', 'duties', 'civil', 'administration', ')', 'ought', 'be', 'peculiarly', 'conscious', 'own', 'deficiencies', 'In', 'this', 'conflict', 'emotions', 'all', 'dare', 'aver', 'is', 'has', 'been', 'faithful', 'study', 'collect', 'duty', 'just', 'appreciation', 'circumstance', 'might', 'affected', 'All', 'hope', 'if', 'executing', 'task', 'too', 'much', 'swayed', 'grateful', 'remembrance', 'former', 'instances', 'or', 'affectionate', 'sensibility', 'transcendent', 'proof', 'confidence', 'fellow', 'thence', 'little', 'consulted', 'incapacity', 'disinclination', 'for', 'weighty', 'untried', 'cares', 'before', 'error', 'will', 'palliated', 'motives', 'mislead', 'its', 'consequences', 'judged', 'some', 'share', 'partiality', 'they', 'originated', 'Such', 'impressions', 'under', 'obedience', 'public', 'summons', 'repaired', 'station', 'would', 'improper', 'omit', 'first', 'official', 'act', 'fervent', 'supplications', 'Almighty', 'Being', 'rules', 'over', 'universe', 'presides', 'councils', 'nations', 'providential', 'aids', 'supply', 'human', 'defect', 'His', 'benediction', 'may', 'consecrate', 'liberties', 'happiness', 'people', 'United', 'States', 'Government', 'instituted', 'themselves', 'these', 'essential', 'purposes', 'enable', 'instrument', 'employed', 'execute', 'success', 'functions', 'allotted', 'charge', 'tendering', 'homage', 'Great', 'Author', 'private', 'good', 'assure', 'myself', 'expresses', 'sentiments', 'less', 'nor', 'those', 'at', 'large', 'either', 'No', 'bound', 'acknowledge', 'adore', 'Invisible', 'Hand', 'conducts', 'affairs', 'men', 'Every', 'step', 'advanced', 'character', 'independent', 'nation', 'seems', 'distinguished', 'token', 'agency', ';', 'important', 'revolution', 'accomplished', 'system', 'their', 'united', 'government', 'tranquil', 'deliberations', 'voluntary', 'consent', 'so', 'many', 'distinct', 'communities', 'resulted', 'compared', 'means', 'governments', 'established', 'without', 'return', 'pious', 'gratitude', 'along', 'humble', 'anticipation', 'future', 'blessings', 'past', 'seem', 'presage', 'These', 'reflections', 'arising', 'out', 'crisis', 'forced', 'strongly', 'mind', 'suppressed', 'You', 'join', 'thinking', 'there', 'are', 'none', 'influence', 'proceedings', 'new', 'free', 'auspiciously', 'commence', 'By', 'article', 'establishing', 'executive', 'department', 'made', 'President', '\"', 'recommend', 'consideration', 'such', 'measures', 'he', 'shall', 'judge', 'expedient', '.\"', 'The', 'circumstances', 'now', 'meet', 'you', 'acquit', 'entering', 'subject', 'further', 'refer', 'great', 'constitutional', 'charter', 'assembled', 'defining', 'powers', 'designates', 'objects', 'attention', 'given', 'It', 'consistent', 'far', 'congenial', 'feelings', 'actuate', 'substitute', 'place', 'recommendation', 'particular', 'tribute', 'due', 'talents', 'rectitude', 'patriotism', 'adorn', 'characters', 'selected', 'devise', 'adopt', 'them', 'honorable', 'behold', 'surest', 'pledges', 'side', 'local', 'prejudices', 'attachments', 'separate', 'views', 'party', 'animosities', 'misdirect', 'comprehensive', 'equal', 'eye', 'watch', 'assemblage', 'interests', 'another', 'foundation', 'our', 'national', 'policy', 'laid', 'pure', 'principles', 'morality', 'preeminence', 'exemplified', 'attributes', 'win', 'affections', 'command', 'respect', 'world', 'dwell', 'prospect', 'satisfaction', 'ardent', 'inspire', 'since', 'truth', 'thoroughly', 'exists', 'economy', 'course', 'indissoluble', 'union', 'between', 'virtue', 'advantage', 'genuine', 'maxims', 'honest', 'magnanimous', 'solid', 'rewards', 'prosperity', 'felicity', 'we', 'persuaded', 'propitious', 'smiles', 'Heaven', 'expected', 'disregards', 'eternal', 'right', 'itself', 'ordained', 'preservation', 'sacred', 'fire', 'liberty', 'destiny', 'republican', 'model', 'justly', 'considered', 'perhaps', 'deeply', 'finally', 'staked', 'experiment', 'entrusted', 'hands', 'American', 'Besides', 'ordinary', 'submitted', 'care', 'remain', 'judgment', 'decide', 'how', 'exercise', 'occasional', 'power', 'delegated', 'fifth', 'Constitution', 'juncture', 'objections', 'urged', 'against', 'degree', 'inquietude', 'birth', 'Instead', 'undertaking', 'recommendations', 'guided', 'lights', 'derived', 'opportunities', 'again', 'give', 'way', 'entire', 'discernment', 'pursuit', 'whilst', 'carefully', 'avoid', 'alteration', 'endanger', 'benefits', 'effective', 'await', 'lessons', 'experience', 'reverence', 'characteristic', 'rights', 'freemen', 'regard', 'harmony', 'sufficiently', 'question', 'impregnably', 'fortified', 'latter', 'safely', 'advantageously', 'promoted', 'To', 'foregoing', 'observations', 'add', 'properly', 'addressed', 'concerns', 'therefore', 'brief', 'possible', 'When', 'honored', 'call', 'service', 'then', 'eve', 'arduous', 'struggle', 'light', 'contemplated', 'required', 'should', 'renounce', 'pecuniary', 'compensation', 'From', 'resolution', 'instance', 'departed', 'still', 'produced', 'must', 'decline', 'inapplicable', 'any', 'personal', 'emoluments', 'indispensably', 'included', 'permanent', 'provision', 'accordingly', 'pray', 'estimates', 'am', 'placed', 'during', 'continuance', 'limited', 'actual', 'expenditures', 'thought', 'require', 'Having', 'thus', 'imparted', 'awakened', 'occasion', 'brings', 'us', 'together', 'take', 'leave', 'resorting', 'once', 'benign', 'Parent', 'Human', 'Race', 'supplication', 'He', 'pleased', 'favor', 'deliberating', 'perfect', 'tranquillity', 'dispositions', 'deciding', 'unparalleled', 'unanimity', 'form', 'security', 'advancement', 'divine', 'blessing', 'equally', 'conspicuous', 'enlarged', 'temperate', 'consultations', 'wise', 'depend', 'upon', 'Chief', 'Magistrate', 'proper', 'arrive', 'endeavor', 'express', 'high', 'sense', 'entertain', 'honor', 'reposed', 'America', 'Previous', 'execution', 'requires', 'oath', 'office', 'This', 'about', 'presence', 'That', 'found', 'violated', 'willingly', 'knowingly', 'injunctions', 'thereof', 'besides', 'incurring', 'punishment', 'upbraidings', 'witnesses', 'solemn', 'ceremony', 'perceived', 'early', 'times', 'middle', 'remained', 'unlimited', 'submission', 'foreign', 'legislature', 'total', 'independence', 'claims', 'reflection', 'were', 'apprehensive', 'danger', 'formidable', 'fleets', 'armies', 'determine', 'resist', 'contests', 'dissensions', 'certainly', 'arise', 'concerning', 'forms', 'whole', 'parts', 'extensive', 'Relying', 'however', 'purity', 'intentions', 'justice', 'cause', 'integrity', 'intelligence', 'overruling', 'Providence', 'signally', 'protected', 'representatives', 'consisting', 'half', 'number', 'only', 'broke', 'pieces', 'chains', 'forging', 'rod', 'iron', 'lifted', 'up', 'frankly', 'cut', 'asunder', 'ties', 'launched', 'ocean', 'uncertainty', 'zeal', 'ardor', 'Revolutionary', 'war', 'supplying', 'commanded', 'least', 'temporary', 'society', 'Confederation', 'felt', 'prepared', 'models', 'Batavian', 'Helvetic', 'confederacies', 'examples', 'detail', 'precision', 'history', 'ones', 'ever', 'But', 'reflecting', 'striking', 'difference', 'particulars', 'where', 'courier', 'go', 'seat', 'frontier', 'single', 'foreseen', 'assisted', 'Congress', 'formation', 'durable', 'Negligence', 'regulations', 'inattention', 'disobedience', 'authority', 'individuals', 'soon', 'appeared', 'melancholy', 'universal', 'languor', 'jealousies', 'rivalries', 'navigation', 'commerce', 'discouragement', 'manufactures', 'fall', 'value', 'lands', 'produce', 'contempt', 'faith', 'loss', 'credit', 'length', 'discontents', 'combinations', 'partial', 'conventions', 'insurrection', 'threatening', 'calamity', 'dangerous', 'abandoned', 'usual', 'Measures', 'pursued', 'concert', 'plan', 'establish', 'insure', 'domestic', 'provide', 'common', 'defense', 'promote', 'general', 'welfare', 'secure', 'disquisitions', 'discussions', 'issued', 'happy', 'Employed', 'abroad', 'transactions', 'saw', 'Irritated', 'literary', 'altercation', 'animated', 'debate', 'heated', 'animosity', 'read', 'result', 'heads', 'prompted', 'hearts', 'better', 'adapted', 'genius', 'situation', 'relations', 'proposed', 'suggested', 'outlines', 'conformable', 'esteemed', 'native', 'State', 'contributed', 'Claiming', 'suffrage', 'adoption', 'rejection', 'constitution', 'rule', 'posterity', 'theirs', 'did', 'hesitate', 'approbation', 'occasions', 'objection', 'Executive', 'Nor', 'entertained', 'promoting', 'see', 'feel', 'legislatures', 'according', 'ordain', 'Returning', 'bosom', 'after', 'painful', 'separation', 'ten', 'elected', 'things', 'repeatedly', 'serious', 'obligations', 'support', 'operation', 'equaled', 'sanguine', 'expectations', 'friends', 'habitual', 'delight', 'effects', 'peace', 'acquired', 'attachment', 'What', 'indeed', 'deserve', 'esteem', '?', 'There', 'solidity', 'ancient', 'idea', 'congregations', 'cities', 'pleasing', 'sight', 'superior', 'intelligences', 'very', 'certain', 'benevolent', 'spectacle', 'presented', 'noble', 'majestic', 'august', 'assembly', 'like', 'often', 'seen', 'Chamber', 'branches', 'Legislature', 'exercised', 'regular', 'periods', 'neighbors', 'make', 'laws', 'Can', 'anything', 'mere', 'ornament', 'decoration', 'added', 'robes', 'diamonds', 'amiable', 'respectable', 'when', 'descends', 'accidents', 'institutions', 'remote', 'antiquity', 'springs', 'fresh', 'judgments', 'enlightened', 'For', 'represented', 'majesty', 'reflected', 'legitimate', 'whatever', 'appear', 'existence', 'ours', 'full', 'dissemination', 'knowledge', 'throughout', 'body', 'And', 'what', 'object', 'If', 'pride', 'justifiable', 'excusable', 'riches', 'grandeur', 'glory', 'conviction', 'innocence', 'information', 'benevolence', 'midst', 'ideas', 'unfaithful', 'ourselves', 'lose', 'extraneous', 'infect', 'fair', 'virtuous', 'elections', 'election', 'determined', 'majority', 'vote', 'procured', 'through', 'artifice', 'corruption', 'choice', 'ends', 'solitary', 'obtained', 'flattery', 'menaces', 'fraud', 'violence', 'terror', 'intrigue', 'venality', 'govern', 'candid', 'cases', 'boast', 'lot', 'chance', 'interesting', 'abuses', 'exposed', 'exhibited', 'admiration', 'anxiety', 'eight', 'citizen', 'long', 'actions', 'regulated', 'prudence', 'temperance', 'fortitude', 'conducting', 'inspired', 'same', 'virtues', 'increasing', 'wealth', 'unexampled', 'merited', 'highest', 'praises', 'secured', 'immortal', 'retirement', 'live', 'enjoy', 'delicious', 'recollection', 'services', 'mankind', 'fruits', 'himself', 'daily', 'splendid', 'fortunes', 'opening', 'year', 'name', 'rampart', 'lives', 'bulwark', 'open', 'secret', 'enemies', \"'\", 's', 'example', 'recommended', 'imitation', 'successors', 'both', 'Houses', 'become', 'silent', 'speak', 'diffidence', 'something', 'admitted', 'apology', 'venture', 'say', 'preference', 'principle', 'formed', 'diligent', 'impartial', 'inquiry', 'conscientious', 'determination', 'until', 'altered', 'wishes', 'expressed', 'mode', 'prescribed', 'respectful', 'constitutions', 'individual', 'constant', 'caution', 'delicacy', 'toward', 'interest', 'Union', 'northern', 'southern', 'eastern', 'western', 'position', 'various', 'political', 'opinions', 'unessential', 'points', 'parties', 'denominations', 'science', 'letters', 'wish', 'patronize', 'rational', 'effort', 'encourage', 'schools', 'colleges', 'universities', 'academies', 'institution', 'propagating', 'religion', 'among', 'classes', 'stages', 'preserving', 'natural', 'spirit', 'sophistry', 'profligacy', 'pestilence', 'angel', 'destruction', 'elective', 'humanity', 'interior', 'improve', 'agriculture', 'manufacturers', 'necessity', 'convenience', 'equity', 'aboriginal', 'disposition', 'meliorate', 'condition', 'inclining', 'friendly', 'inflexible', 'maintain', 'inviolable', 'neutrality', 'impartiality', 'belligerent', 'Europe', 'adopted', 'solemnly', 'sanctioned', 'applauded', 'opinion', 'otherwise', 'French', 'residence', 'seven', 'chiefly', 'sincere', 'desire', 'preserve', 'friendship', 'while', 'internal', 'sentiment', 'energies', 'preserved', 'earnest', 'investigate', 'remove', 'colorable', 'pretense', 'complaint', 'intention', 'pursue', 'amicable', 'negotiation', 'reparation', 'injuries', 'lay', 'facts', 'consider', 'constituents', 'demand', 'do', 'unshaken', 'resources', 'hazarded', 'deceived', 'elevated', 'destinies', 'founded', 'moral', 'intellectual', 'improvements', 'engraven', 'obscured', 'exalted', 'age', 'profess', 'Christians', 'fixed', 'decent', 'Christianity', 'best', 'comply', 'strenuous', 'sagacious', 'injunction', 'two', 'effect', 'With', 'pledged', 'doubt', 'energy', 'hesitation', 'utmost', 'supreme', 'Patron', 'Order', 'Fountain', 'Justice', 'Protector', 'ages', 'continue', 'duration', 'providence', 'Friends', 'Called', 'undertake', 'avail', 'portion', 'here', 'thanks', 'look', 'declare', 'consciousness', 'above', 'approach', 'anxious', 'awful', 'presentiments', 'greatness', 'weakness', 'A', 'rising', 'spread', 'wide', 'fruitful', 'land', 'traversing', 'seas', 'rich', 'productions', 'industry', 'engaged', 'forget', 'advancing', 'rapidly', 'beyond', 'reach', 'mortal', 'contemplate', 'beloved', 'issue', 'auspices', 'shrink', 'contemplation', 'Utterly', 'despair', 'whom', 'remind', 'authorities', 'provided', 'find', 'wisdom', 'rely', 'difficulties', 'gentlemen', 'charged', 'sovereign', 'legislation', 'associated', 'encouragement', 'guidance', 'steer', 'safety', 'vessel', 'embarked', 'amidst', 'conflicting', 'elements', 'troubled', 'During', 'contest', 'passed', 'animation', 'exertions', 'sometimes', 'worn', 'aspect', 'impose', 'strangers', 'unused', 'think', 'freely', 'write', 'decided', 'announced', 'arrange', 'law', 'unite', 'efforts', 'bear', 'though', 'prevail', 'rightful', 'reasonable', 'minority', 'possess', 'protect', 'violate', 'oppression', 'Let', 'heart', 'restore', 'social', 'intercourse', 'affection', 'even', 'dreary', 'let', 'reflect', 'having', 'banished', 'religious', 'intolerance', 'bled', 'suffered', 'yet', 'gained', 'countenance', 'despotic', 'wicked', 'capable', 'bitter', 'bloody', 'persecutions', 'throes', 'convulsions', 'agonizing', 'spasms', 'infuriated', 'man', 'seeking', 'blood', 'slaughter', 'lost', 'wonderful', 'agitation', 'billows', 'distant', 'peaceful', 'shore', 'feared', 'others', 'divide', 'We', 'different', 'names', 'brethren', 'Republicans', 'Federalists', 'dissolve', 'change', 'stand', 'undisturbed', 'monuments', 'tolerated', 'reason', 'left', 'combat', 'know', 'fear', 'strong', 'enough', 'patriot', 'tide', 'successful', 'abandon', 'kept', 'firm', 'theoretic', 'visionary', 'possibility', 'want', 'believe', 'contrary', 'strongest', 'earth', 'fly', 'standard', 'invasions', 'concern', 'Sometimes', 'said', 'trusted', 'Or', 'angels', 'kings', 'him', 'answer', 'courage', 'Federal', 'Republican', 'representative', 'Kindly', 'separated', 'exterminating', 'havoc', 'quarter', 'globe', 'minded', 'endure', 'degradations', 'possessing', 'room', 'descendants', 'thousandth', 'generation', 'entertaining', 'use', 'faculties', 'acquisitions', 'resulting', 'professed', 'practiced', 'inculcating', 'honesty', 'acknowledging', 'adoring', 'dispensations', 'proves', 'delights', 'hereafter', 'prosperous', 'Still', 'thing', 'frugal', 'restrain', 'injuring', 'regulate', 'pursuits', 'improvement', 'mouth', 'labor', 'bread', 'earned', 'sum', 'close', 'circle', 'felicities', 'About', 'enter', 'comprehend', 'everything', 'valuable', 'understand', 'deem', 'consequently', 'shape', 'Administration', 'compress', 'within', 'narrowest', 'compass', 'stating', 'limitations', 'Equal', 'exact', 'state', 'persuasion', 'entangling', 'alliances', 'competent', 'administrations', 'bulwarks', 'antirepublican', 'tendencies', 'General', 'vigor', 'sheet', 'anchor', 'home', 'jealous', 'mild', 'safe', 'corrective', 'lopped', 'sword', 'peaceable', 'remedies', 'unprovided', 'absolute', 'acquiescence', 'decisions', 'vital', 'republics', 'appeal', 'force', 'immediate', 'parent', 'despotism', 'disciplined', 'militia', 'reliance', 'moments', 'till', 'regulars', 'relieve', 'supremacy', 'military', 'expense', 'lightly', 'burthened', 'payment', 'debts', 'handmaid', 'diffusion', 'arraignment', 'bar', 'freedom', 'press', 'person', 'protection', 'habeas', 'corpus', 'trial', 'juries', 'impartially', 'bright', 'constellation', 'gone', 'steps', 'reformation', 'sages', 'heroes', 'devoted', 'attainment', 'They', 'creed', 'text', 'civic', 'instruction', 'touchstone', 'try', 'wander', 'alarm', 'hasten', 'retrace', 'regain', 'road', 'alone', 'leads', 'repair', 'post', 'assigned', 'subordinate', 'offices', 'greatest', 'learnt', 'expect', 'rarely', 'imperfect', 'retire', 'reputation', 'bring', 'Without', 'pretensions', 'revolutionary', 'preeminent', 'entitled', 'destined', 'fairest', 'page', 'volume', 'ask', 'firmness', 'legal', 'wrong', 'positions', 'view', 'ground', 'indulgence', 'errors', 'intentional', 'condemn', 'implied', 'consolation', 'solicitude', 'retain', 'bestowed', 'advance', 'conciliate', 'doing', 'instrumental', 'patronage', 'work', 'ready', 'whenever', 'sensible', 'Infinite', 'Power', 'lead', 'favorable', 'Proceeding', 'qualification', 'entrance', 'conferred', 'deep', 'inspires', 'conduct', 'satisfy', 'taking', 'declared', 'believed', 'administer', 'Commonwealth', 'MY', 'conscience', 'tells', 'acted', 'declaration', 'obvious', 'import', 'understanding', 'transaction', 'endeavored', 'cultivate', 'especially', 'done', 'favored', 'lawful', 'cherished', 'mutual', 'terms', 'firmly', 'convinced', 'soundly', 'calculated', 'inseparable', 'bears', 'witness', 'fact', 'word', 'recourse', 'armaments', 'wars', 'bridle', 'At', 'whether', 'ill', 'suppression', 'unnecessary', 'useless', 'establishments', 'expenses', 'enabled', 'discontinue', 'taxes', 'covering', 'officers', 'doors', 'intrusions', 'already', 'begun', 'process', 'domiciliary', 'vexation', 'entered', 'scarcely', 'restrained', 'reaching', 'successively', 'property', 'minor', 'fell', 'inconvenient', 'because', 'amount', 'paid', 'collected', 'merit', 'instead', 'approved', 'remaining', 'revenue', 'consumption', 'articles', 'afford', 'luxuries', 'comforts', 'seaboard', 'frontiers', 'incorporated', 'mercantile', 'pleasure', 'farmer', 'mechanic', 'laborer', 'sees', 'taxgatherer', 'contributions', 'current', 'fulfill', 'contracts', 'extinguish', 'soil', 'limits', 'extend', 'apply', 'surplus', 'places', 'short', 'final', 'redemption', 'effected', 'thereby', 'liberated', 'repartition', 'corresponding', 'amendment', 'applied', 'rivers', 'canals', 'roads', 'arts', 'education', 'each', 'injustice', 'increased', 'population', 'aided', 'reserved', 'encroaching', 'generations', 'burthening', 'War', 'suspension', 'useful', 'works', 'progress', 'income', 'extension', 'possibly', 'pay', 'meantime', 'keep', 'down', 'accruing', 'events', 'replace', 'advances', 'acquisition', 'Louisiana', 'disapproved', 'apprehension', 'enlargement', 'territory', 'limit', 'extent', 'federative', 'operate', 'effectively', 'larger', 'association', 'shaken', 'passions', 'opposite', 'bank', 'Mississippi', 'settled', 'children', 'family', 'likely', 'matters', 'undertaken', 'prescribe', 'exercises', 'suited', 'direction', 'discipline', 'church', 'acknowledged', 'several', 'societies', 'inhabitants', 'countries', 'regarded', 'commiseration', 'Endowed', 'breathing', 'occupying', 'stream', 'overflowing', 'regions', 'directed', 'shores', 'divert', 'habits', 'contend', 'overwhelmed', 'driven', 'reduced', 'narrow', 'hunter', 'enjoins', 'teach', 'prepare', 'bodily', 'adds', 'morals', 'liberally', 'furnished', 'implements', 'husbandry', 'household', 'instructors', 'covered', 'aegis', 'aggressors', 'endeavors', 'enlighten', 'fate', 'awaits', 'induce', 'follow', 'dictates', 'powerful', 'obstacles', 'encounter', 'combated', 'bodies', 'minds', 'ignorance', 'interested', 'crafty', 'nothing', 'persons', 'inculcate', 'sanctimonious', 'customs', 'ancestors', 'whatsoever', 'false', 'guide', 'counsel', 'physical', 'perilous', 'innovation', 'Creator', 'also', 'action', 'counteraction', 'bigotry', 'antiphilosophists', 'keeping', 'dread', 'exert', 'ascendancy', 'improving', 'obeying', 'mandates', 'giving', 'mean', 'arrogate', 'weight', 'strengthen', 'sound', 'discretion', 'select', 'confide', 'legislative', 'foundations', 'wholesome', 'remains', 'able', 'auxiliaries', 'disturb', 'artillery', 'leveled', 'licentiousness', 'regretted', 'inasmuch', 'tend', 'lessen', 'usefulness', 'sap', 'corrected', 'punishments', 'falsehood', 'defamation', 'urgent', 'servants', 'offenders', 'indignation', 'uninteresting', 'fairly', 'fully', 'discussion', 'unaided', 'propagation', 'true', 'unwilling', 'written', 'tried', 'witnessed', 'scene', 'looked', 'cool', 'latent', 'source', 'outrages', 'proceeded', 'gathered', 'around', 'functionaries', 'pronounced', 'verdict', 'served', 'consolatory', 'friend', 'believes', 'control', 'inference', 'intended', 'defamatory', 'publications', 'enforced', 'renders', 'reforming', 'salutary', 'coercions', 'noted', 'prove', 'maintained', 'league', 'confined', 'needs', 'restraint', 'correct', 'reasoning', 'hearing', 'definite', 'line', 'drawn', 'inestimable', 'demoralizing', 'improprieties', 'supplement', 'sought', 'censorship', 'Contemplating', 'manifested', 'generally', 'auguring', 'offer', 'congratulations', 'rallied', 'point', 'gaining', 'strength', 'piercing', 'veil', 'doubting', 'mass', 'resolve', 'honestly', 'cultivated', 'unassailed', 'equality', 'unequal', 'results', 'father', 'satisfied', 'approve', 'cherish', 'patient', 'competitions', 'need', 'gather', 'fold', 'complete', 'gives', 'benefit', 'proceed', 'astray', 'passion', 'seduce', 'path', 'weaknesses', 'injurious', 'heretofore', 'led', 'fathers', 'Israel', 'old', 'planted', 'flowing', 'necessaries', 'infancy', 'riper', 'goodness', 'prosper', 'Unwilling', 'depart', 'revered', 'profound', 'impression', 'pledge', 'sanctions', 'So', 'mark', 'proceeding', 'deliberate', 'devotion', 'assumed', 'Under', 'peculiar', 'solemnity', 'existing', 'period', 'responsibility', 'inexpressibly', 'enhanced', 'parallel', 'pressure', 'severely', 'fallen', 'moment', 'height', 'attained', 'contrast', 'maintenance', 'wasteful', 'enjoyed', 'unrivaled', 'growth', 'Proofs', 'enterprises', 'increase', 'reducing', 'debt', 'everywhere', 'multiplying', 'face', 'precious', 'transition', 'distressing', 'chargeable', 'unwarrantable', 'involuntary', 'Indulging', 'trespass', 'repose', 'observing', 'entitle', 'fulfilling', 'neutral', 'scrupulous', 'candor', 'assertions', 'questioned', 'unexceptionable', 'rage', 'impelled', 'direct', 'retaliation', 'introduced', 'How', 'arbitrary', 'edicts', 'continued', 'spite', 'demonstrations', 'pretext', 'liberal', 'attempt', 'revocation', 'anticipated', 'Assuring', 'vicissitude', 'safeguards', 'inadequacy', 'sink', 'correspondent', 'prefer', 'accommodation', 'differences', 'arms', 'exclude', 'intrigues', 'partialities', 'degrading', 'baneful', 'foster', 'invade', 'proud', 'surrender', 'indulge', 'unworthy', 'hold', 'basis', 'cement', 'slightest', 'interference', 'wisely', 'exempted', 'jurisdiction', 'provisions', 'behalf', 'observe', 'liberate', 'discharge', 'requisite', 'standing', 'always', 'remembering', 'armed', 'trained', 'firmest', 'authorized', 'external', 'manner', 'aliment', 'carry', 'plans', 'meritoriously', 'conversion', 'degradation', 'wretchedness', 'savage', 'participation', 'manners', 'susceptible', 'civilized', 'aid', 'fulfillment', 'resource', 'fail', 'fortune', 'moreover', 'tread', 'lighted', 'illustrious', 'successfully', 'trying', 'marched', 'Of', 'predecessor', 'pardoned', 'suppressing', 'sympathy', 'reward', 'enjoys', 'benedictions', 'gratefully', 'zealously', 'career', 'counsels', 'representing', 'departments', 'next', 'encouraged', 'guardianship', 'regulates', 'conspicuously', 'dispensed', 'Republic', 'address', 'devout', 'imposed', 'second', 'opportunity', 'publicly', 'repeating', 'strengthened', 'evidence', 'favorably', 'estimated', 'momentous', 'renewed', 'belonging', 'compelled', 'generous', 'prominent', 'feature', 'stamped', 'invites', 'termination', 'May', 'presumption', 'part', 'reality', 'arguments', 'postulations', 'exhausted', 'positive', 'wrongs', 'provoking', 'discontinued', 'last', 'longer', 'delayed', 'breaking', 'destroying', 'perpetuating', 'disgraceful', 'suffering', 'regaining', 'costly', 'sacrifices', 'severe', 'struggles', 'rank', 'sovereignty', 'class', 'occupations', 'Not', 'stake', 'element', 'title', 'member', 'unlawfulness', 'practice', 'mariners', 'cruising', 'officer', 'vessels', 'paint', 'proofs', 'records', 'successive', 'cruel', 'sufferings', 'dead', 'sympathies', 'As', 'origin', 'carrying', 'usage', 'precept', 'courtesy', 'infringed', 'waged', 'liberality', 'surpassed', 'enemy', '!', 'retained', 'prisoners', 'liable', 'usages', 'refused', 'threatened', 'punish', 'traitors', 'deserters', 'emigrating', 'naturalization', 'fighting', 'avowed', 'purpose', 'naturalizing', 'thousands', 'permitting', 'compelling', 'fight', 'battles', 'taken', 'hatchet', 'knife', 'indiscriminate', 'massacre', 'loose', 'savages', 'instruments', 'allured', 'carried', 'battle', 'sides', 'eager', 'glut', 'thirst', 'vanquished', 'finish', 'torture', 'death', 'maimed', 'defenseless', 'captives', 'British', 'commanders', 'extorted', 'victory', 'unconquerable', 'valor', 'troops', 'presenting', 'chief', 'awaiting', 'associates', 'modes', 'warfare', 'conquering', 'attempts', 'disorganize', 'dismember', 'confederated', 'Happily', 'recoil', 'authors', 'degenerate', 'emanate', 'belong', 'inconsistencies', 'excite', 'wonder', 'disorganizing', 'insurrectional', 'adversary', 'render', 'reluctance', 'followed', 'earliest', 'manifestations', 'arrest', 'scabbard', 'apprised', 'resheathed', 'precise', 'repeated', 'forbidding', 'amply', 'Our', 'Isles', 'composed', 'brave', 'intelligent', 'abounds', 'visible', 'cabinet', 'undermine', 'recoiled', 'rapid', 'development', 'draining', 'diverting', 'metals', 'circulation', 'vaults', 'poured', 'unavoidable', 'seasonable', 'facility', 'knew', 'manly', 'cheerfulness', 'burden', 'sure', 'systematic', 'resort', 'Already', 'gallant', 'exploits', 'naval', 'proved', 'inherent', 'capacity', 'thrown', 'clouds', 'presaging', 'flashes', 'heroic', 'enterprise', 'wanting', 'triumphs', 'destitute', 'feeling', 'calling', 'assume', 'expression', 'derive', 'gratification', 'estimate', 'importance', 'intimately', 'connected', 'Conscious', 'deficiency', 'cannot', 'calculating', 'duly', 'appreciated', 'viewed', 'stations', 'commencing', 'explain', 'respective', 'Administrations', 'following', 'venerated', 'naturally', 'causes', 'principal', 'shed', 'commencement', 'Revolution', 'almost', 'forty', 'elapsed', 'establishment', 'twenty', 'Through', 'term', 'emphatically', 'self', 'turn', 'relates', 'abundant', 'felicitate', 'excellence', 'fraught', 'marked', 'extraordinary', 'flourished', 'Their', 'individually', 'treaty', 'original', 'respectively', 'National', 'parental', 'dangers', 'enjoying', 'spheres', 'partition', 'proportion', 'improved', 'police', 'extended', 'settlements', 'maturity', 'administered', 'does', 'exhibit', 'Who', 'deprived', 'offering', 'vows', 'prefers', 'Divine', 'known', 'fullest', 'capital', 'inflicted', 'anyone', 'crime', 'treason', 'Some', 'admit', 'competency', 'beneficent', 'trials', 'put', 'test', 'efficiency', 'community', 'Here', 'afforded', 'satisfactory', 'Just', 'agitated', 'seriously', 'convulsed', 'Destructive', 'ensued', 'late', 'terminated', 'conflicts', 'injury', 'aloof', 'committing', 'became', 'inevitable', 'shown', 'unfavorable', 'Army', 'Navy', 'adequate', 'compact', 'obtain', 'recognized', 'contains', 'discord', 'variance', 'protects', 'enjoyment', 'Other', 'considerations', 'admonish', 'cling', 'supports', 'Fortunate', 'essentially', 'Situated', 'zone', 'extending', 'degrees', 'latitude', 'Atlantic', 'varieties', 'climate', 'production', 'Penetrating', 'internally', 'Lakes', 'sources', 'communicate', 'happier', 'domain', 'Blessed', 'fertile', 'leaving', 'wants', 'particularly', 'agricultural', 'prospers', 'Local', 'fostered', 'North', 'carriers', 'vast', 'portions', 'recompensed', 'nursery', 'seamen', 'reared', 'patronizes', 'steady', 'profitable', 'market', 'highly', 'menace', 'exist', 'ascertained', 'guarded', 'explaining', 'asked', 'raised', 'accomplish', 'remedy', 'defects', 'infusing', 'impairing', 'affecting', 'sustain', 'pass', 'depositaries', 'Had', 'educated', 'blessed', 'While', 'constituent', 'retains', 'healthful', 'choose', 'ignorant', 'corrupt', 'populace', 'incapable', 'exercising', 'Usurpation', 'easy', 'usurper', 'willing', 'debasement', 'ruin', 'Dangers', 'deserving', 'Experiencing', 'involved', 'adverse', 'overset', 'break', 'demolish', 'distance', 'moderate', 'pacific', 'Many', 'dependent', 'fisheries', 'invasion', 'disregard', 'admonition', 'coast', 'inland', 'practicable', 'footing', 'attended', 'finished', 'presume', 'campaign', 'few', 'thousand', 'expose', 'distress', 'forces', 'garrison', 'fortifications', 'foe', 'constituting', 'brought', 'activity', 'maintaining', 'dignity', 'saving', 'spoliation', 'contribute', 'auxiliary', 'engine', 'annoyance', 'diminish', 'calamities', 'speedy', 'held', 'prominently', 'eminent', 'Invasions', 'resisted', 'comport', 'organized', 'emergency', 'arrangement', 'youthful', 'oppressive', 'makes', 'organization', 'overwhelming', 'motion', 'claim', 'sanction', 'holds', 'facilitating', 'comfort', 'shorten', 'distances', 'making', 'accessible', 'bind', 'closely', 'Nature', 'intersecting', 'bays', 'lakes', 'approaching', 'near', 'inducement', 'situated', 'containing', 'grand', 'happily', 'likewise', 'fostering', 'Possessing', 'raw', 'materials', 'fruit', 'supplies', 'sudden', 'unsought', 'unexpected', 'plunge', 'nourishes', 'case', 'exhausting', 'branch', 'Equally', 'competition', 'enhance', 'price', 'cultivator', 'casualties', 'markets', 'Indian', 'tribes', 'kindness', 'persevere', 'advantages', 'civilization', 'flourishing', 'Treasury', 'willingness', 'burdens', 'necessities', 'vacant', 'augments', 'additional', 'accomplishing', 'completely', 'Peace', 'preparation', 'kind', 'flourishes', 'easily', 'productive', 'officially', 'Departments', 'disbursement', 'money', 'responsible', 'application', 'watchful', 'guardian', 'purse', 'agents', 'intrusted', 'strictly', 'promptly', 'account', 'Nothing', 'presumed', 'facilities', 'lie', 'uselessly', 'defaulters', 'evince', 'relaxation', 'tone', 'fidelity', 'perform', 'thorough', 'examination', 'regularly', 'gratifying', 'depends', 'claiming', 'unreasonable', 'rendering', 'pervades', 'Discord', 'attending', 'encountered', 'sustained', 'constitute', 'Experience', 'questions', 'slow', 'dictated', 'accord', 'respects', 'zealous', 'Never', 'modern', 'gigantic', 'contemplating', 'expand', 'joy', 'reflects', 'approached', 'perfection', 'features', 'characterize', 'enlightening', 'arrangements', 'indispensable', 'traced', 'gracious', 'attain', 'preceded', 'closest', 'instructive', 'expressing', 'meritorious', 'suffrages', 'prayers', 'graciously', 'displayed', 'describe', 'evinced', 'reelection', 'excited', 'announces', 'preceding', 'affords', 'profoundly', 'ceasing', 'imposes', 'solace', 'unceasing', 'commanding', 'predecessors', 'identified', 'preeminently', 'rather', 'prevailed', 'surmounting', 'division', 'occurrences', 'indicating', 'stability', 'draw', 'touching', 'remotely', 'Supreme', 'Good', 'exclusively', 'intends', 'review', 'explanation', 'respecting', 'succeeding', 'movements', 'supported', 'correctly', 'concluded', 'conditions', 'recent', 'impressed', 'memory', 'measure', 'sea', 'invaded', 'patriotic', 'immense', '$', '120', '000', 'end', 'admonished', 'resolved', 'prevent', 'recurrence', 'evil', 'recur', 'mitigate', 'modified', 'construction', 'augmentation', '1815', '1816', 'augmented', 'illustrated', 'report', 'Board', 'Engineers', 'Naval', 'Commissioners', 'lately', 'communicated', 'appears', '20', 'six', 'months', 'defrayed', 'incurred', 'judiciously', 'inlets', 'permit', 'attack', 'detained', 'small', 'suitable', 'menaced', 'changing', 'sailing', 'numbers', 'bay', 'river', 'navigable', 'ships', 'front', 'St', 'Croix', 'Sabine', 'eminently', 'insult', 'remarked', 'resorted', 'hostility', 'save', 'devastation', 'finds', 'unprepared', 'considerable', 'completed', 'considering', 'steadily', 'persevered', 'Its', 'Attention', 'adverted', 'destructive', 'Spain', 'colonies', 'South', 'commenced', 'unsettled', 'interfered', 'accommodations', 'stage', 'ports', 'comparative', 'opposition', 'strict', 'invariably', 'attitude', 'strictest', 'privilege', 'exertion', 'enforce', 'prohibiting', 'illegal', 'equipments', 'rigor', 'purchase', 'export', 'munitions', 'exportation', 'permitted', 'traded', 'alike', 'Respecting', 'observed', 'adhered', 'depending', 'invited', 'Cortes', 'accepted', 'Should', 'regarding', 'Shortly', 'band', 'adventurers', 'took', 'buccaneering', 'neighboring', 'bearing', 'Amelia', 'Island', '1817', 'Florida', '1818', 'details', 'recited', 'decisive', 'worst', 'checks', 'crush', 'piratical', 'culprits', 'condemned', 'suffer', 'atrocious', 'upright', 'tribunals', 'crimes', 'interpretation', 'censure', 'belongs', 'executions', 'transcend', 'forbids', 'pardoning', 'criminality', 'acts', 'extenuating', 'ratified', 'ratifications', 'whereof', 'exchanged', 'described', 'boundary', 'territories', 'westward', 'dispute', 'advantageous', 'attached', 'secures', 'opens', 'passage', 'Province', 'ceded', 'excellent', 'harbors', 'Gulf', 'Mexico', 'largest', 'size', 'covers', 'waters', 'enables', 'Western', 'streams', 'date', '20th', 'October', 'convention', 'regulating', 'Britain', '3d', 'July', 'expiring', 'revived', 'expiration', 'arisen', 'Ghent', 'claimed', 'cure', 'fish', 'Britannic', 'Majesty', 'dominions', 'adjusted', 'agreement', 'West', 'Indies', 'continent', 'restraints', 'reciprocated', 'France', 'regulation', 'commercial', 'summer', 'Paris', 'transferred', 'city', 'conciliation', 'terminate', 'Barbary', 'Powers', 'came', '1801', 'send', 'squadron', 'Mediterranean', 'intervened', 'excepted', 'advisable', 'withdraw', 'Pacific', 'disposing', 'effectual', 'interfering', 'slave', 'trade', 'piracy', 'nearly', '67', 'kinds', 'conclusive', 'recollected', 'burthen', 'tax', 'excise', 'repealed', 'conclusion', 'untouched', 'affect', 'inexhaustible', 'yield', 'taxation', 'depression', 'prices', 'explained', 'considerably', 'diminished', 'compel', 'loans', 'demands', 'Anxious', 'repeal', 'knowing', 'relief', 'consequence', 'exigencies', 'promptitude', 'incumbent', 'session', 'probable', 'dreaded', 'shunned', 'appeals', 'vain', 'Independently', 'exigency', 'urge', 'relying', 'altogether', 'precarious', 'excises', 'imposts', 'imposing', 'augment', 'unfortunately', 'executed', 'treated', 'substantial', 'distinction', 'flattered', 'retarded', 'paved', 'dense', 'constantly', 'back', 'sacrifice', 'magnanimity', 'real', 'benefactors', 'Father', 'endearing', 'cease', 'lieu', 'tribe', 'equivalent', 'granted', 'vested', 'funds', 'sustenance', 'My', 'digest', 'suggest', 'flame', 'impossible', 'foresee', 'unconnected', 'menacing', 'elsewhere', 'amity', 'apprehend', 'unless', 'violation', 'maritime', 'occur', 'seek', 'redress', 'injure', 'imminent', 'averting', 'recollect', 'season', 'preparations', 'immediately', 'anticipate', 'happiest', 'four', 'thirty', 'surmount', 'infant', 'perils', 'rose', 'manhood', 'repel', 'anticipations', 'realized', 'unceasingly', 'preyed', 'vitals', 'destroyed', 'Republics', 'orders', 'nobility', 'governed', 'Thus', 'perpetual', 'ascendency', 'overthrow', 'seldom', 'exceeded', 'dimensions', 'county', 'tumultuous', 'disorderly', 'movement', 'transitory', 'creation', 'efficient', 'deriving', 'corresponded', 'outline', 'Perfection', 'outset', 'Governments', 'tracing', 'managed', 'argument', 'clearly', 'demonstrated', 'remedied', 'pursuing', 'attainments', 'Twenty', 'five', 'ago', 'shut', 'outlet', 'tributary', 'exception', 'upper', 'Red', 'River', '),', 'Floridas', 'uninterrupted', 'New', 'astonishing', 'comprise', 'Old', 'World', 'utter', 'oppress', 'Entering', 'sworn', 'ability', 'God', 'forthwith', 'compliance', 'coeval', 'solemnities', 'obligation', 'performance', 'unfolding', 'countrymen', 'swear', 'defend', 'enumerates', 'prescribes', 'words', 'declares', 'sacredly', 'Since', 'away', 'forefathers', 'Administered', 'eventful', 'annals', 'incidental', 'disappointed', 'aspirations', 'lasting', 'receive', 'inheritance', 'indebted', 'doubly', 'labors', 'transmit', 'unimpaired', 'covenant', 'enacted', 'conformity', 'unfolded', 'practical', 'Subordinate', 'distributed', 'coordinate', 'judiciary', 'expounded', 'settling', 'harmonious', 'coincidence', 'numerous', 'imperfection', 'language', 'jubilee', 'consummation', 'millions', 'multiplied', 'twelve', 'bounded', 'Treaties', 'conquest', 'forest', 'ax', 'woodsmen', 'teem', 'tillage', 'farmers', 'whitened', 'dominion', 'invention', 'artists', 'Liberty', 'cost', 'exceeding', 'expenditure', 'unexaggerated', 'picture', 'shades', 'exempt', 'visitation', 'disease', 'extremities', 'lastly', 'threaten', 'dissolution', 'enjoyments', 'earthly', 'speculation', 'theory', 'sectional', 'aggravated', 'prepossessions', 'apt', 'crowned', 'founders', 'lived', 'Standing', 'looking', 'forward', 'exultation', 'cheering', 'divided', 'spotless', 'disinterested', 'infirmity', 'precisely', 'went', 'collision', 'kindled', 'imbittered', 'center', 'embraced', 'constituted', 'divisions', 'catastrophe', 'subsequent', 'weed', 'strife', 'uprooted', 'existed', 'forth', 'combination', 'dissenting', 'heard', 'beneficence', 'guaranty', 'abuse', 'consists', 'frequency', 'popular', 'sovereignties', 'masters', 'uncontrolled', 'uncontrollable', 'encroachments', 'defenses', 'rigorous', 'accountability', 'guard', 'aggravation', 'alleviate', 'subordination', 'inviolate', 'ark', 'salvation', 'agreed', 'doubted', 'democracy', 'orderly', 'management', 'mighty', 'doubts', 'dispelled', 'projects', 'erected', 'ruins', 'scattered', 'winds', 'antipathies', 'extinguished', 'Ten', 'assuaged', 'contention', 'blended', 'discordant', 'prejudice', 'standards', 'discarding', 'remnant', 'rancor', 'embracing', 'yielding', 'bore', 'badge', 'communion', 'collisions', 'originate', 'speculative', 'administrative', 'Those', 'geographical', 'federal', 'Whatsoever', 'concernment', 'members', 'directly', 'involves', 'fraternity', 'perplexed', 'commonly', 'jarring', 'allayed', 'composition', 'annually', 'quarters', 'section', 'meeting', 'deputed', 'learn', 'knit', 'metropolis', 'Passing', 'traces', 'concurrence', 'preparing', 'defensive', 'wherever', 'proclaimed', 'reduce', 'school', 'promises', 'induction', 'sixty', 'discharged', 'aged', 'indigent', 'surviving', 'warriors', 'revised', 'perfected', 'moneys', 'bee', 'peaceably', 'Ocean', 'hemisphere', 'potentates', 'African', 'traffic', 'slaves', 'alluring', 'hunters', 'cultivation', 'exploring', 'scientific', 'researches', 'surveys', 'promise', 'successor', 'delineated', 'embrace', 'sphere', 'topic', 'inauguration', 'unborn', 'magnificence', 'splendor', 'imperishable', 'glories', 'aqueducts', 'Rome', 'afte', 'survived', 'conquests', 'swallowed', 'spoil', 'barbarians', 'diversity', 'deference', 'originating', 'unquestioned', 'Repeated', 'conciliated', 'approximated', 'persevering', 'deliberation', 'ultimately', 'removed', 'limitation', 'relation', 'transcendently', 'scruple', 'solved', 'acquainted', 'affording', 'addressing', 'exposition', 'Less', 'possessed', 'oftener', 'Intentions', 'assistance', 'cooperation', 'deserved', 'attend', 'except', 'Lord', 'watchman', 'waketh', ',\"', 'commit', 'fearless', 'appointed', 'customary', 'convinces', 'admonishes', 'dedication', 'abilities', 'devolve', 'stated', 'superintend', 'confederate', 'manage', 'communications', 'briefly', 'administering', 'trusting', 'transcending', 'adjustment', 'forbearance', 'becoming', 'confound', 'Confederacy', 'searching', 'delicate', 'trusts', 'inconsiderable', 'observance', 'aim', 'anxiously', 'facilitate', 'extinguishment', 'incompatible', 'counteract', 'tendency', 'profuse', 'engender', 'Powerful', 'desirable', 'specific', 'appropriation', 'prompt', 'selection', 'subjects', 'impost', 'compromise', 'consist', 'products', 'Internal', 'Considering', 'enlarge', 'lesson', 'teaches', 'flag', 'climes', 'skill', 'fame', 'forts', 'arsenals', 'dockyards', 'introduction', 'progressive', 'plainly', 'excused', 'omitting', 'mention', 'sooner', 'enlarging', 'invincible', 'worth', 'defending', 'cover', 'impenetrable', 'Partial', 'mortifications', 'subjected', 'million', 'conquered', 'safeguard', 'cheerfully', 'lend', 'humane', 'considerate', 'demonstration', 'inscribes', 'list', 'legible', 'overlooked', 'reform', 'correction', 'disturbed', 'appointment', 'incompetent', 'diligence', 'flow', 'reformed', 'induces', 'mercifully', 'upheld', 'encourages', 'unsolicited', 'calls', 'preparatory', 'occurred', 'necessarily', 'allude', 'leading', 'submit', 'governing', 'maxim', 'controversy', 'unadjusted', 'appropriate', 'constitutionally', 'becomes', 'observation', 'somewhat', 'confirm', 'imbibed', 'annihilation', 'anarchy', 'domination', 'encroaches', 'impair', 'detract', 'Solemnly', 'arresting', 'indirectly', 'encroach', 'consolidate', 'incalculable', 'accustom', 'yourselves', 'palladium', 'watching', 'Jealous', 'discountenancing', 'suspicion', 'indignantly', 'frowning', 'dawning', 'alienate', 'rest', 'enfeeble', 'link', 'achieved', 'Divided', 'smaller', 'burdened', 'numberless', 'exactions', 'communication', 'sections', 'obstructed', 'off', 'sons', 'soldiers', 'deluge', 'fields', 'borne', 'impoverished', 'navies', 'leaders', 'head', 'victorious', 'legions', 'lawgivers', 'judges', 'plenty', 'inevitably', 'supporting', 'freeman', 'philanthropist', 'eyes', 'practicability', 'realize', 'extricate', 'surround', 'Deeply', 'simplicity', 'raise', 'Constantly', 'concession', 'reconciling', 'unavoidably', 'invaluable', 'Finally', 'prayer', 'overrule', 'forever', 'accompany', 'avowal', 'performing', 'assuming', 'imitating', 'footsteps', 'superiors', 'calendar', 'recognize', 'pillars', 'field', 'expanded', 'intellect', 'constructed', 'occupy', 'marks', 'inability', 'adequately', 'difficult', 'Unlike', 'gave', 'memorable', 'later', 'weigh', 'sensibly', 'unwavering', 'deserted', 'servant', 'laboring', 'humbly', 'sustaining', 'ungrateful', 'spring', 'fortunate', 'Though', 'embarrassments', 'Abroad', 'quietly', 'efficiently', 'performs', 'sole', 'aggregate', 'surely', 'imperious', 'singularly', 'content', 'happen', 'Position', 'bounteous', 'diffused', 'uphold', 'deliberately', 'reference', 'thoughtful', 'framers', 'legislated', 'Looking', 'statesmen', 'patriots', 'region', 'Distinct', 'cordial', 'Between', 'exaggerated', 'sinister', 'designs', 'differed', 'prospective', 'varied', 'staple', '[', ']', 'unwisely', 'Most', 'weighed', 'reciprocal', 'equitable', 'representation', 'confessedly', 'designed', 'broad', 'scope', 'counteracted', 'innumerable', 'republic', 'excepting', 'appertain', 'confederacy', 'provident', 'forecast', 'verified', 'Half', 'century', 'teeming', 'producing', 'risen', 'privileges', 'humblest', 'induced', 'remotest', 'greatly', 'changed', 'relative', 'adherence', 'compacts', 'absent', 'learned', 'implicit', 'undeviating', 'set', 'prosperously', 'onward', 'lapse', 'actually', 'unanswerably', 'confiding', 'retrospect', 'presents', 'deeper', 'impresses', 'belief', 'perpetuity', 'confer', 'countless', 'come', 'endurance', 'Fifty', 'failure', 'boldly', 'predicted', 'Latent', 'supposed', 'unfriendly', 'theorists', 'fears', 'overbalanced', 'Look', 'forebodings', 'hastily', 'reluctantly', 'failed', 'An', 'warrant', 'murmur', 'unequaled', 'alacrity', 'Indeed', 'uniformly', 'outrun', 'contending', 'factions', 'Party', 'exasperation', 'purified', 'preserves', 'fraternal', 'exhibitions', 'coercive', 'needful', 'municipal', 'Occasionally', 'outrunning', 'judicial', 'denounced', 'criminal', 'pain', 'hoped', 'assuredly', 'assumption', 'wounds', 'furnishes', 'abridging', 'landmarks', 'inviolability', 'unfitness', 'hostile', 'emergencies', 'foresaw', 'promptness', 'differently', 'irresponsible', 'voluntarily', 'commensurate', 'Actual', 'amid', 'apprehensions', 'similar', 'ample', 'vindicate', 'occasionally', 'ceased', 'inviting', 'aggression', 'Certain', 'foretold', 'multiplication', 'boundaries', 'comparatively', 'widened', 'conjecture', 'doubled', 'incredibly', 'alleged', 'apparent', 'opened', 'averted', 'inventive', 'developed', 'variety', 'chain', 'dependence', 'balancing', 'insurmountable', 'arose', 'deemed', 'Amid', 'scheme', 'complex', 'uninjured', 'succession', 'Overlooking', 'evils', 'performed', 'evidently', 'remarkably', 'protecting', 'developing', 'vibrations', 'tended', 'unquestionably', 'ultimate', 'elevate', 'renown', 'disaster', 'lurk', 'slavery', 'foreboding', 'mistaken', 'embarrassment', 'Have', 'deviation', 'Amidst', 'disregarded', 'refrain', 'invoking', 'deaf', 'Perceiving', 'beginning', 'motive', 'misrepresentation', 'candidly', 'understood', 'gratified', 'Presidential', 'chair', 'uncompromising', 'opponent', 'abolish', 'District', 'Columbia', 'slaveholding', 'fullness', 'frankness', 'reasons', 'authorizes', 'confided', 'including', 'bill', 'accordance', 'actuated', 'show', 'timid', 'scenes', 'excitement', 'terrifying', 'reckless', 'neither', 'masses', 'swerved', 'bond', 'periodically', 'predominating', 'prevails', 'territorial', 'calm', 'governs', 'aims', 'avoided', 'overcome', 'perfectly', 'reply', 'gradually', 'dispel', 'Present', 'magnify', 'philosophy', 'abiding', 'abundantly', 'spot', 'letter', 'framed', 'viewing', 'explicitly', 'parted', 'referring', 'relate', 'devote', 'minute', 'obtrusive', 'probably', 'Before', 'uniform', 'intelligible', 'leaves', 'run', 'counter', 'sedulously', 'compatible', 'openness', 'sincerity', 'avowing', 'beneficial', 'dealings', 'disclaim', 'meddle', 'disputes', 'molest', 'controversies', 'Well', 'exhaustless', 'faithfully', 'fill', 'atone', 'receiving', 'twice', 'exclusive', 'unsurpassed', 'agreeing', 'warmly', 'partake', 'largely', 'brilliant', 'evening', 'spent', 'serve', 'throw', 'Beyond', 'strengthening', 'solicit', 'fervently', 'bless', 'honors', 'days', 'ways', 'pleasantness', 'paths', 'residue', 'oaths', 'custom', 'summary', 'remark', 'Roman', 'consul', 'celebrated', 'observable', 'candidates', 'obtaining', 'However', 'upward', 'indignant', 'develop', 'Although', 'fiat', 'proclaiming', 'glorious', 'delusion', 'deliver', 'approving', 'uttered', 'exonerated', 'classed', 'promised', 'deceive', 'betray', 'temptations', 'hitherto', 'issues', 'rests', 'breath', 'unmake', 'modify', 'shaping', 'admissions', 'compare', 'purely', 'democratic', 'believing', 'concerned', 'Beneficent', 'amongst', 'grant', 'composing', 'contain', 'declarations', 'withheld', 'intrust', 'surrendered', 'unable', 'unalienable', 'boasted', 'shield', 'petty', 'provincial', 'ruler', 'democrat', 'Athens', 'console', 'sentence', 'mockery', 'banishment', 'tyrant', 'hated', 'aristocracy', 'Far', 'interfere', 'worship', 'inflict', 'guilt', 'investigation', 'thoughts', 'writing', 'speaking', 'unrestrained', 'liability', 'derives', 'fashioned', 'species', 'endowed', 'Notwithstanding', 'Stages', 'restricted', 'created', 'intimate', 'sententious', 'treats', 'regards', 'clause', 'specified', 'departure', 'talent', 'disputed', 'attributable', 'intrinsic', 'ascertaining', 'unpatriotic', 'usurpation', 'accumulation', 'Limited', 'concentrated', 'heightened', 'Convention', 'sternest', 'republicans', 'alarmed', 'simple', 'predictions', 'virtual', 'monarchy', 'sincerely', 'conceive', 'repeat', 'assurances', 'really', 'pristine', 'extensively', 'complained', 'correctives', 'misconstruction', 'eligibility', 'Presidency', 'Mr', 'Jefferson', 'lamented', 'amendatory', 'mine', 'invidious', 'enumerate', 'continues', 'disfigure', 'systems', 'create', 'lover', 'bosoms', 'obliges', 'corrupting', 'takes', 'possession', 'gold', 'insatiable', 'dying', 'worm', 'grows', 'strengthens', 'victim', 'she', 'forgetting', 'accountable', 'agent', 'master', 'Until', 'desired', 'renewing', 'although', 'enjoined', 'propriety', 'grants', 'solecism', 'annul', 'refusing', 'assent', 'negative', 'void', 'whereas', 'veto', 'thirds', 'incongruity', 'Like', 'used', 'plural', 'search', 'operated', 'apparently', 'repugnant', 'reject', 'worthy', 'conceiving', 'maturing', 'preposterous', 'suppose', 'spend', 'living', 'triple', 'tie', 'assist', 'conferring', 'acquires', 'Presidents', 'presiding', 'consummating', 'bills', 'returned', 'referred', 'inexpedient', 'hasty', 'enactment', 'recommending', 'employments', 'partaking', 'controlled', 'umpire', 'influences', 'subdivision', 'solely', 'conservative', 'secondly', 'thirdly', 'violative', 'minorities', 'expressly', 'Madison', 'recognitions', 'accompanied', 'indications', 'Upward', 'curiosity', 'operations', 'fifty', 'ascertain', 'opposed', 'confident', 'advocates', 'absorbed', 'consolidated', 'shadow', 'contended', 'relied', 'denying', 'accomplishment', 'seized', 'AS', 'casual', 'observer', 'appearance', 'compose', 'Even', 'move', 'orbits', 'central', 'undercurrent', 'seasonably', 'checked', 'antifederal', 'overshadowed', 'designation', 'radically', 'failing', 'distributer', 'trifling', 'potent', 'controlling', 'franchise', 'quadrupled', 'allowed', 'forbearing', 'appointing', 'revenues', 'Commander', 'Armies', 'writers', 'mixed', 'termed', 'contradistinction', 'stamp', 'monarchical', 'finances', 'strange', 'possesses', 'custody', 'removal', 'mischievous', 'virtually', 'treasure', 'disposal', 'Emperor', 'seize', 'silenced', 'significant', 'allusion', 'commissions', 'quite', 'Caesar', 'knight', 'insensible', 'drawing', 'divorce', 'banking', 'unhallowed', 'instrumentality', 'propose', 'Department', 'entirely', 'removable', 'Secretary', 'communicating', 'medium', 'effectually', 'prohibition', 'published', 'votes', 'assurance', 'immunity', 'unbiased', 'compensated', 'pockets', 'pliant', 'mother', 'legacies', 'golden', 'shackles', 'whomsoever', 'fatal', 'bonds', 'presses', 'employment', 'clear', 'guilty', 'varnish', 'Upon', 'impropriety', 'authorizing', 'schemes', 'finance', 'forbidden', 'origination', 'isle', 'singular', 'mischief', 'matter', 'houses', 'Parliament', 'minister', 'fiction', 'agreeably', 'advice', 'Now', 'reverse', 'assigns', 'ascribed', 'amendments', 'defective', 'devising', 'Connected', 'currency', 'metallic', 'devised', 'mutation', 'deprecated', 'adding', 'hoards', 'poor', 'sinking', 'penury', 'generosity', 'nobleness', 'neck', 'toleration', 'usury', 'Amongst', 'supervision', 'Territories', 'deprivation', 'inspiring', 'exterior', 'guards', 'camp', 'Are', 'humiliations', 'guaranteed', 'told', 'orators', 'stupid', 'England', 'spoke', 'dreamed', 'dreams', 'deprive', 'insisted', 'Declaration', 'Independence', 'accept', 'denied', 'interpreted', 'meaning', 'allow', 'spoken', 'defined', 'lines', 'Mischievous', 'careful', 'culture', 'states', 'Strong', 'ineffectual', 'Men', 'blinded', 'suggestions', 'alternative', 'destroy', 'bad', 'creating', 'corner', 'stone', 'architects', 'fabric', 'perpetuate', 'delay', 'separating', 'distinctly', 'misunderstanding', 'confers', 'positively', 'precluded', 'tendered', 'associations', 'requiring', 'resemble', 'allies', 'fleet', 'ambition', 'Greece', 'subsequently', 'mainly', 'attributed', 'owing', 'absence', 'Cantons', 'discrepancy', 'permanency', 'alliance', 'interrupted', 'Content', 'respected', 'clothes', 'distrust', 'jealousy', 'harbingers', 'disunion', 'copartnership', 'fund', 'joint', 'allied', 'intangible', 'mutually', 'concord', 'taught', 'bitterness', 'alienation', 'embarrassed', 'business', 'financial', 'regret', 'imprudent', 'excessive', 'engagements', 'disparage', 'discourage', 'proverbial', 'prudent', 'acting', 'Unpleasant', 'jurisdictions', 'moderation', 'ruling', 'souls', 'weaker', 'enthusiast', 'Utopian', 'scheming', 'politician', 'dissipated', 'complicated', 'demagogue', 'harmless', 'balm', 'distribution', 'decay', 'nurture', 'neglect', 'historians', 'agree', 'attributing', 'writings', 'dominant', 'understandings', 'warped', 'arises', 'unwillingness', 'designing', 'whence', 'approaches', 'trick', 'usurp', 'warning', 'History', 'senate', 'Cromwell', 'protector', 'dictator', 'Bolivar', 'liberator', 'record', 'antagonist', 'faction', 'assumes', 'Christs', 'coming', 'Savior', 'seeks', 'disciples', 'behooves', 'distinguishing', 'dispassionate', 'detect', 'counterfeit', 'bold', 'tolerant', 'employs', 'harsh', 'vindictive', 'intolerant', 'totally', 'animates', 'excision', 'excrescence', 'fastened', 'restores', 'beauty', 'reign', 'fails', 'accession', 'unusual', 'professions', 'remarks', 'subsists', 'informed', 'pending', 'negotiations', 'sovereigns', 'pretension', 'Long', 'defender', 'indication', 'sacrificed', 'tarnished', 'admission', 'superintendent', 'commissioner', 'sublime', 'propitiate', 'rigid', 'uncivilized', 'concluding', 'mitigated', 'ensue', 'appalling', 'vigilance', 'bounds', 'eventually', 'conqueror', 'vestige', 'qualities', 'beautiful', 'English', 'writer', 'Octavius', 'Anthony', 'Yet', 'temple', 'talk', 'sacredness', 'gaze', 'statues', 'elder', 'Brutus', 'Curtii', 'Decii', 'forum', 'Camillus', 'Scipios', 'cast', 'annual', 'magistrates', 'spoils', 'shout', 'Gaul', 'Egypt', 'lesser', 'Asia', 'furnish', 'dividend', 'fled', 'avoiding', 'abodes', 'wilds', 'Scythia', 'Scandinavia', 'Capitol', 'forums', 'Always', 'flatterer', 'contracted', 'selfish', 'looks', 'aggrandizement', 'Something', 'sake', 'gloriously', 'exerted', 'halls', 'justify', 'Christian', 'gifts', 'watched', 'prospered', 'commending', 'invested', 'homes', 'solicitation', 'Honored', 'earlier', 'disguise', 'distrusted', 'younger', 'extends', 'boldest', 'tremble', 'responsibilities', 'invoke', 'Ruler', 'Universe', 'mischiefs', 'unwise', 'Omnipotence', 'multitude', 'concise', 'enumeration', 'befitting', 'offspring', 'binding', 'chart', 'arid', 'abstaining', 'doubtful', 'unauthorized', 'unfortunate', 'prohibited', 'Each', 'abstain', 'overstep', 'One', 'wields', 'enumerated', 'casts', 'mental', 'sect', 'shade', 'art', 'occupation', 'rejoice', 'admirable', 'tested', 'usurpations', 'dispense', 'substituting', 'caprice', 'majorities', 'oppressing', 'Minorities', 'qualified', 'arrests', 'inconsiderate', 'unconstitutional', 'reconsideration', 'transfers', 'tribunal', 'abused', 'saved', 'infraction', 'collectively', 'auspicious', 'thirteen', 'week', 'three', 'multitudes', 'flocking', 'participate', 'Beneath', 'sway', 'Freed', 'miseries', 'Mind', 'tasked', 'devoting', 'Genius', 'announce', 'inventions', 'discoveries', 'conceives', 'distinctions', 'abolished', 'sects', 'creeds', 'assign', 'achievements', 'atrocity', 'lift', 'noblest', 'structure', 'stop', 'involve', 'warms', 'imitate', 'remember', 'revealed', 'Has', 'despots', 'safer', 'surer', 'Does', 'abode', 'swarming', 'shudder', 'compromises', 'diversified', 'religiously', 'Any', 'ruinous', 'disastrous', 'misguided', 'indulged', 'agitations', 'attaining', 'consequent', 'speedily', 'heartburnings', 'discountenanced', 'monopolies', 'practically', 'discard', 'oppose', 'pervert', 'banks', 'impotent', 'Ours', 'plain', 'European', 'monarchies', 'prop', 'Melancholy', 'amounts', 'coffers', '1812', 'judicious', 'grown', 'congratulate', 'restoration', 'Happy', 'freed', 'liabilities', 'incautiously', 'seeing', 'heavy', 'perceive', 'returns', 'acquiesce', 'levy', 'proposition', 'economical', 'material', 'profit', 'forbid', 'detriment', 'tariff', 'adjusting', 'discriminating', 'needed', 'merely', 'providing', 'levying', 'raising', 'manifest', 'doubtless', 'discriminations', 'Within', 'discriminate', 'conceded', 'range', 'agriculturists', 'Others', 'unjust', 'rightfully', 'enriched', 'impoverishing', 'wealthy', 'toiling', 'taxing', 'lowest', 'quality', 'consumed', 'coarse', 'low', 'consume', 'reiterate', 'widespread', 'cheerful', 'readily', 'levied', 'distribute', 'Texas', 'undoubted', 'dispose', 'merge', 'reunion', 'consummate', 'annexation', 'contract', 'exceptions', 'Foreign', 'appreciate', 'confederation', 'diminishing', 'chances', 'arm', 'genial', 'Orleans', 'southwestern', 'earnestly', 'tracts', 'cemented', 'surface', 'sparsely', 'confidently', 'weakened', 'stronger', 'None', 'ally', 'dependency', 'herself', 'Is', 'bordering', 'cross', 'unrestricted', 'obstructions', 'Whatever', 'annexed', 'refuse', 'prevented', 'forming', 'valid', 'vitally', 'reannexation', 'assert', 'lies', 'Rocky', 'Mountains', 'Oregon', 'unquestionable', 'wives', 'eighty', 'west', 'ridge', 'Alleghanies', 'lifetime', 'hearers', 'valley', 'adventurously', 'ascended', 'Missouri', 'headsprings', 'valleys', 'beholds', 'emigrants', 'conventional', 'stipulations', 'watchfulness', 'jeopard', 'studiously', 'skillful', 'artisans', 'remunerating', 'exacted', 'collection', 'culpable', 'connection', 'defaulting', 'executes', 'shrinks', 'carries', 'unmindful', 'Confidently', 'supplicating', 'hour', 'Elected', 'holding', 'acceptance', 'weightiest', 'loftiest', 'surrounded', 'fearful', 'matured', 'guaranties', 'diligently', 'manifold', 'devolved', 'defer', 'titles', 'treaties', 'appoint', 'ambassadors', 'indicate', 'Chosen', 'renew', 'proclaim', 'doctrines', 'active', 'furtherance', 'special', 'sympathize', 'warned', 'admonitions', 'Washington', 'international', 'settle', 'exhaust', 'diplomacy', 'appealing', 'conform', 'onerous', 'prerequisites', 'bestowal', 'harmonize', 'paramount', 'everyone', 'truly', 'loves', 'conducted', 'beginnings', 'eminence', 'assuage', 'promulgation', 'Countrymen', 'sorrow', 'preside', 'shrinking', 'answerable', 'rare', 'manifestation', 'lightening', 'requirements', 'changes', 'complexity', 'Whether', 'pace', 'progression', 'Carolina', 'congratulation', 'hardly', 'subsided', 'emerging', 'evident', 'mission', 'bravely', 'fulfilled', 'presumptuous', 'springing', 'paradox', 'weak', 'born', 'intrinsically', 'Inconsiderable', 'comprehension', 'pervading', 'furnace', 'tempered', 'wasted', 'idle', 'delusive', 'speculations', 'governmental', 'circumscribed', 'stood', 'fearfully', 'solution', 'problem', 'illuminated', 'achieve', 'affirms', 'oppressed', 'turned', 'hitherward', 'lest', 'wane', 'cheered', 'radiance', 'listen', 'tones', 'pronounce', 'animating', 'Preeminently', 'advocacy', 'reposes', 'remembered', 'based', 'strike', 'priceless', 'uncomplaining', 'prosecuted', 'characterized', 'impressive', 'evidences', 'working', 'intellects', 'accumulated', 'unfounded', 'stars', 'banner', 'threefold', 'densely', 'populated', 'possessions', 'skirt', 'oceans', 'suggestive', 'expansion', 'disguised', 'grasping', 'invite', 'beckon', 'Purposes', 'significantly', 'intend', 'blot', 'challenge', 'justification', 'influenced', 'purchased', 'dishonor', 'incidents', 'replete', 'furnishing', 'grounds', 'hopeful', 'comprised', 'boundless', 'throng', 'unexplored', 'pathway', 'limitless', 'Hence', 'kindly', 'channels', 'polity', 'tumults', 'Whilst', 'reciprocity', 'pertain', 'discern', 'star', 'ensign', 'preferment', 'unabashed', 'princes', 'behind', 'rude', 'tyrannical', 'impunity', 'citizenship', 'panoply', 'reaffirm', 'fundamental', 'colonization', 'utterly', 'inadmissible', 'soldier', 'confirmed', 'gallantry', 'unobtrusive', 'nucleus', 'waved', 'untarnished', 'folds', 'float', 'undiminished', 'appropriately', 'trustful', 'expectation', 'confess', 'doomed', 'disappointment', 'humiliating', 'Offices', 'occupancy', 'prerogative', 'importunate', 'imperatively', 'regardless', 'partisan', 'ratify', 'bestow', 'resentments', 'consult', 'selections', 'admitting', 'Higher', 'canvass', 'stringent', 'prevention', 'negligence', 'peculation', 'vigilant', 'concentration', 'discrimination', 'confine', 'recently', 'moved', 'impulse', 'perpetuation', 'showering', 'unknown', 'unequivocal', 'recurred', 'silence', 'misconstrued', 'dearest', 'entwined', 'race', 'dignifies', 'adorns', 'radiant', 'illumines', 'struggling', 'darkness', 'luster', 'dimmed', 'Do', 'overtake', 'stay', 'traversed', 'sectionalism', 'uncharitableness', 'dealt', 'sacrificing', 'tending', 'heartfelt', 'feverish', 'morbid', 'enthusiasm', 'interpose', 'stern', 'resistance', 'servitude', 'stands', '1850', 'unhesitatingly', 'obeyed', 'abstract', 'convictions', 'ambitious', 'fanatical', 'durability', 'obscure', 'rash', 'rejected', 'Wise', 'experiments', 'hazard', 'reunite', 'broken', 'fragments', 'green', 'slopes', 'Monticello', 'tomb', 'memories', 'gathering', 'eloquent', 'voices', 'exhortation', 'heaven', 'smiled', 'inherited', 'Convinced', 'owe', 'richest', 'candidate', 'ably', 'faithfull', 'tempest', 'instant', 'conception', 'settlement', 'legislate', 'Territory', 'therefrom', 'Kansas', 'legitimately', 'Court', 'Nebraska', 'residents', 'imperative', 'resident', 'inhabitant', 'fairer', 'Territorial', 'wherein', 'extinct', 'diverted', 'pressing', 'Throughout', 'intermission', 'prolific', 'alienated', 'estranged', 'sister', 'endangered', 'sober', 'Time', 'Political', 'exasperated', 'forgotten', 'graver', 'compensate', 'altar', 'loving', 'suppress', 'omen', 'calculate', 'Reasoned', 'profits', 'descending', 'calculations', 'fault', 'bare', 'expanding', 'railroads', 'East', 'Annihilate', 'march', 'insignificance', 'terrific', 'portray', 'frame', 'perish', 'peacefully', 'Next', 'taint', 'Public', 'decayed', 'usurped', 'substance', 'treasury', 'extravagant', 'produces', 'wild', 'begets', 'speculators', 'jobbers', 'ingenuity', 'contriving', 'expedients', 'wrongfully', 'suspected', 'suffers', 'estimation', 'inadequate', 'tonnage', 'afloat', 'seacoast', 'defray', 'modification', 'benefiting', 'corporations', 'inconsistent', 'fairness', 'squandering', 'sinks', 'temptation', 'remainder', 'cardinal', 'reserve', 'settlers', 'hardy', 'industrious', 'exiles', 'After', 'construed', 'i', 'Whenever', 'unhappy', 'adduced', 'Neither', 'strain', 'plainest', 'implication', 'truths', 'absolutely', 'navy', 'California', 'transported', 'invader', 'available', 'access', 'Coast', 'instantly', 'route', 'across', 'isthmus', 'Central', 'deny', 'defended', 'constructing', 'impaired', 'refusal', 'isolated', 'forbear', 'vanish', 'nearest', 'satisfactorily', 'frank', 'accepting', 'kindred', 'blend', 'acquire', 'Acting', 'complain', 'Hitherto', 'contented', 'shared', 'enters', 'discuss', 'Apprehension', 'Southern', 'inspection', 'speeches', 'addresses', 'quote', 'nominated', 'recanted', 'platform', 'emphatic', 'Resolved', 'balance', 'denounce', 'lawless', 'gravest', 'incoming', 'consistently', 'lawfully', 'demanded', 'delivering', 'fugitives', 'escaping', 'therein', 'delivered', 'reclaiming', 'fugitive', 'lawgiver', 'unanimous', 'temper', 'unkept', 'unsubstantial', 'Again', 'jurisprudence', 'enforcement', 'guarantees', 'immunities', '\"?', 'reservations', 'construe', 'hypercritical', 'specify', 'abide', 'unrepealed', 'seventy', 'fifteen', 'precedent', 'disruption', 'formidably', 'attempted', 'Perpetuity', 'organic', 'Continue', 'unmade', 'rescind', 'Descending', 'older', 'Articles', 'Association', '1774', '1776', 'plighted', '1778', '1787', 'ordaining', 'follows', 'get', 'resolves', 'ordinances', 'legally', 'insurrectionary', 'unbroken', 'Doing', 'withhold', 'authoritative', 'bloodshed', 'using', 'anywhere', 'Where', 'locality', 'obnoxious', 'irritating', 'impracticable', 'withal', 'forego', 'uses', 'mails', 'repelled', 'indicated', 'troubles', 'glad', 'affirm', 'grave', 'why', 'Will', 'desperate', 'ills', 'risk', 'commission', 'mistake', 'audacity', 'Think', 'assured', 'affirmations', 'negations', 'prohibitions', 'specifically', 'applicable', 'foresight', 'document', 'Shall', 'prohibit', 'Must', 'continuing', 'secede', 'refuses', 'hence', 'arbitrarily', 'identity', 'secession', 'Plainly', 'essence', 'Whoever', 'rejects', 'Unanimity', 'wholly', 'rejecting', 'suit', 'obviously', 'erroneous', 'overruled', 'irrevocably', 'litigation', 'rulers', 'resigned', 'assault', 'court', 'imperfectly', 'dry', 'cured', 'worse', 'restriction', 'partially', 'Physically', 'build', 'impassable', 'wall', 'husband', 'wife', 'divorced', 'aliens', 'easier', 'Suppose', 'gain', 'identical', 'inhabit', 'grow', 'weary', 'amending', 'desirous', 'amended', 'preferable', 'allows', 'propositions', 'irrevocable', 'fix', 'Why', 'Nations', 'yours', 'intervals', 'extreme', 'wickedness', 'folly', 'space', 'calmly', 'hurry', 'hot', 'haste', 'frustrated', 'dissatisfied', 'sensitive', 'framing', 'precipitate', 'Intelligence', 'Him', 'forsaken', 'adjust', 'assail', 'registered', 'loath', 'strained', 'mystic', 'chords', 'stretching', 'battlefield', 'hearthstone', 'swell', 'chorus', 'touched', 'appearing', 'Then', 'statement', 'seemed', 'fitting', 'phase', 'absorbs', 'engrosses', 'else', 'reasonably', 'encouraging', 'prediction', 'ventured', 'impending', 'avert', 'inaugural', 'Both', 'survive', 'eighth', 'colored', 'localized', 'somehow', 'insurgents', 'rend', 'restrict', 'triumph', 'astounding', 'Bible', 'invokes', 'wringing', 'sweat', 'faces', 'answered', 'Woe', 'unto', 'offenses', 'woe', 'offense', 'cometh', 'wills', 'terrible', 'believers', 'ascribe', 'Fondly', 'scourge', 'piled', 'bondsman', 'hundred', 'unrequited', 'toil', 'sunk', 'drop', 'lash', 'righteous', 'malice', 'charity', 'strive', 'widow', 'orphan', 'Your', 'reservation', 'untrammeled', 'agitating', 'interposing', 'defeat', 'approval', 'Laws', 'method', 'emerged', 'rebellion', 'deal', 'hate', 'securing', 'specie', 'debtor', 'dollar', 'indebtedness', 'stipulated', 'repudiator', 'farthing', 'retrenchment', 'paying', 'poverty', 'emerge', 'feasibility', 'ease', 'box', 'locked', 'sterile', 'mountains', 'key', 'unlock', 'contingency', 'Ultimately', 'sort', 'payments', 'abeyance', 'contracting', 'payable', 'prostrate', 'rebuilt', 'industries', 'young', 'resumed', 'acquiesced', 'Legislation', 'restored', 'resumes', 'wonted', 'assessed', 'accounted', 'economically', 'disbursed', 'design', 'jeopardized', 'floats', 'demanding', 'treatment', 'occupants', 'Indians', 'tends', 'agitate', 'excluded', 'ratification', 'fifteenth', 'cementing', 'began', 'recovered', 'Therefore', 'republicanism', 'guiding', 'army', 'telegraph', 'transit', 'steam', 'contiguous', 'Social', 'status', 'travels', 'fare', 'rehabilitated', 'Santo', 'Domingo', 'Commerce', 'Rather', 'Maker', 'values', 'par', 'cheap', 'routes', 'remuneration', 'producer', 'reestablishment', 'manufacturing', 'exports', 'imports', 'returning', 'permanently', 'elevation', 'aborigines', 'extermination', 'Wars', 'industrial', 'expensive', 'weakest', 'superiority', 'lenient', 'teaching', 'Earth', 'consciences', 'beg', 'methods', 'promotions', 'gift', 'resting', 'released', 'respite', 'firing', 'Fort', 'Sumter', 'April', '1861', 'growing', 'acquaintance', 'asking', 'promotion', 'revengeful', 'candidacy', '1868', 'slander', 'vindication', 'ceremonial', 'engage', 'animate', 'Following', 'adopting', 'nomination', 'pacification', 'calamitous', 'tremendous', 'immeasurable', 'hearty', 'Difficult', 'embarrassing', 'threshold', 'recognizes', 'maintains', 'races', 'deplorable', 'complications', 'perplexities', 'submits', 'loyally', 'heartily', 'Resting', 'superstructure', 'built', 'implies', 'fade', 'barbarism', 'Democrats', 'fellowmen', 'sweeping', '4', 'problems', 'emancipated', 'author', 'emancipation', 'employ', 'assailed', 'afflict', 'contentment', 'restoring', 'merits', 'arrested', 'deserves', 'Universal', 'supplemented', 'truest', 'white', 'wipe', 'color', 'practices', 'radical', 'meant', 'tenure', 'appointments', 'declaring', 'prior', 'recognizing', 'urging', 'unreserved', 'owes', 'mindful', 'serves', 'prescribing', 'prostration', 'September', '1873', 'irredeemable', 'paper', 'fluctuation', 'coin', 'convertible', 'adhere', 'Congressional', 'resumption', 'reminded', 'traditional', 'noninterference', 'inaugurated', 'Grant', 'submitting', 'arbitration', 'incomparably', 'unhappily', 'reached', 'usually', 'attends', 'espouse', 'advocate', 'closeness', 'counting', 'electoral', 'research', 'patiently', 'waited', 'widely', 'vary', 'conclusions', 'unerring', 'unsuccessful', 'differ', 'solving', 'rejoicing', 'amicably', 'opposing', 'hushing', 'shaped', 'Senators', 'constraint', 'ordered', 'piety', 'overlooks', 'crowded', 'pause', 'glance', 'traveled', 'Perpetual', 'beset', 'centennial', 'anniversary', 'Yorktown', 'fought', 'colonists', 'overestimate', 'vigorous', 'aside', 'stead', 'area', '1780', 'inspirations', 'reviewed', 'interpret', 'resolutely', 'facing', 'possibilities', 'Sacredly', 'stir', 'closed', 'decree', 'pursuance', 'autonomy', 'negro', 'immensely', 'wronged', 'enfeebled', '5', 'inspiration', 'help', 'richer', 'caused', 'disturbance', 'deplored', 'disfranchised', 'peasantry', 'Freedom', 'smallest', 'obstacle', 'remarkable', 'unquestioning', 'patience', 'gentleness', 'laying', 'widening', 'ballot', 'allegation', 'uneducated', 'negroes', 'allegations', 'palliation', 'offered', 'Bad', 'sanctities', 'persisted', 'Suicide', 'king', 'counted', 'strangle', 'stifle', 'pity', 'emphasis', 'keeps', 'voter', 'wider', 'lurks', 'hides', 'fountains', 'vice', 'joined', 'voters', 'hang', 'heirs', 'comes', 'corrupted', 'remediless', 'census', 'sounded', 'figures', 'dangerously', 'illiteracy', 'removing', 'voting', 'volunteer', 'savory', 'educate', 'fit', 'partisanship', 'oracle', 'child', 'overthrown', 'retard', 'reconciliation', 'truce', 'anticipating', 'Enterprises', 'battlefields', 'grander', 'victories', 'Fruitful', 'seasons', 'silver', 'monetary', 'Confusion', 'variations', 'compulsory', 'coinage', 'driving', 'metal', 'purchasing', 'coined', 'exactly', 'Grave', 'tender', 'notes', 'holder', 'holders', 'refunding', 'lower', 'rate', 'withdrawal', 'disturbing', 'occupied', 'farms', 'coasts', 'tillers', 'industrially', 'healthy', 'transportation', 'waterways', 'shortening', 'voyage', 'Cape', 'Horn', 'ship', 'railways', 'unites', 'continents', 'Various', 'interoceanic', 'canal', 'connects', 'reproach', 'populous', 'naught', 'Mormon', 'Church', 'offends', 'sanctioning', 'polygamy', 'prevents', 'instrumentalities', 'uttermost', 'scruples', 'ecclesiastical', 'obstruction', 'inordinate', 'incumbents', 'removals', 'invading', 'supporters', 'reverently', 'seal', 'consecrates', 'faculty', 'din', 'attendant', 'anew', 'heat', 'merged', 'Today', 'supplanted', 'ungrudging', 'weal', 'Moreover', 'harmoniously', 'consecrated', 'shock', 'commended', 'succeed', 'diverse', 'competing', 'persistently', 'recognition', 'postponement', 'abandonment', 'subserved', 'unstrained', 'cautious', 'today', 'farm', 'workshop', 'busy', 'marts', 'town', 'capitals', 'framework', 'serving', 'earnings', 'extravagance', 'ashamed', 'prudential', 'economies', 'promotes', 'thrift', 'dictate', 'avoidance', 'traditions', 'broils', 'ambitions', 'repelling', 'intrusion', 'Monroe', 'wage', 'workingmen', 'preventing', 'tempt', 'Care', 'purloining', 'unlawful', 'wards', 'offensive', 'repressed', 'rigidly', 'immigration', 'servile', 'compete', 'acquiring', 'bringing', 'retaining', 'incompetency', 'employees', 'vicious', 'worthily', 'insist', 'subserviency', 'freedmen', 'fitness', 'accorded', 'unprofitable', 'suggests', 'entitles', 'charges', 'topics', 'varying', 'enterprising', 'perception', 'vouchsafed', 'requirement', 'appropriateness', 'covenants', 'unfailing', 'evade', 'penalties', 'wrest', 'cruelty', 'selfishness', 'unspoken', 'Surely', 'misinterpret', 'righteousness', 'begins', 'sixth', 'York', 'sitting', '30th', '1789', 'deferred', 'delays', 'centennials', 'shortly', 'celebrate', 'suitably', 'note', 'marvelous', 'contrasts', 'undauntedly', 'stretched', 'recall', 'teachings', 'fringed', 'Dakota', 'Virginia', '1790', 'located', 'east', 'Baltimore', 'argued', 'eastward', '1880', 'Cincinnati', 'stride', 'fringe', 'robe', 'directions', 'fed', 'clothed', 'housed', 'vastly', 'sweet', 'higher', 'ideal', 'reenforced', 'divergent', 'merchant', 'shipmaster', 'manufacturer', 'discovered', 'disclosed', 'won', 'relaxed', 'hard', 'check', 'marine', 'shops', 'Petitions', 'imposition', 'afield', 'energetically', 'equipping', 'Societies', 'domestics', 'dress', 'revival', 'protective', 'opponents', 'inured', 'cotton', 'walked', 'abreast', 'fabrics', 'Pennsylvania', 'mineral', 'treasures', 'southeastern', 'mountain', 'ranges', 'tardy', 'smelting', 'mill', 'coal', 'hillsides', 'Mill', 'fires', 'funeral', 'pile', 'proclamation', 'depths', 'sky', 'eliminated', 'planting', 'achieving', 'diversification', 'plantation', 'product', 'spun', 'operatives', 'crops', 'garden', 'factory', 'paralysis', 'skirts', 'tolerate', 'incapacities', 'hopefully', 'mining', 'unification', 'neighborhood', 'shop', 'promoters', 'workingman', 'Clay', 'expositions', 'Webster', 'courageously', 'avow', 'black', 'plausibly', 'suggestion', 'pointed', 'elect', 'obey', 'eject', 'embraces', 'entirety', 'code', 'nullify', 'pernicious', 'escape', 'presently', 'scrupulously', 'violent', 'denies', 'severed', 'demoralizes', 'destroys', 'breast', 'darkened', 'uncanny', 'inquire', 'influential', 'connive', 'lawlessness', 'courts', 'mobs', 'attractive', 'investments', 'applying', 'unimpressive', 'unintelligible', 'hospitable', 'careless', 'threat', 'spectators', 'contentions', 'obtruding', 'attempting', 'unfairly', 'distresses', 'manifestly', 'precautions', 'habitually', 'shorter', 'waterway', 'seaboards', 'dominated', 'project', 'environment', 'dominate', 'absorb', 'stable', 'colonial', 'dependencies', 'restrains', 'transpire', 'domiciled', 'islands', 'convenient', 'coaling', 'dock', 'harbor', 'trading', 'coercion', 'feeble', 'concessions', 'impairment', 'Calmness', 'contribution', 'opprobrium', 'ruthlessly', 'breaks', 'nominate', 'burdensome', 'applicants', 'representations', 'inconsiderately', 'obliging', 'Honorable', 'disqualification', 'delinquency', 'creditable', 'Persistent', 'importunity', 'Heads', 'bureaus', 'therewith', 'evasion', 'Retrospect', 'nonpartisan', 'incumbency', 'margin', 'Expenditure', 'Wastefulness', 'favoritism', 'unduly', 'postponed', 'fortunately', 'unforeseen', 'excess', 'below', 'reduction', 'armament', 'workmanship', 'inefficient', 'guns', 'rating', 'premeditation', 'risks', 'steamship', 'exchanges', 'reliable', 'lying', 'south', 'pension', 'sailors', 'widows', 'orphans', 'Dakotas', 'Montana', 'unreasonably', 'availed', 'invitations', 'entries', 'patent', 'throwing', 'elector', 'welcome', 'discover', 'Only', 'inefficiency', 'unfair', 'districts', 'electors', 'residing', 'insistence', 'savor', 'impertinence', 'frauds', 'recover', 'sanctity', 'juggler', 'hat', 'renounced', 'allegiance', 'exalt', 'die', 'hurtful', 'evanescent', 'standpoint', 'differing', 'arbitrament', 'magnificent', 'pleasant', 'diadem', 'feet', 'definition', 'calculation', 'mercy', 'reins', 'avenues', 'mistrust', 'ambush', 'uncovered', 'Passion', 'swept', 'indecent', 'protest', 'disaffection', 'agencies', 'revealing', 'unity', 'unalloyed', 'revelation', 'swift', 'harvests', 'cattle', 'hills', 'ores', 'valued', 'crown', 'mandate', 'dedicate', 'sufficiency', 'rudest', 'shocks', 'symptom', 'insidious', 'threatens', 'sturdy', 'activities', 'rejoices', 'hardihood', 'lurking', 'unheeded', 'dooms', 'collapse', 'stupendous', 'robust', 'rise', 'heedlessness', 'Manifestly', 'exposure', 'arouse', 'statesmanship', 'depreciation', 'wages', 'incentive', 'precaution', 'dealing', 'related', 'defy', 'inexorable', 'unmoved', 'phrases', 'unvexed', 'remedial', 'intervene', 'Closely', 'confronts', 'prevalence', 'especial', 'exposing', 'brood', 'unwholesome', 'progeny', 'paternalism', 'bane', 'peril', 'degrades', 'wily', 'craft', 'bequeathed', 'perverts', 'tempts', 'pitiful', 'sordid', 'undermines', 'substitutes', 'stifles', 'Americanism', 'stupefies', 'ennobling', 'trait', 'unlearned', 'patriotically', 'include', 'bounties', 'subsidies', 'advised', 'languishing', 'overleaps', 'prostitutes', 'disabled', 'checking', 'frugality', 'outgrow', 'prodigality', 'deplorably', 'saps', 'sturdiness', 'measured', 'misappropriation', 'awarded', 'appointees', 'madness', 'purification', 'aggregations', 'limiting', 'fixing', 'Legitimate', 'superseded', 'cheapness', 'frequently', 'conspiracies', 'phases', 'unnatural', 'Loyalty', 'manliness', 'border', 'Humanity', 'consistency', 'treat', 'considerately', 'cupidity', 'shielded', 'retards', 'decreed', 'unremittingly', 'heedless', 'vindictiveness', 'rectification', 'lifting', 'treasured', 'underlies', 'tear', 'delusions', 'misconceptions', 'denial', 'familiarity', 'perversions', 'reinstate', 'discrediting', 'abject', 'stimulate', 'achievement', 'Anxiety', 'constrain', 'cooperate', 'insuperable', 'exacting', 'impressively', 'defines', 'commands', 'attacked', 'impatience', 'restlessness', 'enforcing', 'Fully', 'gravity', 'confront', 'appalled', 'Cabinet', 'represent', 'Above', 'forsake', 'commandments', 'walk', 'prevailing', 'entailing', 'idleness', 'disturbances', 'revision', 'enduring', 'circulating', 'premium', 'contraction', 'displaced', 'wiser', 'fiscal', 'insuring', 'outgrowth', 'slowly', 'exhaustive', 'cordially', 'concur', 'Business', 'training', 'combined', 'bimetallism', 'co', 'parity', 'Economy', 'severest', 'stopped', 'decreased', 'outstanding', 'vigorously', 'creditors', 'pensioners', 'Suitably', 'exceed', 'receipts', 'met', 'creates', 'hindrance', 'suffice', 'lasts', 'outlays', 'temporarily', 'accrued', 'deficit', 'Loans', 'goes', 'bulk', 'sale', 'needless', 'additions', 'latest', 'utterance', 'plainer', 'enact', 'helpful', 'potential', 'stopping', 'drain', 'nigh', 're', '1890', 'stimulus', 'manufactured', 'justifies', 'discretionary', 'granting', 'severity', 'toilers', 'Agriculture', 'languished', 'loyal', 'producers', 'depressed', 'lessened', 'decrease', 'promising', 'troublesome', 'lacking', 'energetic', 'immeasurably', 'Equality', 'consoling', 'speech', 'unmolested', 'dearer', 'universally', 'Lynchings', 'rock', 'securely', 'emphasizes', 'Immunity', 'statutes', 'undue', 'rates', 'gates', 'tightly', 'Illiteracy', 'foremost', 'Reforms', 'perfunctory', 'simply', 'happens', 'voted', 'shielding', 'administrated', 'highways', 'progressed', 'rapidity', 'percentage', 'Civil', 'Commendable', 'upbuilding', 'consort', 'accords', 'non', 'entanglement', 'foes', 'dignified', 'insisting', 'Arbitration', 'employers', 'Forty', 'ninth', '1886', 'diplomatic', 'Commons', '1893', 'invitation', 'signed', 'January', 'initiative', 'respectfully', 'thereon', 'overestimated', 'leadership', 'convening', 'convene', 'extra', 'economic', 'postpone', 'freer', 'politics', 'distract', 'fearing', 'disagree', 'preconceived', 'permanence', 'Monday', '15th', 'March', '1897', 'obliteration', 'distracted', 'marred', 'policies', 'felicitation', 'affiliation', 'antagonistic', 'High', '4th', 'constrained', '41', 'avenue', 'unprecedented', 'broader', '1896', 'unfulfilled', 'ventures', 'determines', 'appropriations', 'officials', 'Honesty', 'nowhere', 'requisites', 'Four', 'brink', 'dishonorable', 'spared', 'horrors', 'Intrusted', 'appreciating', 'attach', 'decrees', 'reunited', 'Sectionalism', 'disappeared', 'Division', 'maps', 'Existing', 'quicken', 'Magnifying', 'Distrust', 'theme', 'Dark', 'pictures', 'gloomy', 'becloud', 'Hope', 'maketh', 'prophets', 'builders', 'crises', 'wrought', 'defenders', 'obstructionists', 'solve', 'intrenched', 'doctrine', 'deteriorate', 'abate', 'tropic', 'suns', 'demonstrate', 'estate', 'disheartened', 'rightly', 'smooth', 'consoled', 'confronted', 'undergoing', 'ordeal', 'blazed', 'triumphed', 'falter', 'plead', 'impotency', '125', 'nationality', 'recital', 'honorably', 'thrilling', 'China', 'Cuba', '1898', 'Ever', 'evacuation', 'island', 'speed', 'assisting', 'completion', 'transfer', 'involving', 'intervention', 'deems', 'discharging', 'conforming', 'historical', 'Cuban', 'sponsors', 'Cubans', 'reconstruction', 'commonwealth', 'enfranchisement', 'entity', '6th', 'February', '1899', 'Philippine', 'Islands', 'archipelago', 'instructions', 'reports', 'Philippines', 'fast', 'earnestness', 'amnesty', 'waging', 'disloyal', 'Force', 'ushered', 'thankful', 'boastfulness', 'Giver', 'bygone', 'obliged', 'alien', 'manlier', 'hardier', 'wither', 'vainglory', 'realization', 'acknowledgment', 'thrive', 'soul', 'Much', 'shirk', 'behave', 'beseems', 'Toward', 'deeds', 'count', 'wrongdoing', 'insistent', 'afraid', 'manfully', 'insolent', 'rises', 'faced', 'outgrown', 'Modern', 'intense', 'fiber', 'Democratic', 'centers', 'hiding', 'unbending', 'unflinching', 'aright', 'tasks', 'unchanged', 'traits', 'heritage', 'unwasted', 'everyday', 'lofty', 'Abraham', 'Lincoln', 'Anyone', 'main', 'advisers', 'reforms', 'initiated', 'untrue', 'interstate', 'halt', 'Relief', 'restrictions', 'antitrust', 'stock', 'companies', 'owning', 'operating', 'reorganization', 'Bureau', 'Corporations', 'Labor', 'Interstate', 'Commission', 'December', 'certainty', 'combining', 'differentiating', 'intent', 'artificially', 'formulating', 'creative', 'interval', 'clinching', 'revising', 'Dingley', 'Act', 'maximum', 'equitably', 'drafted', 'similarly', 'schedules', 'proposal', 'revise', 'halts', 'disturbs', 'perfecting', 'mailing', 'prime', 'Due', 'panic', '1907', '100', 'graduated', 'affirmed', 'cutting', 't', 'laissez', 'faire', 'scale', 'supervising', 'prosecution', 'putting', 'conservation', 'forests', 'reclamation', 'indirect', 'Panama', 'Canal', 'proceeds', 'deepening', 'channel', 'Ohio', 'mainland', 'officered', 'expeditionary', 'completeness', 'insufficient', 'adjunct', 'reduces', 'quickly', 'improvised', 'messages', 'Nation', 'conservator', 'assertion', 'entails', 'Hague', 'Tribunal', 'blind', 'foolish', 'idealists', 'Orient', 'door', 'intact', 'She', 'verbal', 'Spanish', 'bona', 'fide', 'naturalized', 'wishing', 'sojourn', 'Asiatic', 'immigrants', 'amalgamated', 'prohibitory', 'clauses', 'minimize', 'friction', 'Meantime', 'outbursts', 'foreigners', 'puts', 'pusillanimous', 'excuse', 'asserted', 'elasticity', 'embody', 'dew', 'intricate', 'evoke', 'dogmatic', 'statements', 'studying', 'investigations', 'experts', 'undoubtedly', 'postal', 'savings', 'repay', 'deposits', 'substantially', 'investment', 'alive', 'feasible', 'sales', 'cottons', 'machinery', 'steamers', 'Root', 'noteworthy', 'visit', 'tentative', 'mail', 'play', 'ridding', 'importation', 'minimum', 'revolutionize', 'transcontinental', 'bulky', 'merchandise', 'rail', 'type', 'lock', 'consulting', 'board', 'Recent', 'Isthmus', 'engineers', 'examine', 'Gatun', 'dam', 'locks', 'shows', 'newly', 'Colonel', 'Goethals', 'rear', 'pushing', 'constructive', 'Porto', 'Rico', 'progressing', 'unabated', 'sugar', 'tobacco', 'upholding', 'redounds', 'secondary', 'tolerance', 'thirteenth', 'fourteenth', 'square', 'whites', 'electorate', 'base', 'Northerners', 'sympathized', 'Negro', 'specifying', 'province', 'statistics', 'Negroes', 'Americans', 'Encountering', 'offers', 'acute', 'appointee', 'outweigh', 'harm', 'Personally', 'awakens', 'benefited', 'franchises', 'passing', 'sincerest', 'abolishing', 'contributory', 'therefor', 'previous', 'devices', 'limbs', 'Additional', 'outgoing', 'insofar', 'injured', 'railway', 'corporation', 'device', 'invented', 'limb', 'Another', 'Take', 'privileged', 'laborers', 'linked', 'boycott', 'instinct', 'tyranny', 'restraining', 'notice', 'recommends', 'formulation', 'statute', 'unlikely', 'procedure', 'assemble', 'Vice', 'uppermost', 'going', 'familiar', 'creep', 'latterly', 'critically', 'dropped', 'disguises', 'stuff', 'refreshed', 'insight', 'aspects', 'sweep', 'conceived', 'groups', 'Nowhere', 'women', 'helpfulness', 'rectify', 'fortuitous', 'storm', 'accident', 'abundance', 'fine', 'corroded', 'inexcusable', 'squandered', 'conserve', 'bounty', 'worthless', 'scorning', 'shamefully', 'prodigal', 'admirably', 'thoughtfully', 'snuffed', 'overtaxed', 'spiritual', 'pitilessly', 'groans', 'agony', 'ears', 'moving', 'undertone', 'mines', 'factories', 'scrutinize', 'loved', 'vision', 'debased', 'decadent', 'cleanse', 'reconsider', 'purify', 'humanize', 'weakening', 'sentimentalizing', 'crude', 'heartless', 'unfeeling', 'giant', 'levers', 'scales', 'proudly', 'itemized', 'particularity', 'items', 'cuts', 'violates', 'facile', 'sell', 'concentrating', 'cash', 'restricting', 'credits', 'strings', 'restricts', 'conserving', 'undertakings', 'watercourses', 'undeveloped', 'unreclaimed', 'untended', 'disappearing', 'renewal', 'unregarded', 'heaps', 'studied', 'organizers', 'safeguarding', 'sentimental', 'politic', 'vitality', 'processes', 'alter', 'singly', 'cope', 'Society', 'weaken', 'damage', 'Sanitary', 'food', 'determining', 'powerless', 'undone', 'neglected', 'shines', 'hearthfire', 'inconceivable', 'partisans', 'clean', 'shallow', 'excursions', 'whither', 'tell', 'motto', 'stirred', 'ideals', 'debauched', 'heartstrings', 'air', 'reconciled', 'brother', 'spokesmen', 'interpreters', 'rectified', 'muster', 'wait', 'dares', 'summon', 'helping', 'Perhaps', 'house', 'grosser', 'speaks', 'centered', 'outside', 'despite', 'irresistibly', 'composite', 'cosmopolitan', 'currents', 'quick', 'indifferent', 'closer', 'wished', 'apart', 'transcended', 'intolerable', 'aware', 'fortify', 'rooted', 'unselfish', 'covet', 'clarify', 'spirits', 'provincials', 'tragic', 'turmoil', 'turning', 'bred', 'peoples', 'henceforth', 'sternly', 'argue', 'parcel', 'forged', 'blaze', 'purged', 'errant', 'humors', 'audience', 'delegation', 'named', 'leader', 'beware', 'building', 'shadows', 'dark', 'noting', 'ruggedness', 'withstood', 'breathes', 'clarified', 'atmosphere', 'mingling', 'fury', 'senses', 'founding', 'ambiguity', 'effaced', 'baptism', 'rivet', 'glorified', 'scoffed', 'recorded', 'materially', 'spiritually', 'noninvolvement', 'Confident', 'jealously', 'guarding', 'directing', 'entangled', 'contacts', 'fellowship', 'crave', 'builded', 'commitments', 'misunderstand', 'misconstrue', 'impede', 'relationship', 'hateful', 'outlaws', 'associate', 'conference', 'approximate', 'disarmament', 'crushing', 'suggesting', 'mediation', 'gladly', 'justiciable', 'thereto', 'translating', 'concept', 'hatred', 'commitment', 'supergovernment', 'aloofness', 'humankind', 'appraisal', 'unselfishness', 'proven', 'impassioned', 'reversion', 'tomorrow', 'dependable', 'questioning', 'internationality', 'supersede', 'referendum', 'initiate', 'seemly', 'program', 'probability', 'brotherhood', 'Because', 'appraise', 'comity', 'aspire', 'Mankind', 'inaugurate', 'era', 'relationships', 'comities', 'intimacy', 'notably', 'galaxy', 'wreckage', 'embittered', 'travail', 'devastated', 'desolated', 'gaping', 'delirium', 'unbalanced', 'unspeakable', 'beating', 'riveted', 'wounded', 'convey', 'comrades', 'normal', 'Reconstruction', 'readjustment', 'lighten', 'revenge', 'dream', 'prowess', 'unify', 'collective', 'woman', 'assignment', 'fitted', 'plant', 'penny', 'inure', 'chest', 'inherently', 'turns', 'Out', 'consecration', 'impregnable', 'disorganization', 'staggering', 'swollen', 'flout', 'sedition', 'pitiable', 'slackerism', 'outrage', 'Envy', 'engenders', 'mistakes', 'yesterday', 'aftermath', 'measureless', 'wastage', 'groping', 'Discouraging', 'torn', 'repudiation', 'abnormal', 'grim', 'sane', 'reassuring', 'reaction', 'Herein', 'flows', 'lifeblood', 'mechanism', 'interdependent', 'jars', 'inflations', 'upheavals', 'balances', 'clogged', 'Prices', 'receding', 'fever', 'levels', 'readjusts', 'compensations', 'normalcy', 'evenly', 'disorder', 'losses', 'start', 'afresh', 'oldest', 'mutuality', 'miracle', 'confusion', 'cycle', 'unmistakable', 'Peoples', 'Industry', 'sensed', 'resume', 'lightened', 'sympathetic', 'omission', 'mindfulness', 'squared', 'womanhood', 'intuitions', 'refinements', 'alert', 'group', 'hungers', 'reverent', 'unpreparedness', 'insists', 'overturning', 'unfurl', 'revisions', 'reformations', 'evolutions', 'table', 'thirsting', 'cup', 'fountain', 'acclaim', 'luring', 'fallacy', 'barriers', 'costs', 'tariffs', 'buy', 'Opportunity', 'surpassing', 'bidding', 'cargoes', 'bottoms', 'reliant', 'nobler', 'Believing', 'heights', 'reflex', 'Common', 'goal', 'Wealth', 'inimical', 'friendliest', 'blotches', 'distressed', 'unemployment', 'illumined', 'mothers', 'hours', 'befits', 'cradle', 'childhood', 'rocked', 'blight', 'touch', 'lack', 'realities', 'futility', 'disorders', 'industrialism', 'Service', 'Golden', 'Rule', 'autocracy', 'upheaval', 'heavily', 'surge', 'reassurance', 'mindedness', 'humility', 'implore', 'unafraid', 'Holy', 'Writ', 'doth', 'thee', 'thy', '?\"', 'plight', 'finding', 'satisfying', 'definitely', 'deliverance', 'manifesting', 'conscientiously', 'rearranged', 'Realizing', 'firmer', 'successes', 'experiences', 'continually', 'erect', 'structures', 'essentials', 'bearings', 'firmament', 'accurately', 'fiftieth', 'array', 'detached', 'confines', '50', 'reasserted', 'plains', 'intervening', 'slope', 'birthright', 'withdrew', 'unrecompensed', 'openly', 'tensely', 'distinctively', 'desires', 'narrowed', 'dwarfed', 'slogans', 'adjective', 'substantive', 'isolation', 'pacifists', 'militarists', 'configuration', 'represents', 'comports', 'balanced', 'intensely', 'modem', 'beneath', 'friendliness', 'competitive', 'ranks', 'comparison', 'Removing', 'accrue', 'keen', 'rivalry', 'hysteria', 'fomenting', 'slipping', 'seizing', 'musket', 'conferences', 'response', 'participants', 'failures', 'continuation', 'display', 'factor', 'advocated', 'negotiated', 'Permanent', 'International', 'inessential', 'barter', 'logic', 'sophistries', 'subterfuges', 'actively', 'comprehensively', 'signify', 'handed', 'enormous', 'Especially', 'implicated', 'responded', 'Hemisphere', 'sums', 'financing', 'respond', 'rehabilitation', 'formula', 'Undoubtedly', 'clarification', 'scholars', 'studies', 'outlawing', 'aggressive', 'adjustments', 'Conditions', 'Unless', 'brotherly', 'artificial', 'Parchment', 'triumphant', 'detachment', 'contentious', 'Mindful', 'trim', 'fundamentally', 'worked', 'bigoted', 'label', 'loyalty', 'coherence', 'polls', 'Likewise', 'ownership', 'electric', 'utilities', 'wanted', 'clearness', 'computation', 'monthly', 'drastic', 'lengthens', 'diminishes', 'carelessly', 'meager', 'prudently', 'idealism', 'injuriously', 'soundest', 'Fortunately', 'wartime', 'legalized', 'larceny', 'earn', 'ministers', 'assess', 'arriving', 'hamper', 'extremely', 'absurd', 'envious', 'heed', 'owners', 'squander', 'dissipation', 'restrictive', 'plentiful', 'earners', 'recovering', 'ver', 'reviving', 'cereals', 'indicates', 'matchless', 'enshrined', 'tireless', 'chooses', 'administrators', 'barbarian', 'exhibiting', 'displaying', 'savagery', 'treading', 'jungle', 'collaborator', 'criticism', 'falls', 'signified', 'destination', 'overwhelmingly', 'showed', 'inquisition', 'contemplations', 'justified', 'patron', 'obedient', 'solicitous', 'earner', 'attentive', 'intuitive', 'desiring', 'empire', 'lures', 'sends', 'cherishes', 'tradition', 'OUR', 'PROGRESS', 'survey', 'satisfactions', 'virility', 'recovery', 'liberation', 'accomplishments', 'borders', 'Calvin', 'Coolidge', 'safeguarded', 'THE', 'FAILURE', 'OF', 'SYSTEM', 'CRIMINAL', 'JUSTICE', 'malign', 'Crime', 'Confidence', 'decreasing', 'impotence', 'eighteenth', 'increasingly', 'reestablish', 'effectiveness', 'redistribution', 'simplification', 'establishes', 'attorneys', 'refuge', 'big', 'criminals', 'technicalities', 'subterfuge', 'thwarted', 'Reform', 'First', 'Rigid', 'expeditious', 'defeated', 'indifference', 'exploitation', 'entanglements', 'delinquent', 'inefficiently', 'sore', 'ENFORCEMENT', 'EIGHTEENTH', 'AMENDMENT', 'mentioned', 'concurrent', 'liquor', 'patronized', 'awake', 'stimulating', 'coequal', 'stamping', 'outlawry', 'condemning', 'crumble', 'NATIONAL', 'INVESTIGATION', 'RELATION', 'GOVERNMENT', 'TO', 'BUSINESS', 'COOPERATION', 'BY', 'Self', 'imply', 'Progress', 'cooperating', 'regularity', 'manifests', 'recreation', 'EDUCATION', 'primarily', 'universality', 'instructed', 'objective', 'expands', 'wrecked', 'refresh', 'boy', 'girl', 'selective', 'PUBLIC', 'HEALTH', 'diseases', 'eradication', 'infinitely', 'WORLD', 'PEACE', 'accepts', 'interlocked', 'haunt', 'Superficial', 'observers', 'abounding', 'imperialism', 'engrossed', 'negation', 'youth', 'learning', 'literature', 'travel', 'broadening', 'extinction', 'renunciation', 'sets', 'pave', 'major', 'misinterpreted', 'advisory', 'subsidiary', 'membership', 'League', 'increases', 'availability', 'journey', 'unbounded', 'hospitality', 'racial', 'inheritances', 'emotion', 'chairs', 'shameful', 'confession', 'unworthiness', 'died', 'mature', 'mingled', 'PARTY', 'RESPONSIBILITIES', 'platforms', 'SPECIAL', 'SESSION', 'CONGRESS', 'Action', 'proposals', 'request', 'OTHER', 'MANDATES', 'FROM', 'ELECTION', 'tangible', 'determinations', 'embedded', 'touchstones', 'More', 'fruition', 'catalogue', 'definitions', 'stimulation', 'individuality', 'lessening', 'faiths', 'Ill', 'faults', 'CONCLUSION', 'degeneration', 'enlist', 'impels', 'endured', 'revive', 'nameless', 'unreasoning', 'unjustified', 'paralyzes', 'convert', 'critical', 'thank', 'Values', 'shrunken', 'fantastic', 'curtailment', 'exchange', 'frozen', 'withered', 'families', 'host', 'unemployed', 'optimist', 'stricken', 'plague', 'locusts', 'Compared', 'Plenty', 'doorstep', 'languishes', 'Primarily', 'goods', 'stubbornness', 'incompetence', 'abdicated', 'Practices', 'unscrupulous', 'changers', 'indicted', 'True', 'pattern', 'outworn', 'Faced', 'lending', 'Stripped', 'lure', 'exhortations', 'pleading', 'tearfully', 'seekers', 'seats', 'Happiness', 'thrill', 'mad', 'chase', 'ministered', 'Recognition', 'falsity', 'likeness', 'callous', 'Small', 'thrives', 'Restoration', 'ethics', 'asks', 'primary', 'unsolvable', 'recruiting', 'treating', 'reorganize', 'overbalance', 'engaging', 'helped', 'output', 'realistically', 'tragedy', 'foreclosure', 'drastically', 'unifying', 'uneconomical', 'planning', 'talking', 'detailed', 'outgo', 'spare', 'basic', 'guides', 'narrowly', 'nationalistic', 'interdependence', 'pioneer', 'neighbor', 'agreements', 'pledging', 'evoked', 'dedicated', 'image', 'superbly', 'stress', 'undelayed', 'courses', 'befit', 'warm', 'rounded', 'drive', 'profaned', 'stagnation', 'Instinctively', 'baffled', 'bewildered', 'controls', 'ruthless', 'blindly', 'innate', 'disasters', 'epidemics', 'centuries', 'fatalistic', 'hurricanes', 'discovering', 'chapter', 'book', 'Constitutional', 'chaos', 'objectives', 'belied', 'historic', 'holiday', 'Nearly', 'intricacies', 'lodging', 'autocratic', 'legend', 'shattered', 'challenged', 'beaten', 'patchwork', 'job', 'secondhand', 'relearned', 'untruths', 'economics', 'practicality', 'pays', 'divides', 'fashioning', 'unimagined', 'morally', 'worldly', 'elementary', 'decencies', 'formerly', 'condoned', 'Hard', 'headedness', 'hardheartedness', 'rediscovered', 'ahead', 'Comfort', 'says', 'Tarry', 'Opportunism', 'Timidity', 'Vitality', 'Courage', 'Mental', 'horizons', 'gains', 'Advance', 'goad', 'Dulled', 'irresponsibility', 'reappear', 'symptoms', 'portents', 'Prosperity', 'tests', 'persistence', 'fourth', '1933', 'translated', 'spreading', 'level', 'subsistence', 'tens', 'incomes', 'pall', 'hangs', 'labeled', 'polite', 'productiveness', 'third', 'clad', 'nourished', 'proposes', 'superfluous', 'aught', 'Overwhelmingly', 'trustees', 'uncorrupted', 'cancers', 'reconsecrate', 'suddenly', 'individualists', 'sit', 'weld', 'happenings', 'rediscover', 'inaction', 'Lives', 'score', 'mystical', 'unexplained', 'surging', 'wave', 'ebbing', 'Eight', 'decisively', 'function', 'Bill', 'Rights', 'Prophets', 'downfall', 'dire', 'Democracy', 'unhampered', 'enlists', 'infinite', 'invigorated', 'rested', 'understands', 'narrowing', 'hit', 'mostly', 'aspiration', 'permeated', 'Magna', 'Charta', 'Americas', 'impact', 'irresistible', 'tongues', 'Mayflower', 'Compact', 'Gettysburg', 'Address', 'longings', 'sprang', 'stature', 'clarity', 'undeserved', 'clothe', 'feed', 'instruct', 'inform', 'killed', 'constricted', 'perished', 'unnoticed', 'Capital', '48', 'counties', 'towns', 'villages', 'enslaved', 'story', 'prophecy', '1941', 'smothered', 'strove', 'valiantly', 'triumphantly', 'faintness', 'schoolmaster', 'Dr', 'Peabody', 'untroubled', 'Things', 'smoothly', 'downward', 'trend', 'peaks', 'colors', '1945', 'ostriches', 'dogs', 'manger', 'Emerson', 'stout', 'blows', 'anguished', 'challenges', 'brutal', 'attacks', 'frightful', 'arrived', 'equals', 'regime', 'adheres', 'purports', 'Misled', 'deceit', 'communism', 'Communism', 'inalienable', 'chattel', 'People', 'Communist', 'hostilities', 'weapon', 'Almost', 'company', '16', 'cooperative', 'invigorate', 'forefront', 'defeatism', 'losing', 'Hundreds', 'partners', 'survival', 'emphasize', 'unfaltering', 'Second', 'programs', 'Economic', 'Third', 'Charter', 'pact', 'Rio', 'de', 'Janeiro', 'participating', 'equipment', 'Fourth', 'embark', 'underdeveloped', 'areas', 'misery', 'victims', 'primitive', 'stagnant', 'handicap', 'pre', 'techniques', 'imponderable', 'technical', 'store', 'needing', 'clothing', 'housing', 'mechanical', 'pool', 'technological', 'welcomed', 'specialized', 'worldwide', 'developments', 'Guarantees', 'investor', 'envisage', 'concepts', 'Greater', 'vitalizing', 'oppressors', 'hunger', 'Slowly', 'weaving', 'propaganda', 'Events', 'surpass', 'Steadfast', 'begin', 'uttering', 'bow', 'beseeching', 'Thou', 'Give', 'Thy', 'Amen', 'midway', 'massed', 'swearing', 'testimony', 'Masses', 'bloodiest', 'Thrones', 'toppled', 'empires', 'recurring', 'summit', 'unmatched', 'Seeking', 'Argonne', 'Iwo', 'Jima', 'cold', 'Korea', 'rush', 'quest', 'beseech', 'scan', 'signs', 'wit', 'pilgrimage', 'nearing', 'night', 'closing', 'preoccupations', 'absorbing', 'livelihood', 'surpasses', 'brightest', 'sharpest', 'Oceans', 'colossal', 'Disease', 'imperiled', 'amass', 'sweats', 'Science', 'erase', 'planet', 'deathless', 'furnaces', 'ledgers', 'lathes', 'pick', 'heal', 'sick', 'corn', 'profitably', 'draft', 'legislators', 'asserts', 'productivity', 'warns', 'brothers', 'betrays', 'turbulence', 'precepts', 'documents', 'god', 'tutor', 'defies', 'slightly', 'philosophies', 'strikes', 'churches', 'magic', 'pitted', 'lightness', 'binds', 'grower', 'rice', 'Burma', 'planter', 'wheat', 'Iowa', 'shepherd', 'Italy', 'mountaineer', 'Andes', 'dies', 'Indo', 'Malaya', 'solitude', 'surpluses', 'applies', 'intensity', 'truculence', 'spasmodic', 'helpless', 'stanch', '1', 'Abhorring', 'balk', 'deter', 'preying', 'aimed', 'logically', '2', 'decency', 'appeasement', 'placate', 'aggressor', 'bargain', 'pack', 'prisoner', '3', 'Knowing', 'Honoring', 'impress', 'Assessing', 'capacities', '6', 'Recognizing', 'impoverishment', '7', 'Appreciating', 'combine', 'regional', 'groupings', 'enthusiastically', 'unitedly', 'marshals', 'cultural', '8', 'Conceiving', 'indivisible', 'insinuation', 'expendable', '9', 'sign', 'symbol', 'tire', 'entrust', 'proficiency', 'stamina', 'loses', 'abstractions', 'generate', 'define', 'Patriotism', 'equipped', 'citizenry', 'Moral', 'Love', 'scientists', 'plays', 'role', 'enrichment', 'winning', 'preach', 'deed', 'compassion', 'signifies', 'stilling', 'easing', 'haven', 'beckons', 'bravery', 'Price', 'Chairman', 'Speaker', 'testifying', 'fashion', 'deepest', 'abound', 'crowds', 'rails', 'skies', 'rings', 'song', 'rolling', 'mills', 'blast', 'dynamos', 'dams', 'bountiful', 'deserts', 'Africa', 'grinding', 'Across', 'billion', 'desperation', 'skills', 'escapes', 'Germany', 'tragically', 'divisive', 'strives', 'capture', 'exploit', 'hungry', 'fierce', 'readiness', 'bondage', 'struck', 'sharp', 'thrust', 'lightning', 'Budapest', 'shining', 'yearning', 'harshly', 'blow', 'backs', 'weapons', 'tense', 'unstable', 'invoked', 'comprehending', 'Splendid', 'knows', 'spark', 'flames', 'involvement', 'Middle', 'cultures', 'sharing', 'impossibility', 'fortress', 'lone', 'shelter', 'prison', 'rightness', 'stranger', 'Everywhere', 'seeds', 'fired', 'longing', 'needy', 'Sovereignty', 'bartered', 'captive', 'warmth', 'tormented', 'Russia', 'fuller', 'trembling', 'shoulders', 'brightly', 'Johnson', 'Eisenhower', 'Nixon', 'Truman', 'reverend', 'clergy', 'celebration', 'symbolizing', 'signifying', 'forebears', 'l', 'beliefs', 'torch', 'undoing', 'hardship', 'origins', 'odds', 'split', 'replaced', 'foolishly', 'riding', 'tiger', 'ended', 'inside', 'huts', 'Communists', 'casting', 'prey', 'subversion', 'outpaced', 'invective', 'writ', 'unleashed', 'engulf', 'planned', 'accidental', 'overburdened', 'deadly', 'atom', 'racing', 'uncertain', 'stays', 'civility', 'negotiate', 'explore', 'belaboring', 'formulate', 'wonders', 'terrors', 'Together', 'conquer', 'eradicate', 'tap', 'corners', 'Isaiah', 'undo', '...', 'beachhead', 'push', 'graves', 'trumpet', 'embattled', 'twilight', 'tribulation', 'forge', 'global', 'glow', 'decides', 'rocket', 'moves', 'Mars', 'reminds', 'm', 'span', 'secrets', 'placing', 'mastery', 'shaking', 'uprooting', 'Covenant', 'exile', 'frightened', 'Conceived', 'flourish', 'Change', 'hopeless', 'harvest', 'healing', 'miracles', 'unattended', '30', 'vigilantly', 'saying', 'tower', 'surroundings', 'prideful', 'Terrific', 'spilled', 'barely', 'heading', 'hanging', 'stuck', 'passengers', 'dot', 'companions', 'incredible', 'fragile', 'wilderness', 'Two', 'capitalist', 'worker', 'clerk', 'countryside', 'shoulder', 'learns', 'candle', 'brightens', 'reopen', 'rekindle', 'hatreds', 'transform', 'scar', 'Belief', 'changeless', 'battalion', 'ants', 'probing', 'falling', 'tears', 'harshest', 'Underneath', 'clamor', 'someday', 'awaited', 'imagine', 'uncrossed', 'desert', 'unclimbed', 'sleeping', 'unplowed', 'Farewell', 'bend', 'winding', 'sorrowful', 'November', '1963', 'Senator', 'Dirksen', 'Humphrey', 'fleeting', 'unique', 'decades', 'Forces', 'converging', 'spiraling', '200th', 'millennium', 'choices', 'peacemaker', 'onto', 'dawn', 'mastered', 'strides', 'broadly', 'passionately', 'strengths', 'Franklin', 'Delano', 'Roosevelt', 'ravaged', 'gripped', 'surveying', 'ragged', 'moon', 'raucous', 'caught', 'empty', 'waiting', 'Greatness', 'trappings', 'inflated', 'rhetoric', 'angry', 'fans', 'bombastic', 'postures', 'persuading', 'shouting', 'quiet', 'anguish', 'despaired', 'catch', 'goals', 'rebuilding', 'rural', 'enhancing', 'pres', 'urgently', 'asleep', 'match', 'enlisted', 'importantly', 'headlines', 'newspaper', 'journal', 'cathedral', 'reaches', 'caring', 'uninspiring', 'adventure', 'exciting', 'shares', 'ensure', 'confrontation', 'adversaries', 'enriching', 'worlds', 'tempted', 'Over', 'freshman', 'Congressman', 'visited', 'prolonged', 'homeless', 'grief', 'son', 'ideology', 'message', 'wings', '\";', 'weeks', 'Apollo', 'astronauts', 'flew', 'gray', 'Christmas', 'Eve', 'lunar', 'poet', 'Archibald', 'MacLeish', 'blue', 'riders', 'loveliness', 'perspective', 'divisible', 'telling', 'cosmos', 'dimness', 'rays', 'curse', 'chalice', 'gladness', 'steadfast', 'Cook', 'Mrs', 'bleak', 'seemingly', 'endless', 'postwar', 'revitalize', 'friendships', 'missions', 'Peking', 'Moscow', 'initiatives', '1972', 'II', 'flimsy', 'interlude', 'nuclear', 'walls', 'bridges', 'cleaner', 'livable', 'shift', 'condescending', 'responsibly', 'locate', 'frustration', 'erode', 'shirking', 'longest', 'parents', 'creativity', 'steadfastness', 'embarking', 'hallowed', 'birthday', 'beacon', 'striving', 'outward', 'attest', 'inner', 'teacher', 'Miss', 'Julia', 'Coleman', 'unchanging', 'timeless', 'prophet', 'Micah', 'hath', 'O', 'milestone', 'spirituality', 'exceptional', 'exemplify', 'laugh', 'endures', 'resurgent', 'despise', 'magnificently', 'prize', 'grasp', 'drift', 'mediocrity', 'compassionate', 'persecute', 'boldness', 'emulation', 'earns', 'politically', 'craving', 'sun', 'Tapping', 'arsenal', 'vulnerable', 'marshaled', 'idealistic', 'confuse', 'clearcut', 'intimidate', 'inhospitable', 'massive', 'perseverance', 'elimination', 'purposeful', 'rekindling', 'basi', 'ensured', 'affirmation', 'Hatfield', 'Bush', 'Mondale', 'Baker', 'Neill', 'Reverend', 'Moomaw', 'commonplace', 'occurrence', 'routinely', 'continuity', 'affliction', 'proportions', 'distorts', 'penalizes', 'crushes', 'elderly', 'shatter', 'Idle', 'workers', 'causing', 'indignity', 'spending', 'mortgaging', 'guarantee', 'borrowing', 'bastion', 'elite', 'someone', 'solutions', 'singled', 'ethnic', 'crosses', 'patrol', 'streets', 'professionals', 'industrialists', 'shopkeepers', 'clerks', 'cabbies', 'truckdrivers', 'breed', 'provides', 'Putting', 'Ending', 'inflation', 'freeing', 'runaway', 'core', 'inventory', 'curb', 'ride', 'smother', 'proportionate', 'loomed', 'don', 'handful', 'entrepreneurs', 'jobs', 'makeup', 'confronting', 'yes', 'paraphrase', 'Winston', 'Churchill', 'roadblocks', 'slowed', 'Steps', 'inches', 'miles', 'reawaken', 'punitive', 'priorities', 'Founding', 'Fathers', 'Joseph', 'Warren', 'Massachusetts', '....', 'exemplar', 'misunderstood', 'misjudged', 'terrorism', 'meetings', 'Inauguration', 'Day', 'Front', 'vista', 'mall', 'shrines', 'giants', 'Directly', 'monument', 'monumental', 'George', 'nationhood', 'Off', 'stately', 'memorial', 'Thomas', 'eloquence', 'Reflecting', 'Pool', 'columns', 'Memorial', 'heroism', 'Potomac', 'sloping', 'Arlington', 'Cemetery', 'row', 'markers', 'Stars', 'David', 'tiny', 'fraction', 'hero', 'Belleau', 'Wood', 'Omaha', 'Beach', 'Salerno', 'halfway', 'Guadalcanal', 'Tarawa', 'Pork', 'Chop', 'Hill', 'Chosin', 'Reservoir', 'paddies', 'jungles', 'Vietnam', 'marker', 'barber', '1917', 'famed', 'Rainbow', 'battalions', 'diary', 'flyleaf', 'Pledge', 'depended', 'Martin', 'Treptow', 'shouldn', 'Mathias', 'Burger', 'Dole', 'Clergy', 'brighter', 'John', 'Stennis', 'Representative', 'Gillis', 'Moment', '.)', '50th', 'horseback', 'untamed', '13', '60', 'cry', 'journeyed', 'Moon', 'Voices', 'backward', 'yielded', 'belonged', 'rob', 'machine', '1980', 'Tax', 'dramatically', 'vibrant', 'climb', 'll', 'restated', 'grip', 'meaningful', 'technologies', 'totalitarian', 'sunlight', 'poised', 'reborn', 'Boston', 'lawyer', 'Adams', 'Hall', 'dared', 'rivals', '1800', 'retired', 'softened', 'anger', 'reestablished', '1826', 'sunset', 'wrote', 'Laboring', 'oar', 'rode', 'intentioned', 'sending', 'futile', 'bloated', 'Establishment', 'prescription', 'reelected', '1984', 'vindicated', '25', 'straight', 'incentives', 'unleash', 'entrepreneurial', 'simplify', 'music', 'poetry', 'dynamic', 'tool', 'budget', 'deficits', 'reckoning', 'staff', 'freezing', 'started', 'handled', 'upgrade', 'infirm', 'disadvantaged', 'cared', 'installed', 'heartening', 'scorn', 'Soviet', 'buildup', 'awesome', 'capability', 'wavering', 'discussing', 'Soviets', 'retaliate', 'kill', 'killing', 'missiles', 'target', 'wouldn', 'militarize', 'demilitarize', 'obsolete', 'hoping', 'rid', 'heartened', 'democracies', 'fourfold', 'staunchest', 'lit', 'transcends', 'ribbon', 'unfurling', 'hadn', 'gotten', 'echoes', 'knees', 'snow', 'Valley', 'Forge', 'lonely', 'paces', 'ponders', 'Alamo', 'settler', 'pushes', 'sings', 'fills', 'unknowing', 'hearted', 'daring', 'sing', 'Quayle', 'Mitchell', 'Wright', 'Michael', 'Reagan', '200', 'Bicentennial', 'gladdened', 'concrete', 'stunning', 'porch', 'suspended', 'Heavenly', 'Accept', 'yields', 'Make', 'Use', 'Help', 'breeze', 'blowing', 'blown', 'lifeless', 'tree', 'thick', 'fog', 'mists', 'reveal', 'invent', 'saint', 'crucial', 'loudly', 'enthralled', 'appreciative', 'bigger', 'car', 'stayed', 'quieter', 'silk', 'finer', 'kinder', 'gentler', 'roaming', 'enslavement', 'addiction', 'drugs', 'demoralization', 'slums', 'rough', 'choosing', 'wallet', 'allocating', 'engagement', 'activism', 'gets', 'harnessing', 'unfocused', 'stewardship', 'organizations', 'rewarding', 'White', 'pitching', 'thrashed', 'fiscally', 'dissension', 'divisiveness', 'untrusting', 'cleaves', 'sundered', 'bipartisanship', 'Majority', 'Leader', 'clocks', 'water', 'edge', 'didn', 'bicker', 'vow', 'reluctant', 'fist', 'unaccounted', 'Assistance', 'spiral', 'endlessly', 'marble', 'compliment', 'subtlety', 'understandable', 'salute', 'hymns', 'continuum', 'inescapably', 'kite', 'prince', 'pope', 'window', 'yearn', 'goingness', 'attitudes', 'cocaine', 'smuggled', 'bacteria', 'hurt', 'flaws', 'drama', 'trumpets', 'pages', 'hopefulness', 'unfolds', 'Thank', 'mystery', 'depth', 'winter', 'reinvent', 'fascism', 'Cold', 'warmed', 'sunshine', 'plagues', 'Raised', 'unrivalled', 'inherit', 'inequality', 'news', 'travelled', 'boat', 'sights', 'sounds', 'broadcast', 'instantaneously', 'tobillions', 'Communications', 'Investment', 'mobile', 'Technology', 'magical', 'Profound', 'remaking', 'harder', 'devastates', 'bankrupt', 'robs', 'drifted', 'drifting', 'eroded', 'fractured', 'fearsome', 'restless', 'questing', 'Depression', 'mustered', 'construct', 'dramatic', 'envy', 'deadlock', 'invest', 'sleep', 'Posterity', 'borrowed', 'expecting', 'capitol', 'maneuver', 'worry', 'paves', 'persistent', 'experimentation', 'tomorrows', 'yesterdays', 'AIDS', 'passes', 'Clearly', 'rebuilds', 'defied', 'Persian', 'Somalia', 'testament', 'congress', 'presidency', 'Yes', 'WE', 'ALL', 'president', 'THIS', 'YOUNG', 'reconnecting', 'Enough', 'rededicate', 'ennobled', 'myriad', 'infused', '21st', 'Century', 'Scripture', 'reap', 'faint', 'joyful', 'mountaintop', 'presidential', 'Guided', '18th', '19th', 'exploded', 'mightiest', 'longed', 'Along', 'explored', 'heavens', 'computer', 'microchip', 'deepened', 'wellspring', 'harness', 'Industrial', 'Information', 'Age', 'vowed', 'exhilarated', 'Once', 'thriving', 'educational', 'Problems', 'deepen', 'flexible', 'tools', 'hiring', 'rolls', 'shuttered', 'windows', 'reclaim', 'gangs', 'targets', 'Prejudice', 'cloaked', 'fuel', 'fanaticism', 'torment', 'obsessions', 'cripple', 'robbing', 'succumb', 'impulses', 'texture', 'Godsend', 'Internet', 'physicists', 'encyclopedia', 'schoolchildren', 'Scientists', 'decoding', 'blueprint', 'Cures', 'illnesses', 'camps', 'Growing', 'connections', 'dictatorship', 'stained', 'legacy', 'resounding', 'prized', 'igniting', 'classroom', 'library', 'Parents', 'kitchen', 'college', 'echo', 'laughter', 'shoot', 'anymore', 'Everyone', 'medicine', 'hardworking', 'chemical', 'biological', 'Ports', 'airports', 'meets', 'grandparents', 'grandchildren', 'fortifies', 'louder', 'realizing', 'Thirty', 'Mall', 'Luther', 'King', 'Dream', 'ceaseless', 'redeem', 'bickering', 'deplore', 'repairers', 'breach', 'Cardinal', 'Bernardin', 'acrimony', 'bridge', 'Clinton', 'guests', 'Gore', 'grace', 'humbled', 'flawed', 'fallible', 'grandest', 'insignificant', 'halted', 'raging', 'seed', 'wind', 'root', 'inborn', '225', 'hidden', 'backgrounds', 'immigrant', 'matches', 'forgiveness', 'stakes', 'debates', 'Civility', 'tactic', 'cynicism', 'courageous', 'apathy', 'Security', 'Medicare', 'sparing', 'momentum', 'favors', 'arrogance', 'Abandonment', 'proliferation', 'prisons', 'hurts', 'mentor', 'pastor', 'synagogue', 'mosque', 'traveler', 'Jericho', 'Encouraging', 'scapegoats', 'options', 'uncounted', 'unhonored', 'missing', 'statesman', 'Page', 'rides', 'whirlwind', 'directs', 'accumulate', 'themes', 'eternity', 'tiring', 'finishing', 'Cheney', 'Carter', 'consequential', 'shipwreck', 'sabbatical', '¡', 'Xand', 'vulnerability', 'simmer', 'resentment', 'Xprone', 'ideologies', 'murder', 'Xviolence', 'multiply', 'tyrants', '¡¦', 'Advancing', 'ending', 'style', 'threats', 'eternally', 'pretend', 'jailed', 'dissidents', 'humiliation', 'aspires', 'bullies', 'grudging', 'dictators', 'dissent', 'Xthough', 'swiftest', 'odd', 'surprised', 'Eventually', 'hopelessness', 'ignore', 'reformers', 'repression', 'outlaw', 'regimes', '¡§', '.¡¨', 'Start', 'concerted', 'prelude', 'liberating', 'kindles', 'Xa', 'burns', 'darkest', 'hardest', 'Xin', 'K', 'deaths', 'youngest', 'yourself', 'Xthe', 'unfinished', 'motivated', 'Homestead', 'G', 'widen', 'businesses', 'insurance', 'Xpreparing', 'Xon', 'relies', 'edifice', 'Sinai', 'Sermon', 'Mount', 'Koran', 'reaffirming', 'Xideals', 'unwanted', 'racism', 'baggage', 'viewpoint', 'Did', 'background', 'healed', 'eventual', 'runs', 'wheels', 'inevitability', 'Founders', '¡¨¡', 'Xthey', 'ebb', 'Bell', 'rang', 'proclaims', 'Renewed', 'Xtested', 'Xwe', 'tides', 'storms', 'forbearers', 'network', 'badly', 'greed', 'Homes', 'indicators', 'data', 'measurable', 'sapping', 'nagging', 'grievances', 'recriminations', 'dogmas', 'strangled', 'childish', 'shortcuts', 'leisure', 'pleasures', 'takers', 'doers', 'makers', 'rugged', 'towards', 'packed', 'toiled', 'sweatshops', 'whip', 'plowed', 'Concord', 'Normandy', 'Khe', 'Sahn', 'struggled', 'pat', 'unpleasant', 'Starting', 'dust', 'grids', 'digital', 'wield', 'technology', 'cars', 'imagination', 'cynics', 'shifted', 'stale', 'helps', 'dollars', 'spin', 'Gross', 'Domestic', 'Product', 'expedience', 'village', 'Recall', 'tanks', 'please', 'emanates', 'justness', 'tempering', 'keepers', 'Iraq', 'Afghanistan', 'tirelessly', 'roll', 'specter', 'warming', 'apologize', 'waver', 'inducing', 'slaughtering', 'innocents', 'outlast', 'Muslims', 'Jews', 'Hindus', 'tasted', 'swill', 'segregation', 'ushering', 'Muslim', 'sow', 'blame', 'silencing', 'unclench', 'alongside', 'nourish', 'starved', 'whisper', 'guardians', 'levees', 'selflessness', 'firefighter', 'stairway', 'smoke', 'grudgingly', 'restaurant', 'coldest', 'huddled', 'campfires', 'icy', 'outcome', 'horizon', 'Biden', 'Members', 'skin', 'tenets', 'exceptionalâ', '\\x80\\x94', 'Americanâ', 'articulated', 've', 'mob', 'entrusting', 'train', 'hazards', 'misfortune', 'relinquished', 'skepticism', 'succumbed', 'constants', 'responses', 'freedoms', 'muskets', 'militias', 'math', 'teachers', 'equip', 'networks', 'labs', 'steeled', 'resilience', 'decade', 'reinvention', 'itâ', 'bleakest', 'anybody', 'remake', 'revamp', 'Code', 'empower', 'investing', 'disability', 'lucky', 'illness', 'Medicaid', 'devastating', 'crippling', 'drought', 'sustainable', 'cede', 'treasureâ', 'crop', 'capped', 'seared', 'friendsâ', 'peacefullyâ', 'naive', 'durably', 'marginalized', 'prejudiceâ', 'describes', 'truthsâ', 'equalâ', 'Seneca', 'Falls', 'Selma', 'Stonewall', 'sung', 'unsung', 'footprints', 'preacher', 'inextricably', 'pioneers', 'daughters', 'gay', 'sisters', 'lawâ', 'opportunityâ', 'students', 'workforce', 'expelled', 'Detroit', 'Appalachia', 'lanes', 'Newtown', 'taskâ', 'contour', 'absolutism', 'reasoned', '40', '400', 'Philadelphia', 'hall', 'realizes', 'waves', 'timeâ', 'Roberts', 'Obama', 'rebuild', 'hardships', 'Lady', 'Michelle', 'transferring', 'DC', 'reaped', 'Politicians', 'starting', '2017', 'listening', 'likes', 'neighborhoods', 'Mothers', 'trapped', 'rusted', 'tombstones', 'landscape', 'flush', 'stolen', 'robbed', 'unrealized', 'carnage', 'stops', 'subsidized', 'allowing', 'sad', 'depletion', 'trillions', 'overseas', 'infrastructure', 'disrepair', 'ripped', 'redistributed', 'issuing', 'ravages', 'stealing', 'Protection', 'tunnels', 'Buy', 'hire', 'shine', 'exampleâ', 'shineâ', 'reinforce', 'Islamic', 'bedrock', 'disagreements', 'solidarity', 'unstoppable', 'politicians', 'complaining', 'arrives', 'mysteries', 'Black', 'Brown', 'bleed', 'red', 'urban', 'sprawl', 'windswept', 'almighty', 'ignored', 'Harris', 'Pelosi', 'Schumer', 'McConnell', 'Pence', 'crucible', 'peopleâ', 'heeded', 'shake', 'uniquely', 'wayâ', 'optimisticâ', 'bottom', 'urgency', 'Few', 'challenging', 'virus', 'silently', 'stalks', 'Millions', 'hundreds', 'extremism', 'challengesâ', 'Americaâ', 'elusive', 'Unity', 'Year', '1863', 'Emancipation', 'Proclamation', 'pen', 'uniting', 'joblessness', 'fantasy', 'ugly', 'nativism', 'demonization', 'perennial', '/', '11', 'setbacks', 'usâ', 'temperature', 'Politics', 'doesn', 'disagreement', 'manipulated', 'dome', 'literally', '108', 'Inaugural', 'protesters', 'block', 'marching', 'Kamala', 'Don', 'riotous', 'everâ', 'Hear', 'guardrails', 'Disagreement', 'Americansâ', 'Saint', 'Augustine', 'loveâ', 'leadersâ', 'Nationâ', 'trepidation', 'dad', 'bed', 'staring', 'ceiling', 'wondering', 'mortgage', 'Thinking', 'inward', 'distrusting', 'uncivil', 'pits', 'versus', 'hardening', 'shoes', 'mom', 'Stand', 'accounting', 'toughest', 'deadliest', 'pandemic', 'Weeping', 'morning', 'togetherâ', 'folks', 'colleagues', 'partner', 'd', 'moms', 'dads', 'husbands', 'coworkers', '.]', 'Folks', 'testing', 'inequity', 'sting', 'systemic', 'cascading', 'Anthem', 'verse', 'addâ', 'youâ', 'thrived', 'forebearers'])"
      ]
     },
     "execution_count": 53,
     "metadata": {},
     "output_type": "execute_result"
    }
   ],
   "source": [
    "wtoken4 = fd4.keys()\n",
    "wtoken4"
   ]
  },
  {
   "cell_type": "markdown",
   "id": "166c56b8",
   "metadata": {},
   "source": [
    "#### Access FreqDist of Any Token Type"
   ]
  },
  {
   "cell_type": "markdown",
   "id": "ebb33ede",
   "metadata": {},
   "source": [
    "To get the frequency distribution of any Token Types, simply use the list item access method will do. \n",
    "Below shows the FD value of Token Type \"the\"."
   ]
  },
  {
   "cell_type": "code",
   "execution_count": 54,
   "id": "a7d3796e",
   "metadata": {},
   "outputs": [
    {
     "data": {
      "text/plain": [
       "9555"
      ]
     },
     "execution_count": 54,
     "metadata": {},
     "output_type": "execute_result"
    }
   ],
   "source": [
    "fd4['the']"
   ]
  },
  {
   "cell_type": "markdown",
   "id": "0a2d1cce",
   "metadata": {},
   "source": [
    "<img src=\"./note.png\" width = \"\" height = \"\" alt=\"note\" align=left />\n",
    "\n",
    "What is the FIVE commonly used Word Types (Token types without punctuations) in ANY text document?\n",
    "1. Spend FIVE minutes to make some suggestions. \n",
    "2. Use the FreqDist() to check for it. "
   ]
  },
  {
   "cell_type": "markdown",
   "id": "339646c0",
   "metadata": {},
   "source": [
    "#### Frequency Distribution Plot from NLTK"
   ]
  },
  {
   "cell_type": "markdown",
   "id": "6b355040",
   "metadata": {},
   "source": [
    "Together with FreqDist() method, NLTK provides a useful tool for us to study the top frequency distribution Token Types for any documment under investigation by using plot() function. \n",
    "FreqDist.plot() provides a powerful mean to plot the top XX most frequently used Token Types inside a text document. \n",
    "1. Using fd3 as example. First check out the documentation of FreqDist.plot() by using fd3.plot().\n",
    "2. Plot the Top 30 most frequently used Token Types in Book of Gensis (Non-Cumlative mode).\n",
    "3. Do the same plot in Cumlative mode. "
   ]
  },
  {
   "cell_type": "code",
   "execution_count": 55,
   "id": "758e67a3",
   "metadata": {},
   "outputs": [],
   "source": [
    "fd4.plot?"
   ]
  },
  {
   "cell_type": "code",
   "execution_count": 56,
   "id": "5f8efdb0",
   "metadata": {},
   "outputs": [
    {
     "data": {
      "image/png": "[encoded data removed]",
      "text/plain": [
       "<Figure size 432x288 with 1 Axes>"
      ]
     },
     "metadata": {
      "needs_background": "light"
     },
     "output_type": "display_data"
    },
    {
     "data": {
      "text/plain": [
       "<AxesSubplot:xlabel='Samples', ylabel='Counts'>"
      ]
     },
     "execution_count": 56,
     "metadata": {},
     "output_type": "execute_result"
    }
   ],
   "source": [
    "fd4.plot(30,cumulative=False)"
   ]
  },
  {
   "cell_type": "code",
   "execution_count": 57,
   "id": "687b7260",
   "metadata": {},
   "outputs": [
    {
     "data": {
      "image/png": "[encoded data removed]",
      "text/plain": [
       "<Figure size 432x288 with 1 Axes>"
      ]
     },
     "metadata": {
      "needs_background": "light"
     },
     "output_type": "display_data"
    },
    {
     "data": {
      "text/plain": [
       "<AxesSubplot:xlabel='Samples', ylabel='Cumulative Counts'>"
      ]
     },
     "execution_count": 57,
     "metadata": {},
     "output_type": "execute_result"
    }
   ],
   "source": [
    "fd4.plot(30,cumulative=True)"
   ]
  },
  {
   "cell_type": "markdown",
   "id": "0f5d6019",
   "metadata": {},
   "source": [
    "<img src=\"./workshop.png\" width = \"\" height = \"\" alt=\"note\" align=left />\n",
    "\n",
    "### Workshop 10.5 Frequency Distribution for Different Literatures \n",
    "1. Ignore the punctuation, what is the TOP 5 most commonly used Word Types in Book of Gensis? Is that what you guess?\n",
    "2. Will it be the same for other great literature as well?\n",
    "3. Check this against 1) Moby Dick 2) Sense and Sensibility and 3) Inaugural Address Corpus to see if they have the same patterns. Why or Why NOT?\n",
    "4. In fact,the study of commmonly used Word Types is very important not only in NLP, but also in Cryptography. What you know why?"
   ]
  },
  {
   "cell_type": "markdown",
   "id": "c63f59a5",
   "metadata": {},
   "source": [
    "### 10.9.2 Rare Words - Hapax\n",
    "\n",
    "\"Hapaxes\" are words that show up only once in a body of work, whether that's one publication or an entire language. \n",
    "\n",
    "The truth is: Ancient texts are full of hapaxes. For instance, in Shakespeare's work \"Love's Labour's Lost\" contains the hapax honorificabilitudinitatibus, which means \"able to achieve honors.\"\n",
    "\n",
    "In NLTK, it provides the method hapaxes() under FreqDist object to list out all the Word Types that only appeared once inside the text document. Most of them we almost neverly used. \n",
    "\n",
    "Try Adventures of Sherlock Holmes FreqDist(), you will see how useful this method is."
   ]
  },
  {
   "cell_type": "code",
   "execution_count": 58,
   "id": "57fb6844",
   "metadata": {},
   "outputs": [
    {
     "data": {
      "text/plain": [
       "<Text: ﻿The Adventures of Sherlock Holmes by Arthur Conan...>"
      ]
     },
     "execution_count": 58,
     "metadata": {},
     "output_type": "execute_result"
    }
   ],
   "source": [
    "tholmes"
   ]
  },
  {
   "cell_type": "code",
   "execution_count": 59,
   "id": "2f1c8c4d",
   "metadata": {},
   "outputs": [],
   "source": [
    "fd = FreqDist(tholmes)"
   ]
  },
  {
   "cell_type": "code",
   "execution_count": 60,
   "id": "bfe1c422",
   "metadata": {},
   "outputs": [
    {
     "data": {
      "text/plain": [
       "['Adventures',\n",
       " 'Conan',\n",
       " 'Doyle',\n",
       " 'Contents',\n",
       " 'Red-Headed',\n",
       " 'Case',\n",
       " 'Identity',\n",
       " 'Mystery',\n",
       " 'Orange',\n",
       " 'Pips',\n",
       " 'Twisted',\n",
       " 'Lip',\n",
       " 'Blue',\n",
       " 'Carbuncle',\n",
       " 'Speckled',\n",
       " 'Band',\n",
       " 'Engineer',\n",
       " 'Thumb',\n",
       " 'Noble',\n",
       " 'Bachelor',\n",
       " 'SCANDAL',\n",
       " 'BOHEMIA',\n",
       " 'eclipses',\n",
       " 'predominates',\n",
       " 'sex',\n",
       " 'emotions',\n",
       " 'abhorrent',\n",
       " 'balanced',\n",
       " 'softer',\n",
       " 'passions',\n",
       " 'gibe',\n",
       " 'observer—excellent',\n",
       " 'intrusions',\n",
       " 'finely',\n",
       " 'temperament',\n",
       " 'distracting',\n",
       " 'mental',\n",
       " 'Grit',\n",
       " 'sensitive',\n",
       " 'instrument',\n",
       " 'high-power',\n",
       " 'lenses',\n",
       " 'disturbing',\n",
       " 'dubious',\n",
       " 'home-centred',\n",
       " 'establishment',\n",
       " 'absorb',\n",
       " 'loathed',\n",
       " 'alternating']"
      ]
     },
     "execution_count": 60,
     "metadata": {},
     "output_type": "execute_result"
    }
   ],
   "source": [
    "hap = fd.hapaxes()\n",
    "hap[1:50]"
   ]
  },
  {
   "cell_type": "markdown",
   "id": "082064b9",
   "metadata": {},
   "source": [
    "<img src=\"./workshop.png\" width = \"\" height = \"\" alt=\"note\" align=left />\n",
    "\n",
    "### Workshop 10.6 Learn Vocabulary using Hapaxes \n",
    "As said, Hapaxes are the great way for us to learn some new voacabulary.Especially if is contain more than (says) 12 characters or so. Why is that?\n",
    "In the following example, we try to new vocabulary by using hapaxes() together with Python in-line function implementation [w for w in hap1 if len(w) > 12] . \n",
    "Take a look how it works and do the following:\n",
    "1. Run the Python script and extract all the vocabulary (longer than 12 characters) from Moby Dick. \n",
    "2. Select FIVE meaningful vocabulary and find out their meanings. \n",
    "3. Check for \"Adventures of Sherlock Holmes\" and learn FIVE other new vocabulary."
   ]
  },
  {
   "cell_type": "code",
   "execution_count": 61,
   "id": "eaff92d2",
   "metadata": {},
   "outputs": [
    {
     "data": {
      "text/plain": [
       "['observer—excellent',\n",
       " 'establishment',\n",
       " 'well-remembered',\n",
       " 'boot-slitting',\n",
       " 'Peculiar—that',\n",
       " 'Eglonitz—here',\n",
       " 'German-speaking',\n",
       " 'glass-factories',\n",
       " 'authoritative',\n",
       " 'double-breasted',\n",
       " 'Cassel-Felstein',\n",
       " 'staff-commander',\n",
       " 'Contralto—hum',\n",
       " 'indiscretion.',\n",
       " 'reproachfully',\n",
       " 'Saxe-Meningen',\n",
       " 'drunken-looking',\n",
       " 'side-whiskered',\n",
       " 'half-and-half',\n",
       " 'moustached—evidently',\n",
       " 'expostulating',\n",
       " 'arrangements.',\n",
       " 'co-operation.',\n",
       " 'unpleasantness',\n",
       " 'self-lighting',\n",
       " 'simple-minded',\n",
       " 'Nonconformist',\n",
       " 'ill—gentlemen',\n",
       " 'over-precipitance',\n",
       " 'fat-encircled',\n",
       " 'arc-and-compass',\n",
       " 'congratulated',\n",
       " 'advertisement—how',\n",
       " 'shabby-genteel',\n",
       " 'bright-looking',\n",
       " 'carriage-building',\n",
       " 'contemplative',\n",
       " 'improvisations',\n",
       " 'consequential',\n",
       " 'seven-and-twenty',\n",
       " 'communicative',\n",
       " 'earth-smelling',\n",
       " 'darkness—such',\n",
       " 'shoulder-high',\n",
       " 'cellar—something',\n",
       " 'cross-purposes',\n",
       " 'conventionalities',\n",
       " 'unprofitable.',\n",
       " 'neutral-tinted',\n",
       " 'good-humoured',\n",
       " 'Windibank—that',\n",
       " 'inconsequential',\n",
       " 'concentration',\n",
       " 'Sunday-school',\n",
       " 'wedding-morning',\n",
       " 'cloud-wreaths',\n",
       " 'suggestiveness',\n",
       " 'slate-coloured',\n",
       " 'sewing-machine',\n",
       " 'superscription',\n",
       " 'suggestive—in',\n",
       " 'sallow-skinned',\n",
       " 'corroboration',\n",
       " 'peculiarities',\n",
       " 'travelling-cloak',\n",
       " 'close-fitting',\n",
       " 'ex-Australian',\n",
       " 'race-meetings',\n",
       " 'police-court.',\n",
       " 'circumstantial',\n",
       " 'uncompromising',\n",
       " 'characterises',\n",
       " 'self-reproach',\n",
       " 'leather-leggings',\n",
       " 'complimentary',\n",
       " 'tender-hearted',\n",
       " 'disagreements',\n",
       " 'improbabilities',\n",
       " 'boarding-school',\n",
       " 'shooting-boots',\n",
       " 'neighbourhood.',\n",
       " 'laughing-stock',\n",
       " 'left-handedness.',\n",
       " 'forgetfulness',\n",
       " 'cross-indexing',\n",
       " 'two-and-twenty',\n",
       " 'quick-tempered',\n",
       " 'representative',\n",
       " 'disadvantages',\n",
       " 'green-scummed',\n",
       " 'reconstruction',\n",
       " 'cock-and-bull',\n",
       " 'London—eastern',\n",
       " 'elements—blown',\n",
       " 'encyclopædias',\n",
       " 'accomplishment',\n",
       " 'violin-player',\n",
       " 'self-poisoner',\n",
       " 'Encyclopædia_',\n",
       " 'probability—the',\n",
       " 'probability—is',\n",
       " 'determination',\n",
       " 'ex-Confederate',\n",
       " 'Police-Constable',\n",
       " 'landing-places',\n",
       " 'landing-stages.',\n",
       " 'dark-coloured',\n",
       " 'eight-and-forty',\n",
       " 'opium-smoking',\n",
       " 'over-pleasant',\n",
       " 'single-handed',\n",
       " 'well-nurtured',\n",
       " 'half-pennies—421',\n",
       " 'disappearance—are',\n",
       " 'difficulties.',\n",
       " 'investigation.',\n",
       " 'patience.—NEVILLE.',\n",
       " 'stone-flagged',\n",
       " 'refined-looking',\n",
       " 'smooth-skinned',\n",
       " 'jollification',\n",
       " 'official-looking',\n",
       " 'self-respect.',\n",
       " 'peace-offering',\n",
       " 'tallow-stains',\n",
       " 'scintillating',\n",
       " 'considerations',\n",
       " 'upper-attendant',\n",
       " 'vitriol-throwing',\n",
       " 'particularly.',\n",
       " 'white-aproned',\n",
       " 'horsey-looking',\n",
       " 'greasy-backed',\n",
       " 'half-frightened',\n",
       " 'interested—white',\n",
       " 'barred-tailed',\n",
       " 'all-comprehensive',\n",
       " 'two-hundred-year-old',\n",
       " 'Major-General',\n",
       " 'bramble-covered',\n",
       " 'horror-stricken',\n",
       " 'corridor-lamp',\n",
       " 'handkerchiefs',\n",
       " 'Armitage—Percy',\n",
       " 'imperturbably',\n",
       " 'Jack-in-office',\n",
       " 'lichen-blotched',\n",
       " 'unapproachable',\n",
       " 'country-houses',\n",
       " 'white-counterpaned',\n",
       " 'character—dummy',\n",
       " 'step-daughter',\n",
       " 'diamond-shaped',\n",
       " 'five-and-twenty',\n",
       " 'library-chair',\n",
       " 'considerably.',\n",
       " 'before-breakfast',\n",
       " 'consultations',\n",
       " 'qualifications',\n",
       " 'essential—absolute',\n",
       " 'eavesdroppers',\n",
       " 'Tired-looking',\n",
       " 'monosyllables',\n",
       " 'out-of-the-way',\n",
       " 'fellow-countryman',\n",
       " 'regurgitation',\n",
       " 'half-fainting',\n",
       " 'four-year-old',\n",
       " 'professional.',\n",
       " 'Under-Secretary',\n",
       " 'administration',\n",
       " 'consternation',\n",
       " 'indisposition',\n",
       " 'curly-brimmed',\n",
       " 'patent-leather',\n",
       " 'light-coloured',\n",
       " 'supplementing',\n",
       " 'impetuous—volcanic',\n",
       " 'self-sacrifice',\n",
       " 'dishonourable',\n",
       " 'common-looking',\n",
       " 'breakfast-room.',\n",
       " 'cross-questioning',\n",
       " 'Franco-Prussian',\n",
       " 'dissatisfied.',\n",
       " 'wedding-dress',\n",
       " 'disappearance.',\n",
       " 'lodging-house',\n",
       " 'unprecedented',\n",
       " 'wedding-clothes',\n",
       " 'claim-jumping—which',\n",
       " 'Northumberland',\n",
       " 'professionally',\n",
       " 'gesticulating',\n",
       " 'responsibility',\n",
       " 'maid-servants',\n",
       " 'four-and-twenty.',\n",
       " 'carriage-sweep',\n",
       " 'indicated—that',\n",
       " 'dressing-table.',\n",
       " 'wooden-legged',\n",
       " 'indistinguishable',\n",
       " 'life-preserver',\n",
       " 'manifestations',\n",
       " 'boarding-schools',\n",
       " 'advertisements',\n",
       " 'sweating—rank',\n",
       " 'country-house.',\n",
       " 'consideration.',\n",
       " 'philanthropist',\n",
       " 'farm-steadings',\n",
       " 'ill-treatment',\n",
       " 'uncomfortable',\n",
       " 'disproportionately',\n",
       " 'electric-blue',\n",
       " 'impossibility',\n",
       " 'insensibility',\n",
       " 'hers—possibly',\n",
       " 'Redistribution',\n",
       " 'redistribution',\n",
       " 'www.gutenberg.org/license',\n",
       " 'Redistributing',\n",
       " 'trademark/copyright',\n",
       " 'representations',\n",
       " 'redistributing',\n",
       " 'nonproprietary',\n",
       " 'transcription',\n",
       " 'CONSEQUENTIAL',\n",
       " 'opportunities',\n",
       " 'MERCHANTABILITY',\n",
       " 'unenforceability',\n",
       " \"Gutenberg-tm's\",\n",
       " 'identification',\n",
       " 'Contributions',\n",
       " 'www.gutenberg.org/contact',\n",
       " 'machine-readable',\n",
       " 'contributions',\n",
       " 'International']"
      ]
     },
     "execution_count": 61,
     "metadata": {},
     "output_type": "execute_result"
    }
   ],
   "source": [
    "# Workshop 4.6 Solutions\n",
    "\n",
    "voc12 = [w for w in hap if len(w) > 12]\n",
    "voc12"
   ]
  },
  {
   "cell_type": "markdown",
   "id": "da538ddc",
   "metadata": {},
   "source": [
    "### 10.9.3 Collocations\n",
    "#### What is Collocations?\n",
    "\n",
    "A \"collocation\" is a familiar grouping of words, especially words that habitually appear together and thereby convey meaning by association. \n",
    "\n",
    "The word \"Collocation\" is came from the Latin for \"place together\" and was first used in its linguistic sense by British linguist John Rupert Firth (1890-1960), who famously observed, \"You shall know a word by the company it keeps.\" \n",
    "\n",
    "Think of collocations as words that usually go together. \n",
    "\n",
    "There are different kinds of collocations in English. Strong collocations are word pairings that are expected to come together, such as combinations with 'make' and 'do': You make a cup of tea, but you do your homework. \n",
    "\n",
    "Collocations are very common in business settings when certain nouns are routinely combined with certain verbs or adjectives. \n",
    "\n",
    "For example, draw up a contract, set a price, conduct negotiations, etc.\n",
    "\n",
    "#### Collocations in NLTK\n",
    "\n",
    "Collocations in NLTK are phrases or expressions containing multiple words, that are highly likely to co-occur. \n",
    "For example: social-media, school-holiday, machine-learning, Universal-Studios-US, etc.\n",
    "\n",
    "The following example try to generate collocations lists from Moby Dick, Sense and Sensibility, Book of Gensis and Inaugural Address Corpus. \n",
    "Let's take a look what are the collocation terms they extracted. "
   ]
  },
  {
   "cell_type": "code",
   "execution_count": 62,
   "id": "c289c4ab",
   "metadata": {},
   "outputs": [
    {
     "name": "stdout",
     "output_type": "stream",
     "text": [
      "Sperm Whale; Moby Dick; White Whale; old man; Captain Ahab; sperm\n",
      "whale; Right Whale; Captain Peleg; New Bedford; Cape Horn; cried Ahab;\n",
      "years ago; lower jaw; never mind; Father Mapple; cried Stubb; chief\n",
      "mate; white whale; ivory leg; one hand\n"
     ]
    }
   ],
   "source": [
    "text1.collocations()"
   ]
  },
  {
   "cell_type": "code",
   "execution_count": 63,
   "id": "c7635132",
   "metadata": {},
   "outputs": [
    {
     "name": "stdout",
     "output_type": "stream",
     "text": [
      "Colonel Brandon; Sir John; Lady Middleton; Miss Dashwood; every thing;\n",
      "thousand pounds; dare say; Miss Steeles; said Elinor; Miss Steele;\n",
      "every body; John Dashwood; great deal; Harley Street; Berkeley Street;\n",
      "Miss Dashwoods; young man; Combe Magna; every day; next morning\n"
     ]
    }
   ],
   "source": [
    "text2.collocations()"
   ]
  },
  {
   "cell_type": "code",
   "execution_count": 64,
   "id": "ae47abea",
   "metadata": {},
   "outputs": [
    {
     "name": "stdout",
     "output_type": "stream",
     "text": [
      "said unto; pray thee; thou shalt; thou hast; thy seed; years old;\n",
      "spake unto; thou art; LORD God; every living; God hath; begat sons;\n",
      "seven years; shalt thou; little ones; living creature; creeping thing;\n",
      "savoury meat; thirty years; every beast\n"
     ]
    }
   ],
   "source": [
    "text3.collocations()"
   ]
  },
  {
   "cell_type": "code",
   "execution_count": 65,
   "id": "311403b3",
   "metadata": {},
   "outputs": [
    {
     "name": "stdout",
     "output_type": "stream",
     "text": [
      "United States; fellow citizens; years ago; four years; Federal\n",
      "Government; General Government; American people; Vice President; God\n",
      "bless; Chief Justice; one another; fellow Americans; Old World;\n",
      "Almighty God; Fellow citizens; Chief Magistrate; every citizen; Indian\n",
      "tribes; public debt; foreign nations\n"
     ]
    }
   ],
   "source": [
    "text4.collocations()"
   ]
  },
  {
   "cell_type": "markdown",
   "id": "7ec20938",
   "metadata": {},
   "source": [
    "#### Bigrams\n",
    "<img src=\"./note.png\" width = \"\" height = \"\" alt=\"note\" align=left />\n",
    "\n",
    "A \"Bigram\" is a sequence of two adjacent elements from a string of tokens, which are typically letters, syllables, or words, with special meaning in language. \n",
    "Bigram is an important feature in NLP and hold a vital key in the understanding of semantic meaning of NLP. \n",
    "In NLP Theory, Bigram is considered as an N-gram for n=2. \n",
    "We will come back to this topic in the coming lecture. "
   ]
  },
  {
   "cell_type": "markdown",
   "id": "1bc51796",
   "metadata": {},
   "source": [
    "## 10.10 Summary\n",
    "\n",
    "In this first NLP workshop, we introduce one of the most important NLP Python-based implementation tools – NLTK. As mentioned, NLTK is not only a basic and well-developed NLP application tool, it is also the first well organize Python-based NLP tool for text analysis and the development of NLP applications for teaching and training purpose. In this workshop, we have introduced the basics of NLTK, ranging from installation procedures to the usage for basic Text Processing and Text Analysis in NLP such as the lexical dispersion plot, which is very useful for basic text analysis. Besides, we have discussed the basics of Tokenization in NLP using NLTK, which provides a solid foundation for the coming NLP workshops on parsing and semantic analysis. \n",
    "In the next NLP workshop, we will explore how NLTK is used for N-Gram generation. We will also introduce the second important NLP implementation – spaCy, and how it can be also be used for Tokenization and Text Analysis. \n"
   ]
  },
  {
   "cell_type": "code",
   "execution_count": null,
   "id": "e0c2f5c5",
   "metadata": {},
   "outputs": [],
   "source": []
  }
 ],
 "metadata": {
  "kernelspec": {
   "display_name": "Python 3 (ipykernel)",
   "language": "python",
   "name": "python3"
  },
  "language_info": {
   "codemirror_mode": {
    "name": "ipython",
    "version": 3
   },
   "file_extension": ".py",
   "mimetype": "text/x-python",
   "name": "python",
   "nbconvert_exporter": "python",
   "pygments_lexer": "ipython3",
   "version": "3.8.10"
  }
 },
 "nbformat": 4,
 "nbformat_minor": 5
}
